{
 "cells": [
  {
   "cell_type": "code",
   "execution_count": 2,
   "metadata": {},
   "outputs": [
    {
     "name": "stdout",
     "output_type": "stream",
     "text": [
      "This program draws an additional square on the screen\n",
      "at the point of click\n",
      "\n",
      "Click again to quit\n"
     ]
    }
   ],
   "source": [
    "#clickSquare.py\n",
    "#program to draw additional square on the screen at the point of click\n",
    "\n",
    "from graphics import *\n",
    "\n",
    "def main():\n",
    "    print(\"This program draws an additional square on the screen\")\n",
    "    print(\"at the point of click\")\n",
    "    print()\n",
    "    win = GraphWin(\"Click & Square\", 320, 240)\n",
    "    message = Text(Point(100, 30), \"Click and square\")\n",
    "    message.draw(win)\n",
    "    shape = Rectangle(Point(100, 100), Point(50, 50))\n",
    "    shape.setOutline(\"red\")\n",
    "    shape.setFill(\"red\")\n",
    "    shape.draw(win)\n",
    "    for i in range(10):\n",
    "        p = win.getMouse()\n",
    "        c = shape.getCenter()\n",
    "    message.setText(\"Click again to quit\")\n",
    "    print(\"Click again to quit\")\n",
    "    p = win.getMouse()\n",
    "    win.close()\n",
    "main()"
   ]
  }
 ],
 "metadata": {
  "kernelspec": {
   "display_name": "Python 3",
   "language": "python",
   "name": "python3"
  },
  "language_info": {
   "codemirror_mode": {
    "name": "ipython",
    "version": 3
   },
   "file_extension": ".py",
   "mimetype": "text/x-python",
   "name": "python",
   "nbconvert_exporter": "python",
   "pygments_lexer": "ipython3",
   "version": "3.7.6"
  }
 },
 "nbformat": 4,
 "nbformat_minor": 4
}
