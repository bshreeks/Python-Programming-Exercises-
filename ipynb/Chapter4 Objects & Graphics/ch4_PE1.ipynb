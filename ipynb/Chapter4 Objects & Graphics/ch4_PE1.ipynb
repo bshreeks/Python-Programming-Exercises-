{
 "cells": [
  {
   "cell_type": "code",
   "execution_count": 8,
   "metadata": {},
   "outputs": [
    {
     "name": "stdout",
     "output_type": "stream",
     "text": [
      "This program draws an additional square on the screen\n",
      "at the point of click\n",
      "\n",
      "Click again to quit\n"
     ]
    }
   ],
   "source": [
    "#clickSquare.py\n",
    "#program that draws additional squares with successive 10 clicks\n",
    "\n",
    "from graphics import *\n",
    "\n",
    "def main():\n",
    "    print(\"This program draws additional squares on the screen\")\n",
    "    print(\"with successive 10 clicks\")\n",
    "    print()\n",
    "    win = GraphWin(\"Click & Square\", 320, 240)\n",
    "    message = Text(Point(100, 30), \"Click and square\")\n",
    "    message.draw(win)\n",
    "    shape = Rectangle(Point(100, 100), Point(50, 50))\n",
    "    shape.setOutline(\"red\")\n",
    "    shape.setFill(\"red\")\n",
    "    shape.draw(win)\n",
    "    for i in range(10):\n",
    "        p = win.getMouse()\n",
    "        c = shape.getCenter()\n",
    "        dx = p.getX() - c.getX()\n",
    "        dy = p.getY() - c.getY()\n",
    "        d = shape.clone()\n",
    "        d.move(dx,dy)\n",
    "        d.draw(win)\n",
    "    message.setText(\"Click again to quit\")\n",
    "    print(\"Click again to quit\")\n",
    "    p = win.getMouse()\n",
    "    win.close()\n",
    "main()"
   ]
  }
 ],
 "metadata": {
  "kernelspec": {
   "display_name": "Python 3",
   "language": "python",
   "name": "python3"
  },
  "language_info": {
   "codemirror_mode": {
    "name": "ipython",
    "version": 3
   },
   "file_extension": ".py",
   "mimetype": "text/x-python",
   "name": "python",
   "nbconvert_exporter": "python",
   "pygments_lexer": "ipython3",
   "version": "3.7.6"
  }
 },
 "nbformat": 4,
 "nbformat_minor": 4
}
