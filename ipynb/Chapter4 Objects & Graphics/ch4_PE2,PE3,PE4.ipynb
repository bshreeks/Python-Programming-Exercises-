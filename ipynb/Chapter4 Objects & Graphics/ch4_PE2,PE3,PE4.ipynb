{
 "cells": [
  {
   "cell_type": "code",
   "execution_count": 3,
   "metadata": {},
   "outputs": [
    {
     "name": "stdout",
     "output_type": "stream",
     "text": [
      "This program draws an archery target consisting of\n",
      "central circle of yellow, surrounded by red, blue,\n",
      "black and white each width same as the radius of yellow\n",
      "circle\n",
      "\n"
     ]
    }
   ],
   "source": [
    "#archery.py\n",
    "#program to draw an archery target consisting of central\n",
    "#circle of yellow, surrounded by red, blue, black & white\n",
    "#each width same as the radius of yellow circle\n",
    "\n",
    "from graphics import *\n",
    "def main():\n",
    "    print(\"This program draws an archery target consisting of\")\n",
    "    print(\"central circle of yellow, surrounded by red, blue,\")\n",
    "    print(\"black and white each width same as the radius of yellow\")\n",
    "    print(\"circle\\n\")\n",
    "    win = GraphWin(\"Archery\", 320, 240)\n",
    "    message = Text(Point(100, 2), \"Archery\")\n",
    "    message.draw(win)\n",
    "    white = Circle(Point(50,50), 250)\n",
    "    white.setFill(\"white\")\n",
    "    white.draw(win)\n",
    "    black = Circle(Point(50,50), 200)\n",
    "    black.setFill(\"black\")\n",
    "    black.draw(win)\n",
    "    blue = Circle(Point(50,50), 150)\n",
    "    blue.setFill(\"blue\")\n",
    "    blue.draw(win)\n",
    "    red = Circle(Point(50,50), 100)\n",
    "    red.setFill(\"red\")\n",
    "    red.draw(win)\n",
    "    yellow = Circle(Point(50,50), 50)\n",
    "    yellow.setFill(\"yellow\")\n",
    "    yellow.draw(win)\n",
    "    win.getMouse()\n",
    "    win.close()\n",
    "main()"
   ]
  },
  {
   "cell_type": "code",
   "execution_count": 4,
   "metadata": {},
   "outputs": [
    {
     "name": "stdout",
     "output_type": "stream",
     "text": [
      "This program draws some sort of face\n"
     ]
    }
   ],
   "source": [
    "#face.py\n",
    "#program to draw some sort of face\n",
    "\n",
    "from graphics import *\n",
    "def main():\n",
    "    print(\"This program draws some sort of face\")\n",
    "    win = GraphWin(\"Face\")\n",
    "    face = Circle(Point(50, 50), 50)\n",
    "    face.setFill(\"yellow\")\n",
    "    face.setOutline(\"black\")\n",
    "    face.draw(win)\n",
    "    lefteye = Circle(Point(30,30), 5)\n",
    "    lefteye.setFill(\"black\")\n",
    "    lefteye.draw(win)\n",
    "    righteye = lefteye.clone()\n",
    "    righteye.move(40, 0)\n",
    "    righteye.setFill(\"black\")\n",
    "    righteye.draw(win)\n",
    "    mouth = Line(Point(40,70), Point(60, 70))\n",
    "    mouth.setFill(\"black\")\n",
    "    mouth.draw(win)\n",
    "    win.getMouse()\n",
    "    win.close()\n",
    "main()"
   ]
  },
  {
   "cell_type": "code",
   "execution_count": 1,
   "metadata": {},
   "outputs": [
    {
     "name": "stdout",
     "output_type": "stream",
     "text": [
      "This program draws a winter seen with christmass tree and a snow man\n",
      "\n"
     ]
    }
   ],
   "source": [
    "#winterSeen.py\n",
    "#program to draw a winter seen with christmass tree and a snow man\n",
    "\n",
    "from graphics import *\n",
    "def main():\n",
    "    print(\"This program draws a winter seen with christmass tree and a snow man\")\n",
    "    print()\n",
    "    win = GraphWin(\"Christmass Scene\", 320, 240)\n",
    "    tree_1 = Polygon(Point(1, 100), Point(21, 100), Point(11, 70))\n",
    "    tree_1.setFill(\"green\")\n",
    "    tree_1.draw(win)\n",
    "    tree_2 = Polygon(Point(7, 75), Point(15, 75), Point(11, 55))\n",
    "    tree_2.setFill(\"green\")\n",
    "    tree_2.draw(win)\n",
    "    tree_3 = Polygon(Point(10, 60), Point(12, 60), Point(11, 30))\n",
    "    tree_3.setFill(\"green\")\n",
    "    tree_3.draw(win)\n",
    "    tree_4 = Line(Point(11, 100), Point(11,130))\n",
    "    tree_4.setWidth(5)\n",
    "    tree_4.setFill(\"brown\")\n",
    "    tree_4.draw(win)\n",
    "    face = Circle(Point(150, 60), 40)\n",
    "    face.setFill(\"white\")\n",
    "    face.setOutline(\"black\")\n",
    "    face.draw(win)\n",
    "    lefteye = Circle(Point(130,40), 4)\n",
    "    lefteye.setFill(\"black\")\n",
    "    lefteye.draw(win)\n",
    "    righteye = lefteye.clone()\n",
    "    righteye.move(40, 0)\n",
    "    righteye.setFill(\"black\")\n",
    "    righteye.draw(win)\n",
    "    mouth = Line(Point(130,80), Point(170, 80))\n",
    "    mouth.setFill(\"black\")\n",
    "    mouth.draw(win)\n",
    "    nose = Polygon(Point(145, 55), Point(150, 65), Point(155, 55))\n",
    "    nose.setFill(\"orange\")\n",
    "    nose.draw(win)\n",
    "    body = Circle(Point(150, 160), 60)\n",
    "    body.setFill(\"white\")\n",
    "    body.setOutline(\"black\")\n",
    "    body.draw(win)\n",
    "    win.getMouse()\n",
    "    win.close()\n",
    "main()    "
   ]
  }
 ],
 "metadata": {
  "kernelspec": {
   "display_name": "Python 3",
   "language": "python",
   "name": "python3"
  },
  "language_info": {
   "codemirror_mode": {
    "name": "ipython",
    "version": 3
   },
   "file_extension": ".py",
   "mimetype": "text/x-python",
   "name": "python",
   "nbconvert_exporter": "python",
   "pygments_lexer": "ipython3",
   "version": "3.7.6"
  }
 },
 "nbformat": 4,
 "nbformat_minor": 4
}
