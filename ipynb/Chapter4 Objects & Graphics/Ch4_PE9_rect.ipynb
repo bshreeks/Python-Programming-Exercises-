{
 "cells": [
  {
   "cell_type": "code",
   "execution_count": 1,
   "metadata": {},
   "outputs": [
    {
     "name": "stdout",
     "output_type": "stream",
     "text": [
      "This program displays an information about a rectangle\n",
      "dawn by the user with 2 mouse clicks\n",
      "\n",
      "Area: 15.99\n",
      "Perimeter: 16.2\n"
     ]
    }
   ],
   "source": [
    "#rectangle.py\n",
    "#program to draw a rectangle with mouse clicks & display it's information\n",
    "\n",
    "from graphics import *\n",
    "\n",
    "def main():\n",
    "    print(\"This program displays an information about a rectangle\")\n",
    "    print(\"dawn by the user with 2 mouse clicks\\n\")\n",
    "    win = GraphWin('Rectangle Information', 400, 300)\n",
    "    win.setCoords(0.0, 0.0, 10.0, 10.0)\n",
    "    \n",
    "    P1 = win.getMouse()\n",
    "    P2 = win.getMouse()\n",
    "    \n",
    "    x1 = P1.getX()\n",
    "    x2 = P2.getX()\n",
    "    y1 = P1.getY()\n",
    "    y2 = P2.getY()\n",
    "    \n",
    "    rectangle = Rectangle(Point(x1,y1), Point(x2,y2))\n",
    "    rectangle.draw(win)\n",
    "    \n",
    "    outputText1 = Text(Point(2.0, 9.0), '')\n",
    "    outputText1.draw(win)\n",
    "    outputText2 = Text(Point(5.0, 9.0), '')\n",
    "    outputText2.draw(win)\n",
    "    \n",
    "    L = abs(y2 - y1)\n",
    "    W = abs(x2 -x1)\n",
    "    \n",
    "    area = L * W\n",
    "    perimeter = 2*(L+W)\n",
    "    print('Area:', round(area,2))\n",
    "    print('Perimeter:', round(perimeter,2))\n",
    "    \n",
    "    outputText1.setText(round(area,2))\n",
    "    outputText2.setText(round(perimeter,2))\n",
    "    \n",
    "    win.getMouse()\n",
    "    win.close()\n",
    "    \n",
    "main()"
   ]
  }
 ],
 "metadata": {
  "kernelspec": {
   "display_name": "Python 3",
   "language": "python",
   "name": "python3"
  },
  "language_info": {
   "codemirror_mode": {
    "name": "ipython",
    "version": 3
   },
   "file_extension": ".py",
   "mimetype": "text/x-python",
   "name": "python",
   "nbconvert_exporter": "python",
   "pygments_lexer": "ipython3",
   "version": "3.7.6"
  }
 },
 "nbformat": 4,
 "nbformat_minor": 4
}
