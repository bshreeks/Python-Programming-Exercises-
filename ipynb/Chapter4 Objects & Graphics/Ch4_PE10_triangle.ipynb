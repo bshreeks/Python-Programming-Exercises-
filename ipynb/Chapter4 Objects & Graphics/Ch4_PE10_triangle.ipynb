{
 "cells": [
  {
   "cell_type": "code",
   "execution_count": 1,
   "metadata": {},
   "outputs": [
    {
     "name": "stdout",
     "output_type": "stream",
     "text": [
      "This program draws a triangle with three clicks\n",
      "and displays it's information\n",
      "\n",
      "Perimeter 570.41\n",
      "Area: 14756.0\n"
     ]
    }
   ],
   "source": [
    "#triangle.py\n",
    "#program to draw a triangle with three clicks & display information\n",
    "\n",
    "from graphics import *\n",
    "import math\n",
    "\n",
    "def main():\n",
    "    print(\"This program draws a triangle with three clicks\")\n",
    "    print(\"and displays it's information\\n\")\n",
    "    win = GraphWin('Triangle Information', 400, 300)\n",
    "    win.coords(0.0, 0.0, 10.0, 10.0)\n",
    "    \n",
    "    P1 = win.getMouse()\n",
    "    P2 = win.getMouse()\n",
    "    P3 = win.getMouse()\n",
    "    \n",
    "    x1 = P1.getX()\n",
    "    y1 = P1.getY()\n",
    "    x2 = P2.getX()\n",
    "    y2 = P2.getY()\n",
    "    x3 = P3.getX()\n",
    "    y3 = P3.getY()\n",
    "    \n",
    "    L1 = Line(Point(x1,y1), Point(x2,y2))\n",
    "    L1.draw(win)\n",
    "    L2 = Line(Point(x2,y2), Point(x3,y3))\n",
    "    L2.draw(win)\n",
    "    L3 = Line(Point(x3,y3), Point(x1,y1))\n",
    "    L3.draw(win)\n",
    "    \n",
    "    a = math.sqrt((x2-x1)**2 + (y2-y1)**2)\n",
    "    b = math.sqrt((x3-x2)**2 + (y3-y2)**2)\n",
    "    c = math.sqrt((x1-x3)**2 + (y1-y3)**2)    \n",
    "    s = (a+b+c)/2\n",
    "    perimeter = a+b+c\n",
    "    area = math.sqrt(s*(s-a)*(s-b)*(s-c))\n",
    "    \n",
    "    print(\"Perimeter\", round(perimeter,2))\n",
    "    print(\"Area:\", round(area,2))\n",
    "    \n",
    "    win.getMouse()\n",
    "    win.close()\n",
    "\n",
    "main()    "
   ]
  }
 ],
 "metadata": {
  "kernelspec": {
   "display_name": "Python 3",
   "language": "python",
   "name": "python3"
  },
  "language_info": {
   "codemirror_mode": {
    "name": "ipython",
    "version": 3
   },
   "file_extension": ".py",
   "mimetype": "text/x-python",
   "name": "python",
   "nbconvert_exporter": "python",
   "pygments_lexer": "ipython3",
   "version": "3.7.6"
  }
 },
 "nbformat": 4,
 "nbformat_minor": 4
}
