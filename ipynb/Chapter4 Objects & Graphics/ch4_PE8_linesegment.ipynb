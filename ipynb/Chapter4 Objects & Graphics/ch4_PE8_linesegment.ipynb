{
 "cells": [
  {
   "cell_type": "code",
   "execution_count": 5,
   "metadata": {},
   "outputs": [
    {
     "name": "stdout",
     "output_type": "stream",
     "text": [
      "This program calculates the length and slope of a given line\n",
      "\n",
      "Length of the line: 7.05 Slope of the line: 0.43\n"
     ]
    }
   ],
   "source": [
    "#linesegment.py\n",
    "#program to calculate the length and slope of a line\n",
    "\n",
    "import math\n",
    "from graphics import *\n",
    "\n",
    "def main():\n",
    "    print(\"This program calculates the length and slope of a given line\\n\")\n",
    "    win = GraphWin('Line Segment', 400, 300)\n",
    "    win.setCoords(0.0,0.0,10.0,10.0)\n",
    "    \n",
    "    p1 = win.getMouse()\n",
    "    p2 = win.getMouse()\n",
    "    \n",
    "    x1 = p1.getX()\n",
    "    x2 = p2.getX()\n",
    "    y1 = p1.getY()\n",
    "    y2 = p2.getY()\n",
    "    \n",
    "    dx = x2 - x1\n",
    "    dy = y2 - y1\n",
    "    slope = dy / dx\n",
    "    L = math.sqrt(dx*dx + dy*dy)\n",
    "    \n",
    "    line = Line(Point(x1,y1), Point(x2,y2))\n",
    "    line.draw(win)\n",
    "    win.plot((x2 - x1)/2, (y2 - y1)/2, 'cyan')\n",
    "    print(\"Length of the line:\",round(L,2), \"Slope of the line:\",round(slope,2))\n",
    "    \n",
    "    win.getMouse()\n",
    "    win.close()\n",
    "    \n",
    "main()"
   ]
  }
 ],
 "metadata": {
  "kernelspec": {
   "display_name": "Python 3",
   "language": "python",
   "name": "python3"
  },
  "language_info": {
   "codemirror_mode": {
    "name": "ipython",
    "version": 3
   },
   "file_extension": ".py",
   "mimetype": "text/x-python",
   "name": "python",
   "nbconvert_exporter": "python",
   "pygments_lexer": "ipython3",
   "version": "3.7.6"
  }
 },
 "nbformat": 4,
 "nbformat_minor": 4
}
