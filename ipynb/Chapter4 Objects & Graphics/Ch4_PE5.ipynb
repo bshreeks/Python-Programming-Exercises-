{
 "cells": [
  {
   "cell_type": "code",
   "execution_count": 9,
   "metadata": {
    "scrolled": true
   },
   "outputs": [
    {
     "name": "stdout",
     "output_type": "stream",
     "text": [
      "This program draws five dice on the screen depicting a linear 1,2,3,4,5\n",
      "\n"
     ]
    }
   ],
   "source": [
    "#dice.py\n",
    "#program to draw five dice on the screen depicting a linear 1, 2, 3, 4, 5\n",
    "\n",
    "from graphics import *\n",
    "\n",
    "def main():\n",
    "    print(\"This program draws five dice on the screen depicting a linear 1,2,3,4,5\\n\")\n",
    "    win = GraphWin(\"Five Dice\", 320, 240)\n",
    "    win.setCoords(0.0, 0.0, 10.0, 10.0)\n",
    "    one = Rectangle(Point(1,1), Point(2,2))\n",
    "    one.draw(win)\n",
    "    centPnt1=one.getCenter()\n",
    "    Text(centPnt1, \"1\").draw(win)\n",
    "    two = Rectangle(Point(3,3), Point(4,4))\n",
    "    two.draw(win)\n",
    "    centPnt2=two.getCenter()\n",
    "    Text(centPnt2, \"2\").draw(win)\n",
    "    three = Rectangle(Point(5,5), Point(6,6))\n",
    "    three.draw(win)\n",
    "    centPnt3=three.getCenter()\n",
    "    Text(centPnt3, \"3\").draw(win)\n",
    "    four = Rectangle(Point(7,7), Point(8,8))\n",
    "    four.draw(win)\n",
    "    centPnt4=four.getCenter()\n",
    "    Text(centPnt4, \"4\").draw(win)\n",
    "    five = Rectangle(Point(9,9), Point(10,10))\n",
    "    five.draw(win)\n",
    "    centPnt5=five.getCenter()\n",
    "    Text(centPnt5, \"5\").draw(win)\n",
    "    win.getMouse()\n",
    "    win.close()\n",
    "main()    "
   ]
  },
  {
   "cell_type": "code",
   "execution_count": 11,
   "metadata": {},
   "outputs": [
    {
     "name": "stdout",
     "output_type": "stream",
     "text": [
      "This program draws five dice on the screen depicting a horizontally straight 1, 2, 3, 4, 5\n",
      "\n"
     ]
    }
   ],
   "source": [
    "#dice.py\n",
    "#program to draw five dice on the screen depicting a horizontally straight 1, 2, 3, 4, 5\n",
    "\n",
    "from graphics import *\n",
    "\n",
    "def main():\n",
    "    print(\"This program draws five dice on the screen depicting a horizontally straight 1, 2, 3, 4, 5\\n\")\n",
    "    win = GraphWin(\"Five Dice\", 320, 240)\n",
    "    win.setCoords(0.0, 0.0, 10.0, 10.0)\n",
    "    one = Rectangle(Point(1,5), Point(2,6))\n",
    "    one.draw(win)\n",
    "    centPnt1=one.getCenter()\n",
    "    Text(centPnt1, \"1\").draw(win)\n",
    "    two = Rectangle(Point(3,5), Point(4,6))\n",
    "    two.draw(win)\n",
    "    centPnt2=two.getCenter()\n",
    "    Text(centPnt2, \"2\").draw(win)\n",
    "    three = Rectangle(Point(5,5), Point(6,6))\n",
    "    three.draw(win)\n",
    "    centPnt3=three.getCenter()\n",
    "    Text(centPnt3, \"3\").draw(win)\n",
    "    four = Rectangle(Point(7,5), Point(8,6))\n",
    "    four.draw(win)\n",
    "    centPnt4=four.getCenter()\n",
    "    Text(centPnt4, \"4\").draw(win)\n",
    "    five = Rectangle(Point(9,5), Point(10,6))\n",
    "    five.draw(win)\n",
    "    centPnt5=five.getCenter()\n",
    "    Text(centPnt5, \"5\").draw(win)\n",
    "    win.getMouse()\n",
    "    win.close()\n",
    "main()    "
   ]
  }
 ],
 "metadata": {
  "kernelspec": {
   "display_name": "Python 3",
   "language": "python",
   "name": "python3"
  },
  "language_info": {
   "codemirror_mode": {
    "name": "ipython",
    "version": 3
   },
   "file_extension": ".py",
   "mimetype": "text/x-python",
   "name": "python",
   "nbconvert_exporter": "python",
   "pygments_lexer": "ipython3",
   "version": "3.7.6"
  }
 },
 "nbformat": 4,
 "nbformat_minor": 4
}
