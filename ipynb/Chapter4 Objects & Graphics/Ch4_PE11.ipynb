{
 "cells": [
  {
   "cell_type": "code",
   "execution_count": 6,
   "metadata": {},
   "outputs": [
    {
     "name": "stdout",
     "output_type": "stream",
     "text": [
      "This program draws a simple house with five clicks\n",
      "\n"
     ]
    }
   ],
   "source": [
    "#FiveClickHouse.py\n",
    "#program to draw a simple house using just five clicks\n",
    "\n",
    "import math\n",
    "from graphics import *\n",
    "\n",
    "def main():\n",
    "    print(\"This program draws a simple house with five clicks\\n\")\n",
    "    win = GraphWin(\"Five Click House\", 320, 240)\n",
    "    win.setCoords(0.0, 0.0, 10.0, 10.0)\n",
    "\n",
    "    #drawing rectangle(walls of the house)\n",
    "    P1 = win.getMouse()\n",
    "    P2 = win.getMouse()\n",
    "    x1 = P1.getX()\n",
    "    x2 = P2.getX()\n",
    "    y1 = P1.getY()\n",
    "    y2 = P2.getY()\n",
    "    W = abs(x2 -x1)\n",
    "    rectangle = Rectangle(Point(x1,y1), Point(x2,y2))\n",
    "    rectangle.draw(win) \n",
    "\n",
    "    #drawing the door of the house\n",
    "    P3 = win.getMouse()\n",
    "    x3 = P3.getX()\n",
    "    y3 = P3.getY()\n",
    "    W1 = (1/10) * W\n",
    "    L1 = Line(Point(x3, y3), Point(x3-W1, y3)) \n",
    "    L2 = Line (Point(x3, y3), Point(x3+W1, y3))\n",
    "    L1.draw(win)\n",
    "    L2.draw(win)\n",
    "    L3 = Line(Point(x3-W1, y3), Point(x3-W1, y1))\n",
    "    L4 = Line(Point(x3+W1, y3), Point(x3+W1, y1))\n",
    "    L3.draw(win)\n",
    "    L4.draw(win)\n",
    "    \n",
    "    #drawing a window\n",
    "    P4 = win.getMouse()\n",
    "    x4 = P4.getX()\n",
    "    y4 = P4.getY()\n",
    "    W2 = (1/20) * W\n",
    "    window = Rectangle(Point(x4-W2, y4-W2), Point(x4+W2, y4+W2))\n",
    "    window.draw(win)\n",
    "    \n",
    "    #drawing a triangle(roof of the house)\n",
    "    P5 = win.getMouse()\n",
    "    x5 = P5.getX()\n",
    "    y5 = P5.getY()\n",
    "    L5 = Line(Point(x5,y5), Point(x1,y2))\n",
    "    L6 = Line(Point(x5,y5), Point(x2, y2))\n",
    "    L5.draw(win)\n",
    "    L6.draw(win)\n",
    "    \n",
    "    win.getMouse()\n",
    "    win.close()\n",
    "main()    "
   ]
  }
 ],
 "metadata": {
  "kernelspec": {
   "display_name": "Python 3",
   "language": "python",
   "name": "python3"
  },
  "language_info": {
   "codemirror_mode": {
    "name": "ipython",
    "version": 3
   },
   "file_extension": ".py",
   "mimetype": "text/x-python",
   "name": "python",
   "nbconvert_exporter": "python",
   "pygments_lexer": "ipython3",
   "version": "3.7.6"
  }
 },
 "nbformat": 4,
 "nbformat_minor": 4
}
