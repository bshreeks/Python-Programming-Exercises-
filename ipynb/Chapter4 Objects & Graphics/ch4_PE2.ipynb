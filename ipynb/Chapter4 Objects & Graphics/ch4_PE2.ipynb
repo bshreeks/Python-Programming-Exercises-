{
 "cells": [
  {
   "cell_type": "code",
   "execution_count": 1,
   "metadata": {},
   "outputs": [
    {
     "name": "stdout",
     "output_type": "stream",
     "text": [
      "This program draws an archery target consisting of\n",
      "central circle of yellow, surrounded by red, blue,\n",
      "black and white wih width of each target same as the radius of yellow\n",
      "circle\n",
      "\n"
     ]
    }
   ],
   "source": [
    "#archery.py\n",
    "#program to draw an archery target consisting of central\n",
    "#circle of yellow, surrounded by red, blue, black & white\n",
    "#with width of each target same as the radius of yellow circle\n",
    "\n",
    "from graphics import *\n",
    "def main():\n",
    "    print(\"This program draws an archery target consisting of\")\n",
    "    print(\"central circle of yellow, surrounded by red, blue,\")\n",
    "    print(\"black and white wih width of each target same as the radius of yellow\")\n",
    "    print(\"circle\\n\")\n",
    "    win = GraphWin(\"Archery\", 320, 240)\n",
    "    message = Text(Point(100, 2), \"Archery\")\n",
    "    message.draw(win)\n",
    "    white = Circle(Point(50,50), 250)\n",
    "    white.setFill(\"white\")\n",
    "    white.draw(win)\n",
    "    black = Circle(Point(50,50), 200)\n",
    "    black.setFill(\"black\")\n",
    "    black.draw(win)\n",
    "    blue = Circle(Point(50,50), 150)\n",
    "    blue.setFill(\"blue\")\n",
    "    blue.draw(win)\n",
    "    red = Circle(Point(50,50), 100)\n",
    "    red.setFill(\"red\")\n",
    "    red.draw(win)\n",
    "    yellow = Circle(Point(50,50), 50)\n",
    "    yellow.setFill(\"yellow\")\n",
    "    yellow.draw(win)\n",
    "    win.getMouse()\n",
    "    win.close()\n",
    "main()"
   ]
  }
 ],
 "metadata": {
  "kernelspec": {
   "display_name": "Python 3",
   "language": "python",
   "name": "python3"
  },
  "language_info": {
   "codemirror_mode": {
    "name": "ipython",
    "version": 3
   },
   "file_extension": ".py",
   "mimetype": "text/x-python",
   "name": "python",
   "nbconvert_exporter": "python",
   "pygments_lexer": "ipython3",
   "version": "3.7.6"
  }
 },
 "nbformat": 4,
 "nbformat_minor": 4
}
