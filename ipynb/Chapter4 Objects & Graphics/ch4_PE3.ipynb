{
 "cells": [
  {
   "cell_type": "code",
   "execution_count": 1,
   "metadata": {},
   "outputs": [
    {
     "name": "stdout",
     "output_type": "stream",
     "text": [
      "This program draws some sort of face\n"
     ]
    }
   ],
   "source": [
    "#face.py\n",
    "#program to draw some sort of face\n",
    "\n",
    "from graphics import *\n",
    "def main():\n",
    "    print(\"This program draws some sort of face\")\n",
    "    win = GraphWin(\"Face\")\n",
    "    face = Circle(Point(50, 50), 50)\n",
    "    face.setFill(\"yellow\")\n",
    "    face.setOutline(\"black\")\n",
    "    face.draw(win)\n",
    "    lefteye = Circle(Point(30,30), 5)\n",
    "    lefteye.setFill(\"black\")\n",
    "    lefteye.draw(win)\n",
    "    righteye = lefteye.clone()\n",
    "    righteye.move(40, 0)\n",
    "    righteye.setFill(\"black\")\n",
    "    righteye.draw(win)\n",
    "    mouth = Line(Point(40,70), Point(60, 70))\n",
    "    mouth.setFill(\"black\")\n",
    "    mouth.draw(win)\n",
    "    win.getMouse()\n",
    "    win.close()\n",
    "main()"
   ]
  }
 ],
 "metadata": {
  "kernelspec": {
   "display_name": "Python 3",
   "language": "python",
   "name": "python3"
  },
  "language_info": {
   "codemirror_mode": {
    "name": "ipython",
    "version": 3
   },
   "file_extension": ".py",
   "mimetype": "text/x-python",
   "name": "python",
   "nbconvert_exporter": "python",
   "pygments_lexer": "ipython3",
   "version": "3.7.6"
  }
 },
 "nbformat": 4,
 "nbformat_minor": 4
}
