{
 "cells": [
  {
   "cell_type": "code",
   "execution_count": 1,
   "metadata": {},
   "outputs": [
    {
     "name": "stdout",
     "output_type": "stream",
     "text": [
      "This program calculates future value in a graphical fashion\n"
     ]
    }
   ],
   "source": [
    "#fut_val.py\n",
    "#program to calculating future value in a graphical fashion\n",
    "\n",
    "from graphics import *\n",
    "def main():\n",
    "    print(\"This program calculates future value in a graphical fashion\")\n",
    "    win = GraphWin(\"Future Value\", 400, 300)\n",
    "    win.setCoords(0.0, 0.0, 3.0, 4.0)\n",
    "    \n",
    "    Text(Point(1, 3.75), \"principal: \").draw(win)\n",
    "    Text(Point(1, 3), \"apr: \").draw(win)\n",
    "    Text(Point(1, 2.25), \"years: \").draw(win)\n",
    "    Text(Point(1, 0.75), \"pincipal: \").draw(win)\n",
    "    inputText_1 = Entry(Point(2.25, 3.75), 5)\n",
    "    inputText_1.setText(\"0\")\n",
    "    inputText_1.draw(win)\n",
    "    inputText_2 = Entry(Point(2.25, 3), 5)\n",
    "    inputText_2.setText(\"0\")\n",
    "    inputText_2.draw(win)\n",
    "    inputText_3 = Entry(Point(2.25, 2.25), 5)\n",
    "    inputText_3.setText(\"0\")\n",
    "    inputText_3.draw(win)\n",
    "    outputText = Text(Point(2.25, 0.75), \"\")\n",
    "    outputText.draw(win)\n",
    "    button = Text(Point(1.5, 1.5), \"Convert It\")\n",
    "    button.draw(win)\n",
    "    Rectangle(Point(1, 1), Point(2, 2)).draw(win)\n",
    "    \n",
    "    win.getMouse()\n",
    "    \n",
    "    principal = int(inputText_1.getText())\n",
    "    apr = float(inputText_2.getText())\n",
    "    years = int(inputText_3.getText())\n",
    "    for i in range(years):\n",
    "        principal = principal * (1+apr)\n",
    "        \n",
    "    outputText.setText(round(principal, 2))\n",
    "    button.setText(\"Quit\")\n",
    "    \n",
    "    win.getMouse()\n",
    "    win.close()\n",
    "    \n",
    "main()"
   ]
  }
 ],
 "metadata": {
  "kernelspec": {
   "display_name": "Python 3",
   "language": "python",
   "name": "python3"
  },
  "language_info": {
   "codemirror_mode": {
    "name": "ipython",
    "version": 3
   },
   "file_extension": ".py",
   "mimetype": "text/x-python",
   "name": "python",
   "nbconvert_exporter": "python",
   "pygments_lexer": "ipython3",
   "version": "3.7.6"
  }
 },
 "nbformat": 4,
 "nbformat_minor": 4
}
