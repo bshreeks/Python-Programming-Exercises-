{
 "cells": [
  {
   "cell_type": "code",
   "execution_count": 15,
   "metadata": {},
   "outputs": [
    {
     "name": "stdout",
     "output_type": "stream",
     "text": [
      "This program accepts person's age and year of citizenship as\n",
      "input and outputs his/her eligibility for Senate & House\n",
      "\n",
      "Enter the age: 33\n",
      "Enter the years of citizenship: 7\n",
      "Eligible to be US House Representative\n"
     ]
    }
   ],
   "source": [
    "#US_senate_house.py\n",
    "#program that accepts a person's age and years of citizenship\n",
    "#as input and outputs their eligibility for the Senate & House\n",
    "\n",
    "def main():\n",
    "    print(\"This program accepts person's age and year of citizenship as\")\n",
    "    print(\"input and outputs his/her eligibility for Senate & House\\n\")\n",
    "    \n",
    "    age = eval(input(\"Enter the age: \"))\n",
    "    citizenship = eval(input(\"Enter the years of citizenship: \"))\n",
    "    \n",
    "    if age < 25:\n",
    "        print(\"Not eligible for Senator or House Representative\")\n",
    "        \n",
    "    elif citizenship < 7:\n",
    "        print(\"Not eligible for Senator or House Representative\")\n",
    "    \n",
    "    elif age >= 25:\n",
    "        if citizenship >= 7:\n",
    "            print(\"Eligible to be US House Representative\")\n",
    "            \n",
    "    elif age >= 30:\n",
    "        if citizenship >= 9:\n",
    "            print(\"Eligible to be US Senator\")\n",
    "main()"
   ]
  }
 ],
 "metadata": {
  "kernelspec": {
   "display_name": "Python 3",
   "language": "python",
   "name": "python3"
  },
  "language_info": {
   "codemirror_mode": {
    "name": "ipython",
    "version": 3
   },
   "file_extension": ".py",
   "mimetype": "text/x-python",
   "name": "python",
   "nbconvert_exporter": "python",
   "pygments_lexer": "ipython3",
   "version": "3.7.6"
  }
 },
 "nbformat": 4,
 "nbformat_minor": 4
}
