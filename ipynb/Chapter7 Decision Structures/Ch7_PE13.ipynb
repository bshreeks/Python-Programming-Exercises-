{
 "cells": [
  {
   "cell_type": "code",
   "execution_count": 13,
   "metadata": {},
   "outputs": [
    {
     "name": "stdout",
     "output_type": "stream",
     "text": [
      "This program accepts a date in the form month/day/year, verifies if the\n",
      "date is valid and calculates the corresponding day number\n",
      "\n",
      "Enter a date in the form month/day/year :4/31/2022\n",
      "Invalid date\n"
     ]
    }
   ],
   "source": [
    "#days_of_year.py\n",
    "#prgram that accepts a date in the form month/day/year, \n",
    "#verifies if the date is valid and calculates the corresponding\n",
    "#day number\n",
    "\n",
    "def is_leapYear(year):\n",
    "    if year % 4 == 0:\n",
    "        if year % 400 == 0:\n",
    "            return True\n",
    "        elif year % 400 != 0:\n",
    "            return False\n",
    "    else:\n",
    "        return False\n",
    "\n",
    "    \n",
    "def valid_date(month, day, year):\n",
    "    if 1 <= month <= 7:\n",
    "        if month % 2 != 0 and day <= 31:\n",
    "            return True\n",
    "        elif month == 2:\n",
    "            if is_leapYear==False and day <= 28:\n",
    "                return True\n",
    "            elif is_leapYear==True and day <= 29:\n",
    "                return True\n",
    "        elif month % 2 == 0 and day <= 30:\n",
    "            return True\n",
    "        else:\n",
    "            return False\n",
    "            \n",
    "    elif 8 <= month <= 12:\n",
    "        if month % 2 == 0 and day <= 31:\n",
    "            return True\n",
    "        elif month % 2 != 0 and day <= 30:\n",
    "            return True\n",
    "        else:\n",
    "            return False\n",
    "            \n",
    "    else:\n",
    "        return False\n",
    "    \n",
    "\n",
    "        \n",
    "def main():\n",
    "    print(\"This program accepts a date in the form month/day/year, verifies if the\")\n",
    "    print(\"date is valid and calculates the corresponding day number\\n\")\n",
    "    \n",
    "    date = str(input(\"Enter a date in the form month/day/year :\"))\n",
    "    month, day, year = date.split(\"/\")\n",
    "    month = int(month)\n",
    "    day = int(day)\n",
    "    year = int(year)\n",
    "    \n",
    "    if valid_date(month,day,year)== False:\n",
    "        print(\"Invalid date\")\n",
    "            \n",
    "    elif valid_date(month,day,year)==True:\n",
    "        dayNum = 31*(month -1) + day\n",
    "        if month >= 2:\n",
    "            if is_leapYear(year)== True:\n",
    "                dayNum = dayNum + 1\n",
    "            elif is_leapYear(year) == False:\n",
    "                dayNum = dayNum - (4*(month) + 23) // 10\n",
    "        else:\n",
    "            dayNum = 31*(month -1) + day\n",
    "        print(dayNum)            \n",
    "main()            "
   ]
  }
 ],
 "metadata": {
  "kernelspec": {
   "display_name": "Python 3",
   "language": "python",
   "name": "python3"
  },
  "language_info": {
   "codemirror_mode": {
    "name": "ipython",
    "version": 3
   },
   "file_extension": ".py",
   "mimetype": "text/x-python",
   "name": "python",
   "nbconvert_exporter": "python",
   "pygments_lexer": "ipython3",
   "version": "3.7.6"
  }
 },
 "nbformat": 4,
 "nbformat_minor": 4
}
