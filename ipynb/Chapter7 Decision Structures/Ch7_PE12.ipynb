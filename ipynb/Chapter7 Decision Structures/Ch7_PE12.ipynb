{
 "cells": [
  {
   "cell_type": "code",
   "execution_count": 4,
   "metadata": {},
   "outputs": [
    {
     "name": "stdout",
     "output_type": "stream",
     "text": [
      "This program accepts a date in the form month/day/year and\n",
      "outputs whether or not date is valid\n",
      "\n",
      "Enter a date in the form month/day/year :6/31/1999\n",
      "This date is not valid\n"
     ]
    }
   ],
   "source": [
    "#valid_date.py\n",
    "#prgram that accepts a date in the form month/day/year and \n",
    "#outputs whether or not date is valid\n",
    "\n",
    "def is_leapYear(year):\n",
    "    if year % 4 == 0:\n",
    "        if year % 400 == 0:\n",
    "            return True\n",
    "        elif year % 400 != 0:\n",
    "            return False\n",
    "    else:\n",
    "        return False\n",
    "\n",
    "def valid_date(month,day,year):\n",
    "    if 1 <= month <= 7:\n",
    "        if month % 2 != 0 and day <= 31:\n",
    "            print(\"This date is valid\")\n",
    "        elif month == 2:\n",
    "            if is_leapYear(year)==False and day <= 28:\n",
    "                print(\"This date is valid\")\n",
    "            elif is_leapYear(year)==True and day <= 29:\n",
    "                print(\"This date is valid\")\n",
    "            else:\n",
    "                print(\"This date is not valid\")\n",
    "        elif month % 2 == 0 and day <= 30:\n",
    "            print(\"This date is valid\")\n",
    "        else:\n",
    "            print(\"This date is not valid\")\n",
    "            \n",
    "    elif 8 <= month <= 12:\n",
    "        if month % 2 == 0 and day <= 31:\n",
    "            print(\"This date is valid\")\n",
    "        elif month % 2 != 0 and day <= 30:\n",
    "            print(\"This date is valid\")\n",
    "        else:\n",
    "            print(\"This date is not valid\")\n",
    "            \n",
    "    else:\n",
    "        print(\"This date is not valid\")\n",
    "\n",
    "def main():\n",
    "    print(\"This program accepts a date in the form month/day/year and\")\n",
    "    print(\"outputs whether or not date is valid\\n\")\n",
    "    \n",
    "    date = str(input(\"Enter a date in the form month/day/year :\"))\n",
    "    month, day, year = date.split(\"/\")\n",
    "    month = int(month)\n",
    "    day = int(day)\n",
    "    year = int(year)\n",
    "    \n",
    "    valid_date(month,day,year)   \n",
    "            \n",
    "main()            "
   ]
  }
 ],
 "metadata": {
  "kernelspec": {
   "display_name": "Python 3",
   "language": "python",
   "name": "python3"
  },
  "language_info": {
   "codemirror_mode": {
    "name": "ipython",
    "version": 3
   },
   "file_extension": ".py",
   "mimetype": "text/x-python",
   "name": "python",
   "nbconvert_exporter": "python",
   "pygments_lexer": "ipython3",
   "version": "3.7.6"
  }
 },
 "nbformat": 4,
 "nbformat_minor": 4
}
