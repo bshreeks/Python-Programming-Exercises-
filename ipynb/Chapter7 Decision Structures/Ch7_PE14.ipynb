{
 "cells": [
  {
   "cell_type": "code",
   "execution_count": 2,
   "metadata": {},
   "outputs": [
    {
     "name": "stdout",
     "output_type": "stream",
     "text": [
      "This program computes the intersection of a circle with a\n",
      "horizontal line and display information textually and graphically\n",
      "\n",
      "Enter the radius of a circle: 6\n",
      "Enter the y-intercept: 8\n",
      "The line does not intersect the circle\n"
     ]
    }
   ],
   "source": [
    "#Circ_Int.py\n",
    "#program to compute the intersection of a circle with a horizontal\n",
    "#line and display information textually and graphically\n",
    "\n",
    "from graphics import *\n",
    "import math\n",
    "\n",
    "def main():\n",
    "    print(\"This program computes the intersection of a circle with a\")\n",
    "    print(\"horizontal line and display information textually and graphically\\n\")\n",
    "    \n",
    "    win = GraphWin(\"Circle & y-intersection\", 400, 300)\n",
    "    win.setCoords(-10.0, -10.0, 10.0, 10.0)\n",
    "    \n",
    "    try:\n",
    "        radius = float(input(\"Enter the radius of a circle: \"))\n",
    "        y_intercept = float(input(\"Enter the y-intercept: \"))\n",
    "\n",
    "        shape = Circle(Point(0, 0), radius)\n",
    "        shape.draw(win)\n",
    "        L = Line(Point(-(math.sqrt(radius**2 - y_intercept**2)), y_intercept), Point(math.sqrt(radius**2 - y_intercept**2), y_intercept))\n",
    "    \n",
    "        L.draw(win)\n",
    "        win.plot(-(math.sqrt(radius**2 - y_intercept**2)), y_intercept, 'red')\n",
    "        win.plot(math.sqrt(radius**2 - y_intercept**2), y_intercept, 'red')\n",
    "    \n",
    "        x_intercept = math.sqrt(radius**2 - y_intercept**2)\n",
    "        x_1 = +(x_intercept)\n",
    "        x_2 = -(x_intercept)\n",
    "    \n",
    "        print(\"x-points of intersection are\", round(x_1,2), round(x_2, 2))\n",
    "        \n",
    "    except ValueError:\n",
    "        print(\"The line does not intersect the circle\")\n",
    "        \n",
    "    win.getMouse()\n",
    "    win.close()\n",
    "        \n",
    "main()"
   ]
  }
 ],
 "metadata": {
  "kernelspec": {
   "display_name": "Python 3",
   "language": "python",
   "name": "python3"
  },
  "language_info": {
   "codemirror_mode": {
    "name": "ipython",
    "version": 3
   },
   "file_extension": ".py",
   "mimetype": "text/x-python",
   "name": "python",
   "nbconvert_exporter": "python",
   "pygments_lexer": "ipython3",
   "version": "3.7.6"
  }
 },
 "nbformat": 4,
 "nbformat_minor": 4
}
