{
 "cells": [
  {
   "cell_type": "code",
   "execution_count": 2,
   "metadata": {},
   "outputs": [
    {
     "name": "stdout",
     "output_type": "stream",
     "text": [
      "This program draws an archery target (consisting of central circle of yellow, surrounded by red, blue,\n",
      "black and white each width same as the radius of yellow circle). Allows the user to click five times to\n",
      "represent arrows shot at the target.Calculates the score for each hit, bulls eye (yellow) is worth 9 points\n",
      "and each successive ring is worth 2 fewer points down to 1 for white. The program should output the score\n",
      "for each click and keep track of a running sum for the entire series.\n",
      "\n",
      "Score is 9\n",
      "Score is 18\n",
      "Score is 27\n",
      "Score is 36\n",
      "Score is 45\n"
     ]
    }
   ],
   "source": [
    "#archery_scorer.py\n",
    "#program to draw an archery target (consisting of central circle of yellow, surrounded by red, blue, black & white\n",
    "#each width same as the radius of yellow circle). Allows the user to click five times to represent arrows shot at the target. \n",
    "#Calculates the score for each hit, bulls eye (yellow) is worth 9 points & each successive ring is worth 2 fewer points down\n",
    "#to 1 for white. The program should output the score for each click and keep track of a running sum for the entire series.\n",
    "\n",
    "from graphics import *\n",
    "import math\n",
    "\n",
    "#Program that draws an archery target\n",
    "def archery(win):\n",
    "    white = Circle(Point(5,5), 10)\n",
    "    white.setFill(\"white\")\n",
    "    white.draw(win)\n",
    "    black = Circle(Point(5,5), 8)\n",
    "    black.setFill(\"black\")\n",
    "    black.draw(win)\n",
    "    blue = Circle(Point(5,5), 6)\n",
    "    blue.setFill(\"blue\")\n",
    "    blue.draw(win)\n",
    "    red = Circle(Point(5,5), 4)\n",
    "    red.setFill(\"red\")\n",
    "    red.draw(win)\n",
    "    yellow = Circle(Point(5,5), 2)\n",
    "    yellow.setFill(\"yellow\")\n",
    "    yellow.draw(win)\n",
    "    return win\n",
    "    \n",
    "def main():\n",
    "    print(\"This program draws an archery target (consisting of central circle of yellow, surrounded by red, blue,\")\n",
    "    print(\"black and white each width same as the radius of yellow circle). Allows the user to click five times to\")\n",
    "    print(\"represent arrows shot at the target.Calculates the score for each hit, bulls eye (yellow) is worth 9 points\")\n",
    "    print(\"and each successive ring is worth 2 fewer points down to 1 for white. The program should output the score\") \n",
    "    print(\"for each click and keep track of a running sum for the entire series.\\n\")\n",
    "    \n",
    "    win = GraphWin(\"Archery_score\", 320, 240)\n",
    "    win.setCoords(0.0, 0.0, 10.0, 10.0)\n",
    "    archery(win)\n",
    "    \n",
    "    sum=0\n",
    "    for i in range(5):\n",
    "        i = win.getMouse()\n",
    "        x=i.getX()\n",
    "        y=i.getY()\n",
    "        r = math.sqrt((5-x)**2 + (5-y)**2)\n",
    "        \n",
    "        if 0 <= r <= 2:\n",
    "            sum = sum + 9\n",
    "        elif 2 < r <= 4:\n",
    "            sum = sum + 7\n",
    "        elif 4 < r <= 6:\n",
    "            sum = sum + 5\n",
    "        elif 6 < r <= 8:\n",
    "            sum = sum + 3\n",
    "        elif 8 < r <= 10:\n",
    "            sum = sum + 1\n",
    "        print(\"Score is\", sum)\n",
    "            \n",
    "    \n",
    "    win.getMouse()\n",
    "    win.close()\n",
    "main()"
   ]
  }
 ],
 "metadata": {
  "kernelspec": {
   "display_name": "Python 3",
   "language": "python",
   "name": "python3"
  },
  "language_info": {
   "codemirror_mode": {
    "name": "ipython",
    "version": 3
   },
   "file_extension": ".py",
   "mimetype": "text/x-python",
   "name": "python",
   "nbconvert_exporter": "python",
   "pygments_lexer": "ipython3",
   "version": "3.7.6"
  }
 },
 "nbformat": 4,
 "nbformat_minor": 4
}
