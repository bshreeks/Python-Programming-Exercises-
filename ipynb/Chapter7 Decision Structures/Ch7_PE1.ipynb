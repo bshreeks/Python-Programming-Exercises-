{
 "cells": [
  {
   "cell_type": "code",
   "execution_count": 2,
   "metadata": {},
   "outputs": [
    {
     "name": "stdout",
     "output_type": "stream",
     "text": [
      "This program calculates the weekly wage given number\n",
      "of hours worked and hourly rate\n",
      "\n",
      "Enter the number of Hours Worked: 55\n",
      "Enter the wage in dollars: 10\n",
      "Total weekly wage is  825.0\n"
     ]
    }
   ],
   "source": [
    "#total_wage.py\n",
    "#program to calculate weekly wage given number of hours worked \n",
    "#and hourly rate\n",
    "\n",
    "def main():\n",
    "    print(\"This program calculates the weekly wage given number\")\n",
    "    print(\"of hours worked and hourly rate\\n\")\n",
    "    NHW = eval(input(\"Enter the number of Hours Worked: \"))\n",
    "    Wage = eval(input(\"Enter the wage in dollars: \"))\n",
    "    \n",
    "    if NHW <= 40:\n",
    "        total_wage = 1 * NHW * Wage\n",
    "    if NHW > 40:\n",
    "        total_wage = 1.5 * NHW * Wage\n",
    "        \n",
    "    print(\"Total weekly wage is \", total_wage)\n",
    "    \n",
    "main()"
   ]
  }
 ],
 "metadata": {
  "kernelspec": {
   "display_name": "Python 3",
   "language": "python",
   "name": "python3"
  },
  "language_info": {
   "codemirror_mode": {
    "name": "ipython",
    "version": 3
   },
   "file_extension": ".py",
   "mimetype": "text/x-python",
   "name": "python",
   "nbconvert_exporter": "python",
   "pygments_lexer": "ipython3",
   "version": "3.7.6"
  }
 },
 "nbformat": 4,
 "nbformat_minor": 4
}
