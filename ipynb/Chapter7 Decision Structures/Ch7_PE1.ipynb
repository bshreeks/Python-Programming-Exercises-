{
 "cells": [
  {
   "cell_type": "code",
   "execution_count": 4,
   "metadata": {},
   "outputs": [
    {
     "name": "stdout",
     "output_type": "stream",
     "text": [
      "This program calculates the total weekly wage, given a number\n",
      "of hours worked and hourly rate\n",
      "\n",
      "Enter the number of Hours Worked: 55\n",
      "Enter the hourly rate in dollars: 10\n",
      "Total weekly wage is $ 625.0\n"
     ]
    }
   ],
   "source": [
    "#total_wage.py\n",
    "#program to calculate the total weekly wages, given a number of hours worked \n",
    "#and hourly rate\n",
    "\n",
    "def main():\n",
    "    print(\"This program calculates the total weekly wage, given a number\")\n",
    "    print(\"of hours worked and hourly rate\\n\")\n",
    "    NHW = eval(input(\"Enter the number of Hours Worked: \"))\n",
    "    HR = eval(input(\"Enter the hourly rate in dollars: \"))\n",
    "    \n",
    "    if NHW <= 40:\n",
    "        total_wage = 1 * NHW * HR\n",
    "    else:\n",
    "        total_wage = 40 * 1 * HR + (NHW - 40) * 1.5 * HR\n",
    "        \n",
    "    print(\"Total weekly wage is $\", total_wage)\n",
    "    \n",
    "main()"
   ]
  }
 ],
 "metadata": {
  "kernelspec": {
   "display_name": "Python 3 (ipykernel)",
   "language": "python",
   "name": "python3"
  },
  "language_info": {
   "codemirror_mode": {
    "name": "ipython",
    "version": 3
   },
   "file_extension": ".py",
   "mimetype": "text/x-python",
   "name": "python",
   "nbconvert_exporter": "python",
   "pygments_lexer": "ipython3",
   "version": "3.9.13"
  }
 },
 "nbformat": 4,
 "nbformat_minor": 4
}
