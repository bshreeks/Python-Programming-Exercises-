{
 "cells": [
  {
   "cell_type": "code",
   "execution_count": 2,
   "metadata": {},
   "outputs": [
    {
     "name": "stdout",
     "output_type": "stream",
     "text": [
      "This program accepts a starting time and ending time in\n",
      "hours and minutes (assuming times are in the 24-hour period) and calculates the total babysitting bill\n",
      "if the baby-sitter charges $2.50 per hour till 9PM & $1.75 per hour after\n",
      "\n",
      "Enter the start time in hour (24 hour format): 10\n",
      "Enter the start time in minute: 0\n",
      "Enter the end time in hour (24 hour format): 21\n",
      "Enter the end time in minute: 30\n",
      "Total babysitting bill is $ 28.375\n"
     ]
    }
   ],
   "source": [
    "#baby_sit.py\n",
    "#The program that accepts a starting and ending time in hours\n",
    "#& minutes (assuming times are in the 24-hour period) and calculates the \n",
    "#total babysitting bill if the baby-sitter charges\n",
    "#$2.50 per hour till 9PM and $1.75 per hour after\n",
    "\n",
    "def main():\n",
    "    print(\"This program accepts a starting time and ending time in\")\n",
    "    print(\"hours and minutes (assuming times are in the 24-hour period) and calculates the total babysitting bill\")\n",
    "    print(\"if the baby-sitter charges $2.50 per hour till 9PM & $1.75 per hour after\\n\")\n",
    "    \n",
    "    start_hour = eval(input(\"Enter the start time in hour (24 hour format): \"))\n",
    "    start_minute = eval(input(\"Enter the start time in minute: \"))\n",
    "    end_hour = eval(input(\"Enter the end time in hour (24 hour format): \"))\n",
    "    end_minute = eval(input(\"Enter the end time in minute: \"))\n",
    "    \n",
    "    start = start_hour + start_minute/60\n",
    "    end = end_hour + end_minute/60\n",
    "    \n",
    "    total = end - start\n",
    "    \n",
    "    if end <= 21:\n",
    "        bill = total * 2.50\n",
    "        print(\"Total babysitting bill is $\",round(bill, 3))\n",
    "    elif end > 21:\n",
    "        bill = (end - 21)*1.75 + (21-start)*2.50\n",
    "        print(\"Total babysitting bill is $\",round(bill, 3))\n",
    "        \n",
    "main()"
   ]
  }
 ],
 "metadata": {
  "kernelspec": {
   "display_name": "Python 3 (ipykernel)",
   "language": "python",
   "name": "python3"
  },
  "language_info": {
   "codemirror_mode": {
    "name": "ipython",
    "version": 3
   },
   "file_extension": ".py",
   "mimetype": "text/x-python",
   "name": "python",
   "nbconvert_exporter": "python",
   "pygments_lexer": "ipython3",
   "version": "3.9.13"
  }
 },
 "nbformat": 4,
 "nbformat_minor": 4
}
