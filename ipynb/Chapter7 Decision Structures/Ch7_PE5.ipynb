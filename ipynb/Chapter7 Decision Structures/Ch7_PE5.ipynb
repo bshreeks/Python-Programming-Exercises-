{
 "cells": [
  {
   "cell_type": "code",
   "execution_count": 1,
   "metadata": {},
   "outputs": [
    {
     "name": "stdout",
     "output_type": "stream",
     "text": [
      "This program calculates a person's BMI (body mass index) &  prints\n",
      "a message telling weather they are above, within, or below the healthy range\n",
      "\n",
      "Enter the weight of a person in pounds: 110\n",
      "Enter the height of a person in inches: 64\n",
      "BMI is in the healthy range\n"
     ]
    }
   ],
   "source": [
    "#BMI_calculator.py\n",
    "#program to calculate a person's BMI & prints a message\n",
    "#telling weather they are above, within, or below the healthy range\n",
    "\n",
    "def main():\n",
    "    print(\"This program calculates a person's BMI (body mass index) &  prints\")\n",
    "    print(\"a message telling weather they are above, within, or below the healthy range\\n\")\n",
    "    \n",
    "    weight = eval(input(\"Enter the weight of a person in pounds: \"))\n",
    "    height = eval(input(\"Enter the height of a person in inches: \"))\n",
    "    \n",
    "    BMI = (weight * 720) / (height)**2\n",
    "    \n",
    "    if BMI < 19:\n",
    "        print(\"BMI is below the healthy range\")\n",
    "    elif 19 <= BMI <= 25:\n",
    "        print(\"BMI is in the healthy range\")\n",
    "    else:\n",
    "        print(\"BMI is above the healthy range\")\n",
    "        \n",
    "main()"
   ]
  }
 ],
 "metadata": {
  "kernelspec": {
   "display_name": "Python 3",
   "language": "python",
   "name": "python3"
  },
  "language_info": {
   "codemirror_mode": {
    "name": "ipython",
    "version": 3
   },
   "file_extension": ".py",
   "mimetype": "text/x-python",
   "name": "python",
   "nbconvert_exporter": "python",
   "pygments_lexer": "ipython3",
   "version": "3.7.6"
  }
 },
 "nbformat": 4,
 "nbformat_minor": 4
}
