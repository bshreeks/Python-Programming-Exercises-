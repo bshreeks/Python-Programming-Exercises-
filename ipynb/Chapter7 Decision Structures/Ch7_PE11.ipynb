{
 "cells": [
  {
   "cell_type": "code",
   "execution_count": 2,
   "metadata": {},
   "outputs": [
    {
     "name": "stdout",
     "output_type": "stream",
     "text": [
      "This program checks if the given year is a leap year or not\n",
      "\n",
      "Enter a year: 2020\n",
      "Year is a century year & not a leap year\n"
     ]
    }
   ],
   "source": [
    "#leap_year.py\n",
    "#program checks if the given year is a leap year or not\n",
    "\n",
    "def is_leapYear(year):\n",
    "    if year % 4 == 0:\n",
    "        if year % 400 == 0:\n",
    "            print(\"The year is a leap year\")\n",
    "        elif year % 400 != 0:\n",
    "            print(\"Year is a century year & not a leap year\")\n",
    "    else:\n",
    "        print(\"Year is not a leap year\")\n",
    "\n",
    "def main():\n",
    "    print(\"This program checks if the given year is a leap year or not\\n\")\n",
    "    year = eval(input(\"Enter a year: \"))\n",
    "    \n",
    "    is_leapYear(year)\n",
    "        \n",
    "main()"
   ]
  }
 ],
 "metadata": {
  "kernelspec": {
   "display_name": "Python 3",
   "language": "python",
   "name": "python3"
  },
  "language_info": {
   "codemirror_mode": {
    "name": "ipython",
    "version": 3
   },
   "file_extension": ".py",
   "mimetype": "text/x-python",
   "name": "python",
   "nbconvert_exporter": "python",
   "pygments_lexer": "ipython3",
   "version": "3.7.6"
  }
 },
 "nbformat": 4,
 "nbformat_minor": 4
}
