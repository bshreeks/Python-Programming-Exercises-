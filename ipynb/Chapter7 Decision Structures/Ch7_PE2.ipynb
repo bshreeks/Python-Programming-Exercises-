{
 "cells": [
  {
   "cell_type": "code",
   "execution_count": 3,
   "metadata": {},
   "outputs": [
    {
     "name": "stdout",
     "output_type": "stream",
     "text": [
      "This program accepts a quiz score as an input & uses\n",
      "a desicion structure to calculate the corresponding grade\n",
      "\n",
      "Enter the quiz score from 0 to 5 :1\n",
      "The grade is F\n"
     ]
    }
   ],
   "source": [
    "#quiz_score.py\n",
    "#program that accepts a quiz score as an input & uses\n",
    "#a decision structure to calculate the corresponding grade\n",
    "\n",
    "def main():\n",
    "    print(\"This program accepts a quiz score as an input & uses\")\n",
    "    print(\"a desicion structure to calculate the corresponding grade\\n\")\n",
    "    \n",
    "    score = int(input(\"Enter the quiz score from 0 to 5 :\"))\n",
    "    \n",
    "    if score <= 1:\n",
    "        print(\"The grade is F\")\n",
    "    elif score == 2:\n",
    "        print(\"The grade is D\")\n",
    "    elif score == 3:\n",
    "        print(\"The grade is C\")\n",
    "    elif score == 4:\n",
    "        print(\"The grade is B\")\n",
    "    elif score == 5:\n",
    "        print(\"The grade is A\")\n",
    "        \n",
    "main()"
   ]
  }
 ],
 "metadata": {
  "kernelspec": {
   "display_name": "Python 3",
   "language": "python",
   "name": "python3"
  },
  "language_info": {
   "codemirror_mode": {
    "name": "ipython",
    "version": 3
   },
   "file_extension": ".py",
   "mimetype": "text/x-python",
   "name": "python",
   "nbconvert_exporter": "python",
   "pygments_lexer": "ipython3",
   "version": "3.7.6"
  }
 },
 "nbformat": 4,
 "nbformat_minor": 4
}
