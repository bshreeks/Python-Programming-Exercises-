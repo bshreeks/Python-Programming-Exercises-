{
 "cells": [
  {
   "cell_type": "code",
   "execution_count": 5,
   "metadata": {},
   "outputs": [
    {
     "name": "stdout",
     "output_type": "stream",
     "text": [
      "This program inputs a year, verifies it is in the proper range\n",
      "and prints out the date of easter that year\n",
      "\n",
      "Enter the year: 2020\n",
      "The easter date for the given year is April 12\n"
     ]
    }
   ],
   "source": [
    "#easter_calculator.py\n",
    "#program that inputs a year, verifies it is in the proper range\n",
    "#and prints out the date of easter that year\n",
    "\n",
    "def main():\n",
    "    print(\"This program inputs a year, verifies it is in the proper range\")\n",
    "    print(\"and prints out the date of easter that year\\n\")\n",
    "    \n",
    "    year = eval(input(\"Enter the year: \"))\n",
    "    a = year%19\n",
    "    b = year%4\n",
    "    c = year%7\n",
    "    d = (19*a + 24)%30\n",
    "    e = (2*b + 4*c+6*d+5)%7\n",
    "    date = 22 + d + e\n",
    "    date_Ap = (date-31)\n",
    "    \n",
    "    if 1982 <= year <= 2048:\n",
    "        if date <= 31:\n",
    "            print(\"The easter date for the given year is March\",date)\n",
    "        else:\n",
    "            print(\"The easter date for the given year is April\",date_Ap)\n",
    "    else:\n",
    "        print(\"Year is not in the given limit\")\n",
    "        \n",
    "main()  "
   ]
  }
 ],
 "metadata": {
  "kernelspec": {
   "display_name": "Python 3",
   "language": "python",
   "name": "python3"
  },
  "language_info": {
   "codemirror_mode": {
    "name": "ipython",
    "version": 3
   },
   "file_extension": ".py",
   "mimetype": "text/x-python",
   "name": "python",
   "nbconvert_exporter": "python",
   "pygments_lexer": "ipython3",
   "version": "3.7.6"
  }
 },
 "nbformat": 4,
 "nbformat_minor": 4
}
