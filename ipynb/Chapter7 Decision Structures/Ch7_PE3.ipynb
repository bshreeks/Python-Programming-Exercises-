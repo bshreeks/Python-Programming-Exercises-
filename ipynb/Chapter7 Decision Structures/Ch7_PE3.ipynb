{
 "cells": [
  {
   "cell_type": "code",
   "execution_count": 2,
   "metadata": {},
   "outputs": [
    {
     "name": "stdout",
     "output_type": "stream",
     "text": [
      "This program accepts exam score from 0 till 100\n",
      "and calculates the corresponding grade\n",
      "\n",
      "Enter the Exam score between 0 and 100: 60\n",
      "The Grade is D\n"
     ]
    }
   ],
   "source": [
    "#exam_score.py\n",
    "#program accepts exam score from 0 till 100 &\n",
    "#calculates the corresponding grade\n",
    "\n",
    "def main():\n",
    "    print(\"This program accepts exam score from 0 till 100\")\n",
    "    print(\"and calculates the corresponding grade\\n\")\n",
    "    \n",
    "    score = float(input(\"Enter the Exam score between 0 and 100: \"))\n",
    "    \n",
    "    if 90 <= score <= 100:\n",
    "        print(\"The Grade is A\")\n",
    "    elif 80 <= score <= 89:\n",
    "        print(\"The Grade is B\")\n",
    "    elif 70 <= score <= 79:\n",
    "        print(\"The Grade is C\")\n",
    "    elif 60 <= score <= 69:\n",
    "        print(\"The Grade is D\")\n",
    "    elif score < 60:\n",
    "        print(\"The Grade is F\")\n",
    "        \n",
    "main()"
   ]
  }
 ],
 "metadata": {
  "kernelspec": {
   "display_name": "Python 3",
   "language": "python",
   "name": "python3"
  },
  "language_info": {
   "codemirror_mode": {
    "name": "ipython",
    "version": 3
   },
   "file_extension": ".py",
   "mimetype": "text/x-python",
   "name": "python",
   "nbconvert_exporter": "python",
   "pygments_lexer": "ipython3",
   "version": "3.7.6"
  }
 },
 "nbformat": 4,
 "nbformat_minor": 4
}
