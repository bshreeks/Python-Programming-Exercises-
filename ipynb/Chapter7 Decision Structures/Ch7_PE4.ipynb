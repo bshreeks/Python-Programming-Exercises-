{
 "cells": [
  {
   "cell_type": "code",
   "execution_count": 8,
   "metadata": {},
   "outputs": [
    {
     "name": "stdout",
     "output_type": "stream",
     "text": [
      "This program calculates the class standing of students\n",
      "from the number of credits earned\n",
      "\n",
      "Enter the credit :30.3\n",
      "Senior\n"
     ]
    }
   ],
   "source": [
    "#class_standing.py\n",
    "#program to calculate the class standing of students \n",
    "#from the number of credits earned\n",
    "\n",
    "def main():\n",
    "    print(\"This program calculates the class standing of students\")\n",
    "    print(\"from the number of credits earned\\n\")\n",
    "    \n",
    "    credit = eval(input(\"Enter the credit :\"))\n",
    "    \n",
    "    if credit < 7:\n",
    "        print(\"Freshman\")\n",
    "    elif 7 <= credit < 16:\n",
    "        print(\"Sophomore\")\n",
    "    elif 16 <= credit < 26:\n",
    "        print(\"Junior\")\n",
    "    else:\n",
    "        print(\"Senior\")\n",
    "main()    "
   ]
  }
 ],
 "metadata": {
  "kernelspec": {
   "display_name": "Python 3",
   "language": "python",
   "name": "python3"
  },
  "language_info": {
   "codemirror_mode": {
    "name": "ipython",
    "version": 3
   },
   "file_extension": ".py",
   "mimetype": "text/x-python",
   "name": "python",
   "nbconvert_exporter": "python",
   "pygments_lexer": "ipython3",
   "version": "3.7.6"
  }
 },
 "nbformat": 4,
 "nbformat_minor": 4
}
