{
 "cells": [
  {
   "cell_type": "code",
   "execution_count": 1,
   "metadata": {},
   "outputs": [
    {
     "name": "stdout",
     "output_type": "stream",
     "text": [
      "This program prints if the speed is legal, if not\n",
      "prints the amount of fine given the speed limit and\n",
      "the clocked speed in mph\n",
      "Enter the speed limit in mph: 65\n",
      "Enter the clocked speed in mph: 89\n",
      "The fine is $ 170\n"
     ]
    }
   ],
   "source": [
    "#speed_limit.py\n",
    "#program to print if the speed is legar or if it is\n",
    "#not legal then prints the amount of fine given the \n",
    "#speed limit and clocked speed in mph\n",
    "\n",
    "def main():\n",
    "    print(\"This program prints if the speed is legal, if not\")\n",
    "    print(\"prints the amount of fine given the speed limit and\")\n",
    "    print(\"the clocked speed in mph\")\n",
    "    \n",
    "    speed_limit = eval(input(\"Enter the speed limit in mph: \"))\n",
    "    clocked_speed = eval(input(\"Enter the clocked speed in mph: \"))\n",
    "    \n",
    "    if clocked_speed <= speed_limit:\n",
    "        print(\"speed was legal\")\n",
    "    elif 90 >= clocked_speed > speed_limit:\n",
    "        fine = 50 + (clocked_speed-speed_limit) * 5\n",
    "        print(\"The fine is $\",fine)\n",
    "    else:\n",
    "        print(\"The fine is $200\")\n",
    "main()"
   ]
  }
 ],
 "metadata": {
  "kernelspec": {
   "display_name": "Python 3",
   "language": "python",
   "name": "python3"
  },
  "language_info": {
   "codemirror_mode": {
    "name": "ipython",
    "version": 3
   },
   "file_extension": ".py",
   "mimetype": "text/x-python",
   "name": "python",
   "nbconvert_exporter": "python",
   "pygments_lexer": "ipython3",
   "version": "3.7.6"
  }
 },
 "nbformat": 4,
 "nbformat_minor": 4
}
