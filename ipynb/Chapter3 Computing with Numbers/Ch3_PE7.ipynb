{
 "cells": [
  {
   "cell_type": "code",
   "execution_count": 1,
   "metadata": {},
   "outputs": [
    {
     "name": "stdout",
     "output_type": "stream",
     "text": [
      "This program calculates the distance between the two points\n",
      "\n",
      "Enter values of x1 and y1 with a comma: 20, 30\n",
      "Enter values of x2, y2 with a comma: 8, 2\n",
      "The distance between two points is  30.46\n"
     ]
    }
   ],
   "source": [
    "#dist.py\n",
    "#Program to calculate the distance between the two points\n",
    "\n",
    "import math\n",
    "\n",
    "def main():\n",
    "    print(\"This program calculates the distance between the two points\")\n",
    "    print()\n",
    "    x1, y1 = eval(input(\"Enter values of x1 and y1 with a comma: \"))\n",
    "    x2, y2 = eval(input(\"Enter values of x2, y2 with a comma: \"))\n",
    "    \n",
    "    distance = math.sqrt((x2 - x1)**2 + (y2 - y1)**2)\n",
    "    print(\"The distance between two points is \", round(distance, 2))\n",
    "main()"
   ]
  }
 ],
 "metadata": {
  "kernelspec": {
   "display_name": "Python 3",
   "language": "python",
   "name": "python3"
  },
  "language_info": {
   "codemirror_mode": {
    "name": "ipython",
    "version": 3
   },
   "file_extension": ".py",
   "mimetype": "text/x-python",
   "name": "python",
   "nbconvert_exporter": "python",
   "pygments_lexer": "ipython3",
   "version": "3.7.6"
  }
 },
 "nbformat": 4,
 "nbformat_minor": 4
}
