{
 "cells": [
  {
   "cell_type": "code",
   "execution_count": 5,
   "metadata": {},
   "outputs": [
    {
     "name": "stdout",
     "output_type": "stream",
     "text": [
      "This program guesses the square-root of a user given number\n",
      "\n",
      "Enter the number: 10\n",
      "Enter the guess number: 5\n",
      "Guess is 3.5 & difference is 0.33772\n",
      "Enter the guess number: 3.5\n",
      "Guess is 3.179 & difference is 0.01629\n",
      "Enter the guess number: 3.18\n",
      "Guess is 3.162 & difference is 5e-05\n",
      "Enter the guess number: 3.16\n",
      "Guess is 3.162 & difference is 0.0\n"
     ]
    }
   ],
   "source": [
    "#guess.py\n",
    "#program to guess the square-root of a given number\n",
    "\n",
    "import math\n",
    "\n",
    "def main():\n",
    "    print(\"This program guesses the square-root of a user given number\")\n",
    "    print()\n",
    "    x = eval(input(\"Enter the number: \"))\n",
    "    \n",
    "    for i in range(4):\n",
    "        guess = eval(input(\"Enter the guess number: \"))\n",
    "        sqrt = (guess +(x/guess)) / 2\n",
    "        diff = sqrt - math.sqrt(x) \n",
    "        print(\"Guess is\", round(sqrt,3), \"& difference is\", round(diff, 5))\n",
    "main()"
   ]
  }
 ],
 "metadata": {
  "kernelspec": {
   "display_name": "Python 3",
   "language": "python",
   "name": "python3"
  },
  "language_info": {
   "codemirror_mode": {
    "name": "ipython",
    "version": 3
   },
   "file_extension": ".py",
   "mimetype": "text/x-python",
   "name": "python",
   "nbconvert_exporter": "python",
   "pygments_lexer": "ipython3",
   "version": "3.7.6"
  }
 },
 "nbformat": 4,
 "nbformat_minor": 4
}
