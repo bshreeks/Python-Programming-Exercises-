{
 "cells": [
  {
   "cell_type": "code",
   "execution_count": 6,
   "metadata": {},
   "outputs": [
    {
     "name": "stdout",
     "output_type": "stream",
     "text": [
      "Program to calculate the Area of a triangle\n",
      "given it's three sides\n",
      "\n",
      "Enter the three sides of a triangle with a comma: 3.5, 4.5, 7.8\n",
      "The Area of a triangle is  3.44\n"
     ]
    }
   ],
   "source": [
    "#Area_triangle.py\n",
    "#program to calculate the area of a triangle given it's three sides\n",
    "import math\n",
    "\n",
    "def main():\n",
    "    print(\"Program to calculate the Area of a triangle\")\n",
    "    print(\"given it's three sides\")\n",
    "    print()\n",
    "    a, b, c = eval(input(\"Enter the three sides of a triangle with a comma: \"))\n",
    "    \n",
    "    s = (a + b + c)/2\n",
    "    A = math.sqrt(s*(s-a)*(s-b)*(s-c))\n",
    "    print(\"The Area of a triangle is \", round(A, 2))\n",
    "main()"
   ]
  }
 ],
 "metadata": {
  "kernelspec": {
   "display_name": "Python 3",
   "language": "python",
   "name": "python3"
  },
  "language_info": {
   "codemirror_mode": {
    "name": "ipython",
    "version": 3
   },
   "file_extension": ".py",
   "mimetype": "text/x-python",
   "name": "python",
   "nbconvert_exporter": "python",
   "pygments_lexer": "ipython3",
   "version": "3.7.6"
  }
 },
 "nbformat": 4,
 "nbformat_minor": 4
}
