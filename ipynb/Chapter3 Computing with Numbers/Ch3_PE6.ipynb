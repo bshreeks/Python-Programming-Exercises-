{
 "cells": [
  {
   "cell_type": "code",
   "execution_count": 3,
   "metadata": {},
   "outputs": [
    {
     "name": "stdout",
     "output_type": "stream",
     "text": [
      "This program calculates the slope of a line\n",
      "through the two non-vertical points\n",
      "\n",
      "Enter the two points with a comma: 4, 9\n",
      "Enter the two points with a comma: 8, 12\n",
      "slope of the line is 0.75\n"
     ]
    }
   ],
   "source": [
    "#slope.py\n",
    "#program to calculate the slope of a line through\n",
    "#two non vertical points\n",
    "\n",
    "def main():\n",
    "    print(\"This program calculates the slope of a line\")\n",
    "    print(\"through the two non-vertical points\")\n",
    "    print()\n",
    "    x1, y1 = eval(input(\"Enter the two points with a comma: \"))\n",
    "    x2, y2 = eval(input(\"Enter the two points with a comma: \"))\n",
    "    #calculate the slope\n",
    "    slope = (y2 - y1)/(x2 - x1)\n",
    "    print(\"slope of the line is\", round(slope, 2))\n",
    "main()"
   ]
  }
 ],
 "metadata": {
  "kernelspec": {
   "display_name": "Python 3",
   "language": "python",
   "name": "python3"
  },
  "language_info": {
   "codemirror_mode": {
    "name": "ipython",
    "version": 3
   },
   "file_extension": ".py",
   "mimetype": "text/x-python",
   "name": "python",
   "nbconvert_exporter": "python",
   "pygments_lexer": "ipython3",
   "version": "3.7.6"
  }
 },
 "nbformat": 4,
 "nbformat_minor": 4
}
