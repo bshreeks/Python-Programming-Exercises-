{
 "cells": [
  {
   "cell_type": "code",
   "execution_count": 3,
   "metadata": {},
   "outputs": [
    {
     "name": "stdout",
     "output_type": "stream",
     "text": [
      "This program calculates the sum of user given n natural numbers\n",
      "\n",
      "Enter the number: 4\n",
      "199\n",
      "21000\n",
      "3489\n",
      "4667\n",
      "Sum of all  4  natural numbers is 2255\n"
     ]
    }
   ],
   "source": [
    "#sum_series2.py\n",
    "#program to calculate sum of user given n natural numbers\n",
    "\n",
    "def main():\n",
    "    print(\"This program calculates the sum of user given n natural numbers\")\n",
    "    print()\n",
    "    n = int(input(\"Enter the number: \"))\n",
    "    sum = 0\n",
    "    for i in range(1, n+1):\n",
    "        num = int(input(i))\n",
    "        sum = sum + num\n",
    "    print(\"Sum of all \", n, \" natural numbers is\", sum)\n",
    "main()"
   ]
  }
 ],
 "metadata": {
  "kernelspec": {
   "display_name": "Python 3",
   "language": "python",
   "name": "python3"
  },
  "language_info": {
   "codemirror_mode": {
    "name": "ipython",
    "version": 3
   },
   "file_extension": ".py",
   "mimetype": "text/x-python",
   "name": "python",
   "nbconvert_exporter": "python",
   "pygments_lexer": "ipython3",
   "version": "3.7.6"
  }
 },
 "nbformat": 4,
 "nbformat_minor": 4
}
