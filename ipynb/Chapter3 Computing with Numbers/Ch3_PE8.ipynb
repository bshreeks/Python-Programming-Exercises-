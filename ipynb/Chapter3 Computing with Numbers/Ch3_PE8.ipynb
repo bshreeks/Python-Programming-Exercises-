{
 "cells": [
  {
   "cell_type": "code",
   "execution_count": 7,
   "metadata": {},
   "outputs": [
    {
     "name": "stdout",
     "output_type": "stream",
     "text": [
      "This program calculates the Gregorian epact given a 4 digit year\n",
      "\n",
      "Enter a four digit year: 2050\n",
      "Gregorian epact is  6\n"
     ]
    }
   ],
   "source": [
    "#epact.py\n",
    "#program to calculate the Gregorian epact given a 4 digit year\n",
    "\n",
    "def main():\n",
    "    print(\"This program calculates the Gregorian epact given a 4 digit year\")\n",
    "    print()\n",
    "    year = int(input(\"Enter a four digit year: \"))\n",
    "    \n",
    "    C = year//100\n",
    "    epact = (8+(C//4) - C+ ((8*C + 13)//25) + 11*(year%19))%30\n",
    "    print(\"Gregorian epact is \", epact)\n",
    "main()"
   ]
  }
 ],
 "metadata": {
  "kernelspec": {
   "display_name": "Python 3",
   "language": "python",
   "name": "python3"
  },
  "language_info": {
   "codemirror_mode": {
    "name": "ipython",
    "version": 3
   },
   "file_extension": ".py",
   "mimetype": "text/x-python",
   "name": "python",
   "nbconvert_exporter": "python",
   "pygments_lexer": "ipython3",
   "version": "3.7.6"
  }
 },
 "nbformat": 4,
 "nbformat_minor": 4
}
