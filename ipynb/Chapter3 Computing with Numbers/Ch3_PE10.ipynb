{
 "cells": [
  {
   "cell_type": "code",
   "execution_count": 3,
   "metadata": {},
   "outputs": [
    {
     "name": "stdout",
     "output_type": "stream",
     "text": [
      "This program calculates the length of a ladder required to\n",
      "reach a given height when leaned against the house where height\n",
      "and angle (in radians) are given as inputs\n",
      "\n",
      "Enter the height of the ladder: 6\n",
      "Enter the angle of a ladder (in radians): 0.76\n",
      "The required length of a ladder in radians is  8.71\n",
      "The required length of a ladder in degree is 499.0\n"
     ]
    }
   ],
   "source": [
    "#len_ladder.py\n",
    "#program to determine the length of a ladder required to\n",
    "#reach a given height when leaned against the house where\n",
    "#height and angle(in radians) are given as inputs\n",
    "import math\n",
    "\n",
    "def main():\n",
    "    print(\"This program calculates the length of a ladder required to\")\n",
    "    print(\"reach a given height when leaned against the house where height\")\n",
    "    print(\"and angle (in radians) are given as inputs\")\n",
    "    print()\n",
    "    height = float(input(\"Enter the height of the ladder: \"))\n",
    "    angle = float(input(\"Enter the angle of a ladder (in radians): \"))\n",
    "    \n",
    "    length = (height / math.sin(angle))\n",
    "    len_deg = length * (180/math.pi)\n",
    "    print(\"The required length of a ladder in radians is \", round(length, 2))\n",
    "    print(\"The required length of a ladder in degree is\", round(len_deg, 2))\n",
    "main()"
   ]
  }
 ],
 "metadata": {
  "kernelspec": {
   "display_name": "Python 3",
   "language": "python",
   "name": "python3"
  },
  "language_info": {
   "codemirror_mode": {
    "name": "ipython",
    "version": 3
   },
   "file_extension": ".py",
   "mimetype": "text/x-python",
   "name": "python",
   "nbconvert_exporter": "python",
   "pygments_lexer": "ipython3",
   "version": "3.7.6"
  }
 },
 "nbformat": 4,
 "nbformat_minor": 4
}
