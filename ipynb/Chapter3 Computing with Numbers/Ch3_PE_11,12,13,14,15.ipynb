{
 "cells": [
  {
   "cell_type": "code",
   "execution_count": 7,
   "metadata": {},
   "outputs": [
    {
     "name": "stdout",
     "output_type": "stream",
     "text": [
      "This program calculates the sum of a series\n",
      "\n",
      "enter the number: 8\n",
      "Sum of 8 series is 36\n"
     ]
    }
   ],
   "source": [
    "#sum_series.py\n",
    "#Program to calculate the sum of the first n natural numbers\n",
    "\n",
    "def main():\n",
    "    print(\"This program calculates the sum of a series\")\n",
    "    print()\n",
    "    n = int(input(\"enter the number: \"))\n",
    "    sum = 0\n",
    "    for i in range(1, n+1):\n",
    "        sum = sum + i\n",
    "    print(\"Sum of\", n,\"series is\", sum)\n",
    "main()"
   ]
  },
  {
   "cell_type": "code",
   "execution_count": 4,
   "metadata": {},
   "outputs": [
    {
     "name": "stdout",
     "output_type": "stream",
     "text": [
      "This program calculates the sum of cube of n natural numbers\n",
      "\n",
      "natural number: 2\n",
      "Sum of cube of 2 numbers is 9\n"
     ]
    }
   ],
   "source": [
    "#sum_of_cube.py\n",
    "# program to calculates the sum of the cube of first n natural numbers\n",
    "\n",
    "def main():\n",
    "    print(\"This program calculates the sum of cube of n natural numbers\")\n",
    "    print()\n",
    "    n = int(input(\"natural number: \"))\n",
    "    soc = 1\n",
    "    for factor in range(2, n+1):\n",
    "        soc =  (soc)**3 + (factor)**3\n",
    "        \n",
    "    print(\"Sum of cube of\", n ,\"numbers is\", soc)\n",
    "main()     "
   ]
  },
  {
   "cell_type": "code",
   "execution_count": 12,
   "metadata": {},
   "outputs": [
    {
     "name": "stdout",
     "output_type": "stream",
     "text": [
      "This program calculates the sum of user given n natural numbers\n",
      "\n",
      "Enter the number: 6\n",
      "11\n",
      "22\n",
      "33\n",
      "44\n",
      "55\n",
      "66\n",
      "Sum of all  6  natural numbers is 21\n"
     ]
    }
   ],
   "source": [
    "#sum_series2.py\n",
    "#program to calculate sum of user given n natural numbers\n",
    "\n",
    "def main():\n",
    "    print(\"This program calculates the sum of user given n natural numbers\")\n",
    "    print()\n",
    "    n = int(input(\"Enter the number: \"))\n",
    "    sum = 0\n",
    "    for i in range(1, n+1):\n",
    "        num = int(input(i))\n",
    "        sum = sum + num\n",
    "    print(\"Sum of all \", n, \" natural numbers is\", sum)\n",
    "main()"
   ]
  },
  {
   "cell_type": "code",
   "execution_count": 15,
   "metadata": {},
   "outputs": [
    {
     "name": "stdout",
     "output_type": "stream",
     "text": [
      "This program calculates the average of the series\n",
      "of numbers entered by the user\n",
      "\n",
      "Enter the number:3\n",
      "122\n",
      "244\n",
      "366\n",
      "Average of series 44.0\n"
     ]
    }
   ],
   "source": [
    "#avg_series.py\n",
    "#program to calculate the average of a series of numbers\n",
    "#entered by the user\n",
    "\n",
    "def main():\n",
    "    print(\"This program calculates the average of the series\")\n",
    "    print(\"of numbers entered by the user\")\n",
    "    print()\n",
    "    n = int(input(\"Enter the number:\"))\n",
    "    sum = 0\n",
    "    for i in range(1, n+1):\n",
    "        num = int(input(i))\n",
    "        sum = sum + num\n",
    "        avg = sum /n\n",
    "    print(\"Average of series\", round(avg, 2))\n",
    "main()        "
   ]
  },
  {
   "cell_type": "code",
   "execution_count": 19,
   "metadata": {},
   "outputs": [
    {
     "name": "stdout",
     "output_type": "stream",
     "text": [
      "This program calculates the approximate value of pi\n",
      "summing the terms of the series\n",
      "\n",
      "Enter the number: 99\n",
      "Sum of 99 series 3.1216 and the difference is 0.02\n"
     ]
    }
   ],
   "source": [
    "#app_val_pi.py\n",
    "#program to calculate the approximate value of pi summing the terms of the series\n",
    "import math\n",
    "\n",
    "def main():\n",
    "    print(\"This program calculates the approximate value of pi\")\n",
    "    print(\"summing the terms of the series\")\n",
    "    print()\n",
    "    n = int(input(\"Enter the number: \"))\n",
    "    sum = 0\n",
    "    for i in range(1, n, 4):\n",
    "        sum = sum + (4/i) - (4/(i+2))\n",
    "        diff = math.pi - sum\n",
    "    print(\"Sum of\", n, \"series\", round(sum,4), \"and the difference is\", round(diff, 4))\n",
    "main()"
   ]
  }
 ],
 "metadata": {
  "kernelspec": {
   "display_name": "Python 3",
   "language": "python",
   "name": "python3"
  },
  "language_info": {
   "codemirror_mode": {
    "name": "ipython",
    "version": 3
   },
   "file_extension": ".py",
   "mimetype": "text/x-python",
   "name": "python",
   "nbconvert_exporter": "python",
   "pygments_lexer": "ipython3",
   "version": "3.7.6"
  }
 },
 "nbformat": 4,
 "nbformat_minor": 4
}
