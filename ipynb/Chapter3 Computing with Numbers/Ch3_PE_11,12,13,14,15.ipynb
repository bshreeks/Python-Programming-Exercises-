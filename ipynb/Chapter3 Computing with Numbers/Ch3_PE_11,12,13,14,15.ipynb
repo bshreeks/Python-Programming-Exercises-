{
 "cells": [
  {
   "cell_type": "code",
   "execution_count": 1,
   "metadata": {},
   "outputs": [
    {
     "name": "stdout",
     "output_type": "stream",
     "text": [
      "This program calculates the sum of a series\n",
      "\n",
      "enter the number: 5\n",
      "Sum of 5 series is 15\n"
     ]
    }
   ],
   "source": [
    "#sum_series.py\n",
    "#Program to calculate the sum of the first n natural numbers\n",
    "\n",
    "def main():\n",
    "    print(\"This program calculates the sum of a series\")\n",
    "    print()\n",
    "    n = int(input(\"enter the number: \"))\n",
    "    sum = 0\n",
    "    for i in range(1, n+1):\n",
    "        sum = sum + i\n",
    "    print(\"Sum of\", n,\"series is\", sum)\n",
    "main()"
   ]
  },
  {
   "cell_type": "code",
   "execution_count": 2,
   "metadata": {},
   "outputs": [
    {
     "name": "stdout",
     "output_type": "stream",
     "text": [
      "This program calculates the sum of cube of n natural numbers\n",
      "\n",
      "natural number: 4\n",
      "Sum of cube of 4 numbers is 100\n"
     ]
    }
   ],
   "source": [
    "#sum_of_cube.py\n",
    "# program to calculates the sum of the cube of first n natural numbers\n",
    "\n",
    "def main():\n",
    "    print(\"This program calculates the sum of cube of n natural numbers\")\n",
    "    print()\n",
    "    sum = 0\n",
    "    n = int(input(\"natural number: \"))\n",
    "    for i in range(1, n+1):\n",
    "        sum = sum + (i**3)\n",
    "        \n",
    "    print(\"Sum of cube of\", n ,\"numbers is\", sum)\n",
    "main()   "
   ]
  },
  {
   "cell_type": "code",
   "execution_count": 3,
   "metadata": {},
   "outputs": [
    {
     "name": "stdout",
     "output_type": "stream",
     "text": [
      "This program calculates the sum of user given n natural numbers\n",
      "\n",
      "Enter the number: 5\n",
      "13\n",
      "25\n",
      "36\n",
      "47\n",
      "58\n",
      "Sum of all  5  natural numbers is 29\n"
     ]
    }
   ],
   "source": [
    "#sum_series2.py\n",
    "#program to calculate sum of user given n natural numbers\n",
    "\n",
    "def main():\n",
    "    print(\"This program calculates the sum of user given n natural numbers\")\n",
    "    print()\n",
    "    n = int(input(\"Enter the number: \"))\n",
    "    sum = 0\n",
    "    for i in range(1, n+1):\n",
    "        num = int(input(i))\n",
    "        sum = sum + num\n",
    "    print(\"Sum of all \", n, \" natural numbers is\", sum)\n",
    "main()"
   ]
  },
  {
   "cell_type": "code",
   "execution_count": 4,
   "metadata": {},
   "outputs": [
    {
     "name": "stdout",
     "output_type": "stream",
     "text": [
      "This program calculates the average of the series\n",
      "of numbers entered by the user\n",
      "\n",
      "Enter the number:6\n",
      "17\n",
      "27\n",
      "37\n",
      "47\n",
      "57\n",
      "67\n",
      "Average of series 7.0\n"
     ]
    }
   ],
   "source": [
    "#avg_series.py\n",
    "#program to calculate the average of a series of numbers\n",
    "#entered by the user\n",
    "\n",
    "def main():\n",
    "    print(\"This program calculates the average of the series\")\n",
    "    print(\"of numbers entered by the user\")\n",
    "    print()\n",
    "    n = int(input(\"Enter the number:\"))\n",
    "    sum = 0\n",
    "    for i in range(1, n+1):\n",
    "        num = int(input(i))\n",
    "        sum = sum + num\n",
    "        avg = sum /n\n",
    "    print(\"Average of series\", round(avg, 2))\n",
    "main()        "
   ]
  },
  {
   "cell_type": "code",
   "execution_count": 1,
   "metadata": {},
   "outputs": [
    {
     "name": "stdout",
     "output_type": "stream",
     "text": [
      "This program calculates the approximate value of pi\n",
      "summing the terms of the series\n",
      "\n",
      "Enter the number: 1000\n",
      "Sum of 1000 series 3.1406 and the difference is 0.001\n"
     ]
    }
   ],
   "source": [
    "#app_val_pi.py\n",
    "#program to calculate the approximate value of pi summing the terms of the series\n",
    "import math\n",
    "\n",
    "def main():\n",
    "    print(\"This program calculates the approximate value of pi\")\n",
    "    print(\"summing the terms of the series\")\n",
    "    print()\n",
    "    n = int(input(\"Enter the number: \"))\n",
    "    sum = 0\n",
    "    for i in range(0, n):\n",
    "        sum = sum + (4 / (2*i+1)) * (-1)**i\n",
    "        \n",
    "        diff = math.pi - sum\n",
    "        \n",
    "    print(\"Sum of\", n, \"series\", round(sum,4), \"and the difference is\", round(diff, 4))\n",
    "main()"
   ]
  }
 ],
 "metadata": {
  "kernelspec": {
   "display_name": "Python 3",
   "language": "python",
   "name": "python3"
  },
  "language_info": {
   "codemirror_mode": {
    "name": "ipython",
    "version": 3
   },
   "file_extension": ".py",
   "mimetype": "text/x-python",
   "name": "python",
   "nbconvert_exporter": "python",
   "pygments_lexer": "ipython3",
   "version": "3.7.6"
  }
 },
 "nbformat": 4,
 "nbformat_minor": 4
}
