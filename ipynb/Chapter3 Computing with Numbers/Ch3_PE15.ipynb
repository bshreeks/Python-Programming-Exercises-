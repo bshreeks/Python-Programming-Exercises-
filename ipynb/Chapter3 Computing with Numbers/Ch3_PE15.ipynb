{
 "cells": [
  {
   "cell_type": "code",
   "execution_count": 2,
   "metadata": {},
   "outputs": [
    {
     "name": "stdout",
     "output_type": "stream",
     "text": [
      "This program calculates the approximate value of pi\n",
      "summing the terms of the series\n",
      "\n",
      "Enter the number: 1000\n",
      "Sum of 1000 series 3.1406 and the difference is 0.001\n"
     ]
    }
   ],
   "source": [
    "#app_val_pi.py\n",
    "#program to calculate the approximate value of pi summing the terms of the series\n",
    "\n",
    "import math\n",
    "\n",
    "def main():\n",
    "    print(\"This program calculates the approximate value of pi\")\n",
    "    print(\"summing the terms of the series\")\n",
    "    print()\n",
    "    n = int(input(\"Enter the number: \"))\n",
    "    sum = 0\n",
    "    for i in range(0, n):\n",
    "        sum = sum + (4 / (2*i+1)) * (-1)**i\n",
    "        \n",
    "        diff = math.pi - sum\n",
    "        \n",
    "    print(\"Sum of\", n, \"series\", round(sum,4), \"and the difference is\", round(diff, 4))\n",
    "main()"
   ]
  }
 ],
 "metadata": {
  "kernelspec": {
   "display_name": "Python 3",
   "language": "python",
   "name": "python3"
  },
  "language_info": {
   "codemirror_mode": {
    "name": "ipython",
    "version": 3
   },
   "file_extension": ".py",
   "mimetype": "text/x-python",
   "name": "python",
   "nbconvert_exporter": "python",
   "pygments_lexer": "ipython3",
   "version": "3.7.6"
  }
 },
 "nbformat": 4,
 "nbformat_minor": 4
}
