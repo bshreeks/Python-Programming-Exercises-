{
 "cells": [
  {
   "cell_type": "code",
   "execution_count": 4,
   "metadata": {},
   "outputs": [
    {
     "name": "stdout",
     "output_type": "stream",
     "text": [
      "This program calculates the cost of ordering\n",
      "a user given quantity of coffee in pounds\n",
      "\n",
      "Enter the amount of coffee to be ordered in pounds: 0.8\n",
      "Total cost of a coffee is $ 10.59\n"
     ]
    }
   ],
   "source": [
    "#coffeecost.py\n",
    "# program to calculate cost of ordering a user\n",
    "# given quantity of coffee in pounds\n",
    "\n",
    "def main():\n",
    "    print(\"This program calculates the cost of ordering\")\n",
    "    print(\"a user given quantity of coffee in pounds\")\n",
    "    print()\n",
    "    #cost of 1 pound of coffee in dollars\n",
    "    C = 10.5\n",
    "    #cost of shipping per pound in dollars\n",
    "    S = 0.86\n",
    "    #fixed cost for overhead in dollars\n",
    "    O = 1.5\n",
    "    A = float(input(\"Enter the amount of coffee to be ordered in pounds: \"))\n",
    "    #Calculating the toal cost\n",
    "    TC = A * C + A * S + O\n",
    "    print(\"Total cost of a coffee is $\",round(TC,2))\n",
    "    \n",
    "main()    "
   ]
  }
 ],
 "metadata": {
  "kernelspec": {
   "display_name": "Python 3",
   "language": "python",
   "name": "python3"
  },
  "language_info": {
   "codemirror_mode": {
    "name": "ipython",
    "version": 3
   },
   "file_extension": ".py",
   "mimetype": "text/x-python",
   "name": "python",
   "nbconvert_exporter": "python",
   "pygments_lexer": "ipython3",
   "version": "3.7.6"
  }
 },
 "nbformat": 4,
 "nbformat_minor": 4
}
