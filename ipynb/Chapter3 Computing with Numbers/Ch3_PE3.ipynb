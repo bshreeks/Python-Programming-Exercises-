{
 "cells": [
  {
   "cell_type": "code",
   "execution_count": 19,
   "metadata": {},
   "outputs": [
    {
     "name": "stdout",
     "output_type": "stream",
     "text": [
      "This program calculates the molecular weight of a carbohydrate (in grams per mole)\n",
      "given the number of carbon, hydrogen and oxygen atoms in the molecule\n",
      "\n",
      "Enter the number of carbon atoms: 2\n",
      "Enter the number of hydrogen & oxygen atoms (H2O): 6\n",
      "Molecular Weight of Carbohydrate:  132.11  grams per mole\n"
     ]
    }
   ],
   "source": [
    "#carbohydrate.py\n",
    "#Program to calculate the molecular weight of a carbohydrate (in grams per mole)\n",
    "#given the number of carbon, hydrogen and oxygen atoms in the molecule\n",
    "\n",
    "def main():\n",
    "    print(\"This program to calculates the molecular weight of a carbohydrate (in grams per mole)\")\n",
    "    print(\"given the number of carbon, hydrogen and oxygen atoms in the molecule\")\n",
    "    print()\n",
    "    x = int(input(\"Enter the number of carbon atoms: \"))\n",
    "    y = int(input(\"Enter the number of hydrogen & oxygen atoms (H2O): \"))\n",
    "    #Below is the atomic weight of individual atoms in grams/mole\n",
    "    H = 1.00794\n",
    "    C = 12.0107\n",
    "    O = 15.9994\n",
    "    \n",
    "    MW = C*x + ((2*H + O) * y)\n",
    "    print(\"Molecular Weight of Carbohydrate: \", round(MW, 2), \" grams per mole\")\n",
    "main()"
   ]
  }
 ],
 "metadata": {
  "kernelspec": {
   "display_name": "Python 3",
   "language": "python",
   "name": "python3"
  },
  "language_info": {
   "codemirror_mode": {
    "name": "ipython",
    "version": 3
   },
   "file_extension": ".py",
   "mimetype": "text/x-python",
   "name": "python",
   "nbconvert_exporter": "python",
   "pygments_lexer": "ipython3",
   "version": "3.7.6"
  }
 },
 "nbformat": 4,
 "nbformat_minor": 4
}
