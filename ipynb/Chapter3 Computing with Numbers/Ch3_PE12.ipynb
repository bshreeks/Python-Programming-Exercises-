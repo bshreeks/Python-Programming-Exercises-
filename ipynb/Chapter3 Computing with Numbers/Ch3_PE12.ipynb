{
 "cells": [
  {
   "cell_type": "code",
   "execution_count": 1,
   "metadata": {},
   "outputs": [
    {
     "name": "stdout",
     "output_type": "stream",
     "text": [
      "This program calculates the sum of cube of n natural numbers\n",
      "\n",
      "natural number: 5\n",
      "Sum of cube of 5 numbers is 225\n"
     ]
    }
   ],
   "source": [
    "#sum_of_cube.py\n",
    "# program to calculates the sum of the cube of first n natural numbers\n",
    "\n",
    "def main():\n",
    "    print(\"This program calculates the sum of cube of n natural numbers\")\n",
    "    print()\n",
    "    sum = 0\n",
    "    n = int(input(\"natural number: \"))\n",
    "    for i in range(1, n+1):\n",
    "        sum = sum + (i**3)\n",
    "        \n",
    "    print(\"Sum of cube of\", n ,\"numbers is\", sum)\n",
    "main()     "
   ]
  }
 ],
 "metadata": {
  "kernelspec": {
   "display_name": "Python 3",
   "language": "python",
   "name": "python3"
  },
  "language_info": {
   "codemirror_mode": {
    "name": "ipython",
    "version": 3
   },
   "file_extension": ".py",
   "mimetype": "text/x-python",
   "name": "python",
   "nbconvert_exporter": "python",
   "pygments_lexer": "ipython3",
   "version": "3.7.6"
  }
 },
 "nbformat": 4,
 "nbformat_minor": 4
}
