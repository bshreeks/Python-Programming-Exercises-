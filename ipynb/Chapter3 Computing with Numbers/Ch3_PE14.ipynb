{
 "cells": [
  {
   "cell_type": "code",
   "execution_count": 1,
   "metadata": {},
   "outputs": [
    {
     "name": "stdout",
     "output_type": "stream",
     "text": [
      "This program calculates the average of the series\n",
      "of numbers entered by the user\n",
      "\n",
      "Enter the number:4\n",
      "13\n",
      "24\n",
      "35\n",
      "47\n",
      "Average of series 4.75\n"
     ]
    }
   ],
   "source": [
    "#avg_series.py\n",
    "#program to calculate the average of a series of numbers\n",
    "#entered by the user\n",
    "\n",
    "def main():\n",
    "    print(\"This program calculates the average of the series\")\n",
    "    print(\"of numbers entered by the user\")\n",
    "    print()\n",
    "    n = int(input(\"Enter the number:\"))\n",
    "    sum = 0\n",
    "    for i in range(1, n+1):\n",
    "        num = int(input(i))\n",
    "        sum = sum + num\n",
    "        avg = sum /n\n",
    "    print(\"Average of series\", round(avg, 2))\n",
    "main()        "
   ]
  }
 ],
 "metadata": {
  "kernelspec": {
   "display_name": "Python 3",
   "language": "python",
   "name": "python3"
  },
  "language_info": {
   "codemirror_mode": {
    "name": "ipython",
    "version": 3
   },
   "file_extension": ".py",
   "mimetype": "text/x-python",
   "name": "python",
   "nbconvert_exporter": "python",
   "pygments_lexer": "ipython3",
   "version": "3.7.6"
  }
 },
 "nbformat": 4,
 "nbformat_minor": 4
}
