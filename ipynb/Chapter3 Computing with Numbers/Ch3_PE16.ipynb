{
 "cells": [
  {
   "cell_type": "code",
   "execution_count": 1,
   "metadata": {},
   "outputs": [
    {
     "name": "stdout",
     "output_type": "stream",
     "text": [
      "This program computes the nth fibonacci number in a series beginning from 1\n",
      "\n",
      "Enter the number: 10\n",
      "55\n"
     ]
    }
   ],
   "source": [
    "# Fib_num.py\n",
    "#program to compute the nth fibonacci number in a series beginning from 1\n",
    "\n",
    "def main():\n",
    "    print(\"This program computes the nth fibonacci number in a series beginning from 1\")\n",
    "    print()\n",
    "    n = int(input(\"Enter the number: \"))\n",
    "    f1 = 0\n",
    "    f2 = 1\n",
    "    for i in range(1, n):\n",
    "        f3 = f1 + f2\n",
    "        f1 = f2\n",
    "        f2 = f3\n",
    "        \n",
    "    print(f3)\n",
    "main()        "
   ]
  },
  {
   "cell_type": "code",
   "execution_count": 9,
   "metadata": {},
   "outputs": [
    {
     "name": "stdout",
     "output_type": "stream",
     "text": [
      "This program computes fibonacci series for n numbers\n",
      "\n",
      "Enter the number: 10\n",
      "1,1,2,3,5,8,13,21,34,55,"
     ]
    }
   ],
   "source": [
    "#Fib_series.py\n",
    "#program to calculate the n fibonacci series beginning from 1\n",
    "\n",
    "def main():\n",
    "    print(\"This program computes fibonacci series for n numbers\")\n",
    "    print()\n",
    "    n = int(input(\"Enter the number: \"))\n",
    "    f1 = 1\n",
    "    f2 = 0\n",
    "    f3 = 1\n",
    "    for i in range(n):\n",
    "        print(f3, end=\",\")\n",
    "        f1 = f2\n",
    "        f2 = f3\n",
    "        f3 = f1 + f2\n",
    "        \n",
    "main()        "
   ]
  }
 ],
 "metadata": {
  "kernelspec": {
   "display_name": "Python 3",
   "language": "python",
   "name": "python3"
  },
  "language_info": {
   "codemirror_mode": {
    "name": "ipython",
    "version": 3
   },
   "file_extension": ".py",
   "mimetype": "text/x-python",
   "name": "python",
   "nbconvert_exporter": "python",
   "pygments_lexer": "ipython3",
   "version": "3.7.6"
  }
 },
 "nbformat": 4,
 "nbformat_minor": 4
}
