{
 "cells": [
  {
   "cell_type": "code",
   "execution_count": 4,
   "metadata": {},
   "outputs": [
    {
     "name": "stdout",
     "output_type": "stream",
     "text": [
      "This program determines the distance to a lightning strike based\n",
      "on the time elapsed between the flash and the sound of thunder\n",
      "\n",
      "Enter the time elapsed in seconds: 30\n",
      "Distance travelled by light is 6.25 miles\n"
     ]
    }
   ],
   "source": [
    "#light_strike.py\n",
    "#program to determine the distance to a lightning strike based\n",
    "#on the time elapsed between the flash and the sound of thunder\n",
    "\n",
    "def main():\n",
    "    print(\"This program determines the distance to a lightning strike based\")\n",
    "    print(\"on the time elapsed between the flash and the sound of thunder\\n\")\n",
    "    \n",
    "    time = eval(input(\"Enter the time elapsed in seconds: \"))\n",
    "    # speed of sound = 1100 ft/sec\n",
    "    # 1 mile = 5280 ft\n",
    "    #distance traveled by light in miles\n",
    "    distance = (1100 * time) / 5280\n",
    "    print(\"Distance travelled by light is\", round(distance,2), \"miles\")\n",
    "main()"
   ]
  }
 ],
 "metadata": {
  "kernelspec": {
   "display_name": "Python 3",
   "language": "python",
   "name": "python3"
  },
  "language_info": {
   "codemirror_mode": {
    "name": "ipython",
    "version": 3
   },
   "file_extension": ".py",
   "mimetype": "text/x-python",
   "name": "python",
   "nbconvert_exporter": "python",
   "pygments_lexer": "ipython3",
   "version": "3.7.6"
  }
 },
 "nbformat": 4,
 "nbformat_minor": 4
}
