{
 "cells": [
  {
   "cell_type": "code",
   "execution_count": 7,
   "metadata": {},
   "outputs": [
    {
     "name": "stdout",
     "output_type": "stream",
     "text": [
      "This program calculates the sum of a series\n",
      "\n",
      "enter the number: 8\n",
      "Sum of 8 series is 36\n"
     ]
    }
   ],
   "source": [
    "#sum_series.py\n",
    "#Program to calculate the sum of the first n natural numbers\n",
    "\n",
    "def main():\n",
    "    print(\"This program calculates the sum of a series\")\n",
    "    print()\n",
    "    n = int(input(\"enter the number: \"))\n",
    "    sum = 0\n",
    "    for i in range(1, n+1):\n",
    "        sum = sum + i\n",
    "    print(\"Sum of\", n,\"series is\", sum)\n",
    "main()"
   ]
  }
 ],
 "metadata": {
  "kernelspec": {
   "display_name": "Python 3",
   "language": "python",
   "name": "python3"
  },
  "language_info": {
   "codemirror_mode": {
    "name": "ipython",
    "version": 3
   },
   "file_extension": ".py",
   "mimetype": "text/x-python",
   "name": "python",
   "nbconvert_exporter": "python",
   "pygments_lexer": "ipython3",
   "version": "3.7.6"
  }
 },
 "nbformat": 4,
 "nbformat_minor": 4
}
