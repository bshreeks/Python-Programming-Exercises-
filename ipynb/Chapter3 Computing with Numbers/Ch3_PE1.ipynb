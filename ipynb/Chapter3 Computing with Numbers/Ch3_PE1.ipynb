{
 "cells": [
  {
   "cell_type": "code",
   "execution_count": 2,
   "metadata": {},
   "outputs": [
    {
     "name": "stdout",
     "output_type": "stream",
     "text": [
      "This program calculates the Surface Area' and Volume of a sphere\n",
      "\n",
      "radius of a sphere: 5\n",
      "Volume of the sphere: 523.6 Surface Area of the sphere: 314.16\n"
     ]
    }
   ],
   "source": [
    "#VSAsphere.py\n",
    "#Program to calculate Volume and Surface Area of a Sphere\n",
    "\n",
    "import math\n",
    "def main():\n",
    "    print(\"This program calculates the Surface Area' and Volume of a sphere\")\n",
    "    print()\n",
    "    r = float(input(\"radius of a sphere: \"))\n",
    "    \n",
    "    Volume = 4/3 * math.pi * (r**3)\n",
    "    Area = 4 * math.pi * (r**2)\n",
    "    \n",
    "    print(\"Volume of the sphere:\",round(Volume,2), \"Surface Area of the sphere:\",round(Area, 2))\n",
    "    \n",
    "main()  "
   ]
  },
  {
   "cell_type": "code",
   "execution_count": 4,
   "metadata": {},
   "outputs": [
    {
     "name": "stdout",
     "output_type": "stream",
     "text": [
      "This program calculates the cost per square inch of a circular pizza\n",
      "given it's diameter and prize\n",
      "Diamater of the pizza in inches: 8\n",
      "Cost of the pizza in dollars: 12\n",
      "Cost per square inch of pizza 0.24\n"
     ]
    }
   ],
   "source": [
    "#pizzacost.py\n",
    "#Program to calculate cost of square inch of a circular pizza\n",
    "#given it's diameter and prize\n",
    "\n",
    "import math\n",
    "def main():\n",
    "    print(\"This program calculates the cost per square inch of a circular pizza\")\n",
    "    print(\"given it's diameter and prize\")\n",
    "    d = float(input(\"Diamater of the pizza in inches: \"))\n",
    "    p = float(input(\"Cost of the pizza in dollars: \"))\n",
    "    r = d/2\n",
    "    A = math.pi * (r**2)\n",
    "    CPSI = p / A\n",
    "    print(\"Cost per square inch of pizza\", round(CPSI, 2))\n",
    "main()"
   ]
  }
 ],
 "metadata": {
  "kernelspec": {
   "display_name": "Python 3",
   "language": "python",
   "name": "python3"
  },
  "language_info": {
   "codemirror_mode": {
    "name": "ipython",
    "version": 3
   },
   "file_extension": ".py",
   "mimetype": "text/x-python",
   "name": "python",
   "nbconvert_exporter": "python",
   "pygments_lexer": "ipython3",
   "version": "3.7.6"
  }
 },
 "nbformat": 4,
 "nbformat_minor": 4
}
