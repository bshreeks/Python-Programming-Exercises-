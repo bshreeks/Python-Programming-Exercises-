{
 "cells": [
  {
   "cell_type": "code",
   "execution_count": 1,
   "metadata": {},
   "outputs": [
    {
     "name": "stdout",
     "output_type": "stream",
     "text": [
      "This program converts temperature from Fahrenheit to Celsius\n",
      "\n",
      "Enter the Fahrenheit temperature: 50\n",
      "\n",
      "The temperature is  10.0 degree Celsius\n"
     ]
    }
   ],
   "source": [
    "#celsius.py\n",
    "#program to convert temperature from Fahrenheit to Celsius\n",
    "\n",
    "def main():\n",
    "    print(\"This program converts temperature from Fahrenheit to Celsius\")\n",
    "    print()\n",
    "    Fahrenheit = eval(input(\"Enter the Fahrenheit temperature: \"))\n",
    "    print()\n",
    "    Celsius = (Fahrenheit - 32) * 5/9\n",
    "    print(\"The temperature is \", Celsius, \"degree Celsius\")\n",
    "    \n",
    "main()"
   ]
  }
 ],
 "metadata": {
  "kernelspec": {
   "display_name": "Python 3",
   "language": "python",
   "name": "python3"
  },
  "language_info": {
   "codemirror_mode": {
    "name": "ipython",
    "version": 3
   },
   "file_extension": ".py",
   "mimetype": "text/x-python",
   "name": "python",
   "nbconvert_exporter": "python",
   "pygments_lexer": "ipython3",
   "version": "3.7.6"
  }
 },
 "nbformat": 4,
 "nbformat_minor": 4
}
