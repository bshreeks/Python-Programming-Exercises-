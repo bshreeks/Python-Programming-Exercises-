{
 "cells": [
  {
   "cell_type": "code",
   "execution_count": 2,
   "metadata": {},
   "outputs": [
    {
     "name": "stdout",
     "output_type": "stream",
     "text": [
      "This program converts kelometrs to miles\n",
      "\n",
      "Enter the distance measured in kelometers: 5\n",
      "Distance measured in miles is 3.1\n"
     ]
    }
   ],
   "source": [
    "#miles.py\n",
    "#program to convert kelometers to miles\n",
    "\n",
    "def main():\n",
    "    print(\"This program converts kelometrs to miles\")\n",
    "    print()\n",
    "    Km = eval(input(\"Enter the distance measured in kelometers: \"))\n",
    "    miles = 0.62 * Km\n",
    "    print(\"Distance measured in miles is\", miles)\n",
    "    \n",
    "main()"
   ]
  }
 ],
 "metadata": {
  "kernelspec": {
   "display_name": "Python 3",
   "language": "python",
   "name": "python3"
  },
  "language_info": {
   "codemirror_mode": {
    "name": "ipython",
    "version": 3
   },
   "file_extension": ".py",
   "mimetype": "text/x-python",
   "name": "python",
   "nbconvert_exporter": "python",
   "pygments_lexer": "ipython3",
   "version": "3.7.6"
  }
 },
 "nbformat": 4,
 "nbformat_minor": 4
}
