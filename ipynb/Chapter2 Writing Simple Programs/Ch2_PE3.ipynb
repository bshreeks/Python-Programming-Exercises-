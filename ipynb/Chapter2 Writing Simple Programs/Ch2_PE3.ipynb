{
 "cells": [
  {
   "cell_type": "code",
   "execution_count": 1,
   "metadata": {},
   "outputs": [
    {
     "name": "stdout",
     "output_type": "stream",
     "text": [
      "This program computes the average of three exam scores.\n",
      "Enter three scores seperated by a comma: 5, 6, 7\n",
      "The average score is:  6.0\n"
     ]
    }
   ],
   "source": [
    "#avg3.py\n",
    "# A program to calculate the average of three exam scores using multiple inputs\n",
    "\n",
    "def main():\n",
    "    print(\"This program computes the average of three exam scores.\")\n",
    "    \n",
    "    score1, score2, score3 = eval(input(\"Enter three scores seperated by a comma: \"))\n",
    "    average = (score1 + score2 + score3)/ 3\n",
    "    \n",
    "    print(\"The average score is: \", average)\n",
    "    \n",
    "main()"
   ]
  }
 ],
 "metadata": {
  "kernelspec": {
   "display_name": "Python 3",
   "language": "python",
   "name": "python3"
  },
  "language_info": {
   "codemirror_mode": {
    "name": "ipython",
    "version": 3
   },
   "file_extension": ".py",
   "mimetype": "text/x-python",
   "name": "python",
   "nbconvert_exporter": "python",
   "pygments_lexer": "ipython3",
   "version": "3.7.6"
  }
 },
 "nbformat": 4,
 "nbformat_minor": 4
}
