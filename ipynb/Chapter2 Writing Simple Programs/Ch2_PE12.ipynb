{
 "cells": [
  {
   "cell_type": "code",
   "execution_count": null,
   "metadata": {},
   "outputs": [
    {
     "name": "stdout",
     "output_type": "stream",
     "text": [
      "This program gets a mathematical expression from the user,\n",
      "iterates it 100 times and prints the answers\n",
      "\n",
      "Enter mathematical expression: 3+4\n",
      "7\n",
      "Enter mathematical expression: 5*6\n",
      "30\n"
     ]
    }
   ],
   "source": [
    "#calculator.py\n",
    "#program to write and print an answer for a mathematical expression\n",
    "\n",
    "def main():\n",
    "    print(\"This program gets a mathematical expression from the user,\")\n",
    "    print(\"iterates it 100 times and prints the answers\")\n",
    "    print()\n",
    "    for i in range(100):\n",
    "        x = eval(input(\"Enter mathematical expression: \"))\n",
    "        result = x\n",
    "        print(result)\n",
    "main()"
   ]
  }
 ],
 "metadata": {
  "kernelspec": {
   "display_name": "Python 3",
   "language": "python",
   "name": "python3"
  },
  "language_info": {
   "codemirror_mode": {
    "name": "ipython",
    "version": 3
   },
   "file_extension": ".py",
   "mimetype": "text/x-python",
   "name": "python",
   "nbconvert_exporter": "python",
   "pygments_lexer": "ipython3",
   "version": "3.7.6"
  }
 },
 "nbformat": 4,
 "nbformat_minor": 4
}
