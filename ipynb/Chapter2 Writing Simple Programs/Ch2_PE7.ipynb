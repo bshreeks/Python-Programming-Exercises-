{
 "cells": [
  {
   "cell_type": "code",
   "execution_count": 1,
   "metadata": {},
   "outputs": [
    {
     "name": "stdout",
     "output_type": "stream",
     "text": [
      "The program to compute the total accumulation of investment\n",
      "where user invests a certain fixed ammount every year\n",
      "\n",
      "Enter the initial amount: 1000\n",
      "Enter the anual interest rate: 0.02\n",
      "Enter the yearly investment: 500\n",
      "Enter the value in years: 10\n",
      "\n",
      "principal for  0  year is :  1000\n",
      "return after  0  years is :  1020.0\n",
      "principal for  1  year is :  1520.0\n",
      "return after  1  years is :  1550.4\n",
      "principal for  2  year is :  2050.4\n",
      "return after  2  years is :  2091.41\n",
      "principal for  3  year is :  2591.41\n",
      "return after  3  years is :  2643.24\n",
      "principal for  4  year is :  3143.24\n",
      "return after  4  years is :  3206.1\n",
      "principal for  5  year is :  3706.1\n",
      "return after  5  years is :  3780.22\n",
      "principal for  6  year is :  4280.22\n",
      "return after  6  years is :  4365.83\n",
      "principal for  7  year is :  4865.83\n",
      "return after  7  years is :  4963.14\n",
      "principal for  8  year is :  5463.14\n",
      "return after  8  years is :  5572.41\n",
      "principal for  9  year is :  6072.41\n",
      "return after  9  years is :  6193.85\n",
      "The value in 10 years is: 6193.85\n"
     ]
    }
   ],
   "source": [
    "#futval_2.py\n",
    "#program to compute the total accumulation of investment\n",
    "# where user invests a certain fixed ammount every year\n",
    "\n",
    "def main():\n",
    "    print(\"The program to compute the total accumulation of investment\")\n",
    "    print(\"where user invests a certain fixed ammount every year\")\n",
    "    print()\n",
    "    principal = eval(input(\"Enter the initial amount: \"))\n",
    "    apr = eval(input(\"Enter the anual interest rate: \"))\n",
    "    yrly_invtmt = eval(input(\"Enter the yearly investment: \"))\n",
    "    yrs = eval(input(\"Enter the value in years: \"))\n",
    "    print()\n",
    "        \n",
    "    for i in range(yrs):\n",
    "        print(\"principal for \",i,\" year is : \", round(principal, 2))\n",
    "        return1 = principal * (1+apr)\n",
    "        print(\"return after \",i,\" years is : \", round(return1, 2))\n",
    "        principal = (return1 + yrly_invtmt)\n",
    "    print(\"The value in\",yrs, \"years is:\", round(return1, 2))\n",
    "    \n",
    "main()"
   ]
  }
 ],
 "metadata": {
  "kernelspec": {
   "display_name": "Python 3",
   "language": "python",
   "name": "python3"
  },
  "language_info": {
   "codemirror_mode": {
    "name": "ipython",
    "version": 3
   },
   "file_extension": ".py",
   "mimetype": "text/x-python",
   "name": "python",
   "nbconvert_exporter": "python",
   "pygments_lexer": "ipython3",
   "version": "3.7.6"
  }
 },
 "nbformat": 4,
 "nbformat_minor": 4
}
