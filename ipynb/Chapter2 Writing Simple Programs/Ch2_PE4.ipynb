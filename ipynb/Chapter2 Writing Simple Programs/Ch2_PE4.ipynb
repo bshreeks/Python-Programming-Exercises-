{
 "cells": [
  {
   "cell_type": "code",
   "execution_count": 8,
   "metadata": {},
   "outputs": [
    {
     "name": "stdout",
     "output_type": "stream",
     "text": [
      "This program converts a temperature from celsius to fahrenheit\n",
      "five times, each time with user input\n",
      "\n",
      "Enter celsius temperature: 0\n",
      "32.0\n",
      "Enter celsius temperature: 27\n",
      "80.6\n",
      "Enter celsius temperature: 28\n",
      "82.4\n",
      "Enter celsius temperature: -10\n",
      "14.0\n",
      "Enter celsius temperature: -24\n",
      "-11.200000000000003\n"
     ]
    }
   ],
   "source": [
    "#convert_1.py\n",
    "#program to convert celsius to fahrenheit five times\n",
    "# each time with the user input\n",
    "\n",
    "def main():\n",
    "    print(\"This program converts a temperature from celsius to fahrenheit\")\n",
    "    print(\"five times, each time with the user input\")\n",
    "    print()\n",
    "    \n",
    "    for celsius in range(5):\n",
    "        celsius = eval(input(\"Enter celsius temperature: \")) \n",
    "        fahrenheit = 9/5 * celsius + 32\n",
    "        print(fahrenheit)\n",
    "        \n",
    "main()"
   ]
  }
 ],
 "metadata": {
  "kernelspec": {
   "display_name": "Python 3",
   "language": "python",
   "name": "python3"
  },
  "language_info": {
   "codemirror_mode": {
    "name": "ipython",
    "version": 3
   },
   "file_extension": ".py",
   "mimetype": "text/x-python",
   "name": "python",
   "nbconvert_exporter": "python",
   "pygments_lexer": "ipython3",
   "version": "3.7.6"
  }
 },
 "nbformat": 4,
 "nbformat_minor": 4
}
