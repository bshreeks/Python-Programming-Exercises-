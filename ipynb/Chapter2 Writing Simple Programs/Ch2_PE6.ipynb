{
 "cells": [
  {
   "cell_type": "code",
   "execution_count": 2,
   "metadata": {},
   "outputs": [
    {
     "name": "stdout",
     "output_type": "stream",
     "text": [
      "This program computes the value of an investment\n",
      "carried by user given number of years into the future\n",
      "\n",
      "Enter the initial principal: 1000\n",
      "Enter the anual interest rate: 0.02\n",
      "Enter the value in years: 5\n",
      "\n",
      "The value in 5 years is: 1104.0808032\n"
     ]
    }
   ],
   "source": [
    "#futval_1.py\n",
    "#program to compute value of an investment\n",
    "#carried by user given number of years into the future\n",
    "\n",
    "def main():\n",
    "    print(\"This program computes the value of an investment\")\n",
    "    print(\"carried by user given number of years into the future\")\n",
    "    print()\n",
    "    principal = eval(input(\"Enter the initial principal: \"))\n",
    "    apr = eval(input(\"Enter the anual interest rate: \"))\n",
    "    yrs = eval(input(\"Enter the value in years: \"))\n",
    "    print()\n",
    "    for i in range(yrs):\n",
    "        principal = principal * (1+apr)\n",
    "    print(\"The value in\",yrs,\"years is:\", principal)\n",
    "    \n",
    "main()"
   ]
  }
 ],
 "metadata": {
  "kernelspec": {
   "display_name": "Python 3",
   "language": "python",
   "name": "python3"
  },
  "language_info": {
   "codemirror_mode": {
    "name": "ipython",
    "version": 3
   },
   "file_extension": ".py",
   "mimetype": "text/x-python",
   "name": "python",
   "nbconvert_exporter": "python",
   "pygments_lexer": "ipython3",
   "version": "3.7.6"
  }
 },
 "nbformat": 4,
 "nbformat_minor": 4
}
