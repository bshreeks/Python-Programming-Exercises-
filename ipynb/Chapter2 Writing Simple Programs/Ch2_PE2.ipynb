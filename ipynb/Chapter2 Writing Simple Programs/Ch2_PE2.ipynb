{
 "cells": [
  {
   "cell_type": "code",
   "execution_count": 2,
   "metadata": {},
   "outputs": [
    {
     "name": "stdout",
     "output_type": "stream",
     "text": [
      "This program converts the Celsius temperature to Fahrenheit\n",
      "What is the celsius temperature? 45\n",
      "The temperature is 113.0 degree Fahrenheit.\n",
      "Press the <Enter> key to quit. \n"
     ]
    }
   ],
   "source": [
    "#convert.py\n",
    "# A program to convert Celsius temps to Fahrenheit\n",
    "\n",
    "def main():\n",
    "    print(\"This program converts the Celsius temperature to Fahrenheit\")\n",
    "    \n",
    "    celsius = eval(input(\"What is the celsius temperature? \"))\n",
    "    fahrenheit = 9/5 * celsius + 32\n",
    "    print(\"The temperature is\", fahrenheit, \"degree Fahrenheit.\")\n",
    "    input(\"Press the <Enter> key to quit. \")\n",
    "    \n",
    "main()"
   ]
  }
 ],
 "metadata": {
  "kernelspec": {
   "display_name": "Python 3",
   "language": "python",
   "name": "python3"
  },
  "language_info": {
   "codemirror_mode": {
    "name": "ipython",
    "version": 3
   },
   "file_extension": ".py",
   "mimetype": "text/x-python",
   "name": "python",
   "nbconvert_exporter": "python",
   "pygments_lexer": "ipython3",
   "version": "3.7.6"
  }
 },
 "nbformat": 4,
 "nbformat_minor": 4
}
