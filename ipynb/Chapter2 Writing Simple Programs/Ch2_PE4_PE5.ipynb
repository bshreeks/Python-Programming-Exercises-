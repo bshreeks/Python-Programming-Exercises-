{
 "cells": [
  {
   "cell_type": "code",
   "execution_count": 8,
   "metadata": {},
   "outputs": [
    {
     "name": "stdout",
     "output_type": "stream",
     "text": [
      "This program converts a temperature from celsius to fahrenheit\n",
      "five times, each time with user input\n",
      "\n",
      "Enter celsius temperature: 0\n",
      "32.0\n",
      "Enter celsius temperature: 27\n",
      "80.6\n",
      "Enter celsius temperature: 28\n",
      "82.4\n",
      "Enter celsius temperature: -10\n",
      "14.0\n",
      "Enter celsius temperature: -24\n",
      "-11.200000000000003\n"
     ]
    }
   ],
   "source": [
    "#convert_1.py\n",
    "#program to convert celsius to fahrenheit five times\n",
    "# each time with user input\n",
    "\n",
    "def main():\n",
    "    print(\"This program converts a temperature from celsius to fahrenheit\")\n",
    "    print(\"five times, each time with user input\")\n",
    "    print()\n",
    "    \n",
    "    for celsius in range(5):\n",
    "        celsius = eval(input(\"Enter celsius temperature: \")) \n",
    "        fahrenheit = 9/5 * celsius + 32\n",
    "        print(fahrenheit)\n",
    "        \n",
    "main()"
   ]
  },
  {
   "cell_type": "code",
   "execution_count": 7,
   "metadata": {},
   "outputs": [
    {
     "name": "stdout",
     "output_type": "stream",
     "text": [
      "This program prints a table of celsius and fahrenheit equivalents\n",
      "every 10 degrees from 0 C to 100 C\n",
      "\n",
      "Celsius(C)   Fahrenheit(F)\n",
      "--------------------------\n",
      "0             32.0\n",
      "10             50.0\n",
      "20             68.0\n",
      "30             86.0\n",
      "40             104.0\n",
      "50             122.0\n",
      "60             140.0\n",
      "70             158.0\n",
      "80             176.0\n",
      "90             194.0\n",
      "100             212.0\n"
     ]
    }
   ],
   "source": [
    "#convert_2.py\n",
    "#program to print a table of celsius & fahrenheit equivalents\n",
    "#every 10 degrees from 0 C to 100 C\n",
    "\n",
    "def main():\n",
    "    print(\"This program prints a table of celsius and fahrenheit equivalents\")\n",
    "    print(\"every 10 degrees from 0 C to 100 C\")\n",
    "    print()\n",
    "    \n",
    "    celsius = range(0, 101, 10)\n",
    "    print(\"Celsius(C)\", \"Fahrenheit(F)\", sep=\"   \")\n",
    "    print(\"--------------------------\")\n",
    "    for value in celsius:\n",
    "        fahrenheit = 9/5 * value + 32\n",
    "        print(value, fahrenheit, sep=\"             \")\n",
    "main()        "
   ]
  }
 ],
 "metadata": {
  "kernelspec": {
   "display_name": "Python 3",
   "language": "python",
   "name": "python3"
  },
  "language_info": {
   "codemirror_mode": {
    "name": "ipython",
    "version": 3
   },
   "file_extension": ".py",
   "mimetype": "text/x-python",
   "name": "python",
   "nbconvert_exporter": "python",
   "pygments_lexer": "ipython3",
   "version": "3.7.6"
  }
 },
 "nbformat": 4,
 "nbformat_minor": 4
}
