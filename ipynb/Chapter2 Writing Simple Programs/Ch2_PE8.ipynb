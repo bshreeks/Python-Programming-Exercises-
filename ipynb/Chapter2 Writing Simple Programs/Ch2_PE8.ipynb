{
 "cells": [
  {
   "cell_type": "code",
   "execution_count": 1,
   "metadata": {},
   "outputs": [
    {
     "name": "stdout",
     "output_type": "stream",
     "text": [
      "This program computes the compound interest on yearly interest\n",
      "rate and period (no. of times the interest is compounded each year)\n",
      "\n",
      "Enter principal amount: 1000\n",
      "Enter yearly interest rate: 0.02\n",
      "Enter the number of times the interest is compounded annually: 3\n",
      "Enter the number of years: 4\n",
      "\n",
      "The principal value in 4 years is: 1375.67\n"
     ]
    }
   ],
   "source": [
    "#futval.py\n",
    "#program to compute the compound interest on user given yearly interest\n",
    "#rate and period(no.of times the interst is compunded each year)\n",
    "\n",
    "def main():\n",
    "    print(\"This program computes the compound interest on yearly interest\")\n",
    "    print(\"rate and period (no. of times the interest is compounded each year)\")\n",
    "    print()\n",
    "    principal = eval(input(\"Enter principal amount: \"))\n",
    "    AIR = eval(input(\"Enter yearly interest rate: \"))\n",
    "    n = eval(input(\"Enter the number of times the interest is compounded annually: \"))\n",
    "    t = eval(input(\"Enter the number of years: \"))\n",
    "    print()\n",
    "    for i in range(t):\n",
    "        principal = principal * ((1 + AIR/n)**(n*t))\n",
    "    print(\"The principal value in\", t , \"years is:\", round(principal, 2))\n",
    "main()"
   ]
  }
 ],
 "metadata": {
  "kernelspec": {
   "display_name": "Python 3",
   "language": "python",
   "name": "python3"
  },
  "language_info": {
   "codemirror_mode": {
    "name": "ipython",
    "version": 3
   },
   "file_extension": ".py",
   "mimetype": "text/x-python",
   "name": "python",
   "nbconvert_exporter": "python",
   "pygments_lexer": "ipython3",
   "version": "3.7.6"
  }
 },
 "nbformat": 4,
 "nbformat_minor": 4
}
