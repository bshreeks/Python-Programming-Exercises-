{
 "cells": [
  {
   "cell_type": "code",
   "execution_count": 4,
   "metadata": {},
   "outputs": [
    {
     "name": "stdout",
     "output_type": "stream",
     "text": [
      "This program converts user given temperature in Fahrenheit to Celsius & Kelvin\n",
      "\n",
      "Enter temperature in Fahrenheit: 60\n",
      "Tempearture in Celsius is  50.4  C\n",
      "Temperature in Kelvin is  323.55  K\n"
     ]
    }
   ],
   "source": [
    "#Kelvin.py\n",
    "#Program to convert temperature from Fahrenheit to Celsius and Kelvin\n",
    "\n",
    "def main():\n",
    "    print(\"This program converts user given temperature in Fahrenheit to Celsius & Kelvin\")\n",
    "    print()\n",
    "    F = float(input(\"Enter temperature in Fahrenheit: \"))\n",
    "    Celsius = (F - 32) * 9/5\n",
    "    Kelvin = Celsius + 273.15\n",
    "    print(\"Tempearture in Celsius is \", Celsius,\" C\")\n",
    "    print(\"Temperature in Kelvin is \", round(Kelvin, 2),\" K\")\n",
    "main()"
   ]
  }
 ],
 "metadata": {
  "kernelspec": {
   "display_name": "Python 3",
   "language": "python",
   "name": "python3"
  },
  "language_info": {
   "codemirror_mode": {
    "name": "ipython",
    "version": 3
   },
   "file_extension": ".py",
   "mimetype": "text/x-python",
   "name": "python",
   "nbconvert_exporter": "python",
   "pygments_lexer": "ipython3",
   "version": "3.7.6"
  }
 },
 "nbformat": 4,
 "nbformat_minor": 4
}
