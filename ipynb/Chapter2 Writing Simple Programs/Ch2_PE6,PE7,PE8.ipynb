{
 "cells": [
  {
   "cell_type": "code",
   "execution_count": 2,
   "metadata": {},
   "outputs": [
    {
     "name": "stdout",
     "output_type": "stream",
     "text": [
      "This program computes the value of an investment\n",
      "carried by user given number of years into the future\n",
      "\n",
      "Enter the initial principal: 1000\n",
      "Enter the anual interest rate: 0.02\n",
      "Enter the value in years: 5\n",
      "\n",
      "The value in 5 years is: 1104.0808032\n"
     ]
    }
   ],
   "source": [
    "#futval_1.py\n",
    "#program to compute value of an investment\n",
    "#carried by user given number of years into the future\n",
    "\n",
    "def main():\n",
    "    print(\"This program computes the value of an investment\")\n",
    "    print(\"carried by user given number of years into the future\")\n",
    "    print()\n",
    "    principal = eval(input(\"Enter the initial principal: \"))\n",
    "    apr = eval(input(\"Enter the anual interest rate: \"))\n",
    "    yrs = eval(input(\"Enter the value in years: \"))\n",
    "    print()\n",
    "    for i in range(yrs):\n",
    "        principal = principal * (1+apr)\n",
    "    print(\"The value in\",yrs,\"years is:\", principal)\n",
    "    \n",
    "main()"
   ]
  },
  {
   "cell_type": "code",
   "execution_count": 9,
   "metadata": {},
   "outputs": [
    {
     "name": "stdout",
     "output_type": "stream",
     "text": [
      "The program to compute the total accumulation of investment\n",
      "where user invests a certain fixed ammount every year\n",
      "\n",
      "Enter the initial amount: 1000\n",
      "Enter the anual interest rate: 0.03\n",
      "Enter the yearly investment: 500\n",
      "Enter the value in years: 5\n",
      "\n",
      "principal for  0  year is :  1000\n",
      "return after  0  years is :  1030.0\n",
      "principal for  1  year is :  1530.0\n",
      "return after  1  years is :  1575.9\n",
      "principal for  2  year is :  2075.9\n",
      "return after  2  years is :  2138.18\n",
      "principal for  3  year is :  2638.18\n",
      "return after  3  years is :  2717.32\n",
      "principal for  4  year is :  3217.32\n",
      "return after  4  years is :  3313.84\n",
      "The value in 5 years is: 3313.84\n"
     ]
    }
   ],
   "source": [
    "#futval_2.py\n",
    "#program to compute the total accumulation of investment\n",
    "# where user invests a certain fixed ammount every year\n",
    "\n",
    "def main():\n",
    "    print(\"The program to compute the total accumulation of investment\")\n",
    "    print(\"where user invests a certain fixed ammount every year\")\n",
    "    print()\n",
    "    principal = eval(input(\"Enter the initial amount: \"))\n",
    "    apr = eval(input(\"Enter the anual interest rate: \"))\n",
    "    yrly_invtmt = eval(input(\"Enter the yearly investment: \"))\n",
    "    yrs = eval(input(\"Enter the value in years: \"))\n",
    "    print()\n",
    "        \n",
    "    for i in range(yrs):\n",
    "        print(\"principal for \",i,\" year is : \", round(principal, 2))\n",
    "        return1 = principal * (1+apr)\n",
    "        print(\"return after \",i,\" years is : \", round(return1, 2))\n",
    "        principal = (return1 + yrly_invtmt)\n",
    "    print(\"The value in\",yrs, \"years is:\", round(return1, 2))\n",
    "    \n",
    "main()"
   ]
  },
  {
   "cell_type": "code",
   "execution_count": 11,
   "metadata": {},
   "outputs": [
    {
     "name": "stdout",
     "output_type": "stream",
     "text": [
      "This program computes the compound interest on yearly interest\n",
      "rate and period (no. of times the interest is compounded each year)\n",
      "\n",
      "Enter principal amount: 1000\n",
      "Enter yearly interest rate: 0.03\n",
      "Enter the number of times the interest is compounded annually: 4\n",
      "Enter the number of years: 5\n",
      "\n",
      "The principal value in 5 years is: 2111.08\n"
     ]
    }
   ],
   "source": [
    "#futval.py\n",
    "#program to compute the compound interest on user given yearly interest\n",
    "#rate and period(no.of times the interst is compunded each year)\n",
    "\n",
    "def main():\n",
    "    print(\"This program computes the compound interest on yearly interest\")\n",
    "    print(\"rate and period (no. of times the interest is compounded each year)\")\n",
    "    print()\n",
    "    principal = eval(input(\"Enter principal amount: \"))\n",
    "    AIR = eval(input(\"Enter yearly interest rate: \"))\n",
    "    n = eval(input(\"Enter the number of times the interest is compounded annually: \"))\n",
    "    t = eval(input(\"Enter the number of years: \"))\n",
    "    print()\n",
    "    for i in range(t):\n",
    "        principal = principal * ((1 + AIR/n)**(n*t))\n",
    "    print(\"The principal value in\", t , \"years is:\", round(principal, 2))\n",
    "main()"
   ]
  }
 ],
 "metadata": {
  "kernelspec": {
   "display_name": "Python 3",
   "language": "python",
   "name": "python3"
  },
  "language_info": {
   "codemirror_mode": {
    "name": "ipython",
    "version": 3
   },
   "file_extension": ".py",
   "mimetype": "text/x-python",
   "name": "python",
   "nbconvert_exporter": "python",
   "pygments_lexer": "ipython3",
   "version": "3.7.6"
  }
 },
 "nbformat": 4,
 "nbformat_minor": 4
}
