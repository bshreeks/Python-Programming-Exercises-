{
 "cells": [
  {
   "cell_type": "code",
   "execution_count": 11,
   "metadata": {},
   "outputs": [
    {
     "name": "stdout",
     "output_type": "stream",
     "text": [
      "This program accepts an exam score as input and prints out\n",
      "the corresponding grade\n",
      "\n",
      "Enter Exam Score: 90\n",
      "The corresponding grade of the given score is A\n"
     ]
    }
   ],
   "source": [
    "#ExamScore.py\n",
    "#program which accepts an exam score as input and prints out the corresponding grade\n",
    "\n",
    "def main():\n",
    "    print(\"This program accepts an exam score as input and prints out\")\n",
    "    print(\"the corresponding grade\\n\")\n",
    "    \n",
    "    score = int(input(\"Enter Exam Score: \"))\n",
    "                \n",
    "    \n",
    "    grades = ['F','F','F','F','F','F','F','F','F','F','F','F','F','F','F','F','F','F','F','F','F','F','F','F','F','F','F','F',\n",
    "             'F','F','F','F','F','F','F','F','F','F','F','F','F','F','F','F','F','F','F','F','F','F','F','F','F','F','F','F',\n",
    "             'F','F','F','F','D', 'D','D','D','D','D','D','D','D','D','C','C','C','C','C','C','C','C','C','C','B','B','B','B',\n",
    "             'B','B','B','B','B','B','A','A','A','A','A','A','A','A','A','A','A']\n",
    "                \n",
    "    grade = grades[score]\n",
    "    print(\"The corresponding grade of the given score is\", grade)\n",
    "main()               "
   ]
  }
 ],
 "metadata": {
  "kernelspec": {
   "display_name": "Python 3",
   "language": "python",
   "name": "python3"
  },
  "language_info": {
   "codemirror_mode": {
    "name": "ipython",
    "version": 3
   },
   "file_extension": ".py",
   "mimetype": "text/x-python",
   "name": "python",
   "nbconvert_exporter": "python",
   "pygments_lexer": "ipython3",
   "version": "3.7.6"
  }
 },
 "nbformat": 4,
 "nbformat_minor": 4
}
