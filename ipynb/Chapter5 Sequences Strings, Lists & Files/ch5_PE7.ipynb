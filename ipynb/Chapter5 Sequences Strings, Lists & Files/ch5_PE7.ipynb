{
 "cells": [
  {
   "cell_type": "code",
   "execution_count": 1,
   "metadata": {},
   "outputs": [
    {
     "name": "stdout",
     "output_type": "stream",
     "text": [
      "This program encodes a given string (plain text) and a key with some value with Unicode character set\n",
      "\n",
      "Enter a plain text: saurpuss\n",
      "Enter  a value: 2\n",
      "Encoded Message is ucwtrwuu\n"
     ]
    }
   ],
   "source": [
    "#cipher ceaser\n",
    "#program to encode and decode ceaser cipher\n",
    "\n",
    "def main():\n",
    "    print('This program encodes a given string (plain text) and a key with some value with Unicode character set\\n')\n",
    "    \n",
    "    Text = input('Enter a plain text: ')\n",
    "    key = int(input('Enter  a value: '))\n",
    "    \n",
    "    message = \"\"\n",
    "    for ch in Text:\n",
    "        encoded_msg = chr(ord(ch) + key)\n",
    "        message = message + encoded_msg\n",
    "    print('Encoded Message is', message)\n",
    "main()        "
   ]
  }
 ],
 "metadata": {
  "kernelspec": {
   "display_name": "Python 3",
   "language": "python",
   "name": "python3"
  },
  "language_info": {
   "codemirror_mode": {
    "name": "ipython",
    "version": 3
   },
   "file_extension": ".py",
   "mimetype": "text/x-python",
   "name": "python",
   "nbconvert_exporter": "python",
   "pygments_lexer": "ipython3",
   "version": "3.7.6"
  }
 },
 "nbformat": 4,
 "nbformat_minor": 4
}
