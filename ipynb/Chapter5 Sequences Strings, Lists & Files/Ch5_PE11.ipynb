{
 "cells": [
  {
   "cell_type": "code",
   "execution_count": 7,
   "metadata": {},
   "outputs": [
    {
     "name": "stdout",
     "output_type": "stream",
     "text": [
      "This program illustrates a chaotic function\n",
      "\n",
      "Enter two numbers between 0 and 1 with a comma: 0.25, 0.26\n",
      "\n",
      " index       0.25         0.26    \n",
      "----------------------------------\n",
      "   0       0.731250     0.750360  \n",
      "   1       0.766441     0.730547  \n",
      "   2       0.698135     0.767707  \n",
      "   3       0.821896     0.695499  \n",
      "   4       0.570894     0.825942  \n",
      "   5       0.955399     0.560671  \n",
      "   6       0.166187     0.960644  \n",
      "   7       0.540418     0.147447  \n",
      "   8       0.968629     0.490255  \n",
      "   9       0.118509     0.974630  \n"
     ]
    }
   ],
   "source": [
    "#chaos1.py\n",
    "#Illustrates a chaotic function\n",
    "\n",
    "def main():\n",
    "    print(\"This program illustrates a chaotic function\\n\")\n",
    "    \n",
    "    #enter the two values\n",
    "    x1, x2 = eval(input('Enter two numbers between 0 and 1 with a comma: '))\n",
    "    print()\n",
    "        \n",
    "    print(\"{0:^8} {1:^12} {2:^12}\".format(\"index\", 0.25, 0.26))\n",
    "    print('----------------------------------')\n",
    "    #loop through 10 iteration for a given function\n",
    "    for i in range(10):\n",
    "        x1 = 3.9 * x1 * (1 - x1)\n",
    "        x2 = 3.9 * x2 * (1 - x2)\n",
    "        print(\"{0:^8} {1:^12.6f} {2:^12.6f}\".format(i, x1, x2))\n",
    "main()"
   ]
  }
 ],
 "metadata": {
  "kernelspec": {
   "display_name": "Python 3",
   "language": "python",
   "name": "python3"
  },
  "language_info": {
   "codemirror_mode": {
    "name": "ipython",
    "version": 3
   },
   "file_extension": ".py",
   "mimetype": "text/x-python",
   "name": "python",
   "nbconvert_exporter": "python",
   "pygments_lexer": "ipython3",
   "version": "3.7.6"
  }
 },
 "nbformat": 4,
 "nbformat_minor": 4
}
