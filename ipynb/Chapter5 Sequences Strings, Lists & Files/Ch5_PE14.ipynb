{
 "cells": [
  {
   "cell_type": "code",
   "execution_count": 129,
   "metadata": {
    "scrolled": false
   },
   "outputs": [
    {
     "name": "stdout",
     "output_type": "stream",
     "text": [
      "The program accepts a file name as input and prints three numbers showing\n",
      "the count of lines, words, and characters in the file\n",
      "what file are the words in?test.txt\n",
      "what file are the counts of lines, words, and characters go in?test_out.txt\n",
      "[['Father of the nation forgotten by his own people', ''], ['Kept alive by those who hardly knew him']]\n"
     ]
    }
   ],
   "source": [
    "# wordcount.py\n",
    "#This program analyzes a file to determine the no.of lines, words, and characters\n",
    "\n",
    "def main():\n",
    "    print(\"The program accepts a file name as input and prints three numbers showing\")\n",
    "    print(\"the count of lines, words, and characters in the file\")\n",
    "    \n",
    "    #get the file names\n",
    "    infileName = input(\"what file are the words in?\")\n",
    "    outfileName = input(\"what file are the counts of lines, words, and characters go in?\")\n",
    "    \n",
    "    #open the files\n",
    "    infile = open(infileName, 'r')\n",
    "    outfile = open(outfileName, 'w')\n",
    "    \n",
    "    my_list = []  #create an empty list\n",
    "    \n",
    "    #loop through the line in the infile and append my_list\n",
    "    for lines in infile:\n",
    "        my_list.append(lines.split(\"\\n\"))\n",
    "    \n",
    "        #calculate the length of lines, words and characters from my-list\n",
    "        len_lines = [len(x) for x in my_list]\n",
    "        len_words = [len(y.split()) for x in my_list for y in x]\n",
    "        sum_words = 0\n",
    "        for values in len_words:\n",
    "            sum_words = sum_words + values\n",
    "        len_ch = [len(y.replace(\" \", \"\")) for x in my_list for y in x]\n",
    "        sum_ch = 0\n",
    "        for values in len_ch:\n",
    "            sum_ch = sum_ch + values\n",
    "            \n",
    "    print(my_list)\n",
    "    #write it to the output file\n",
    "    print(\"Count of Lines\", len_lines[0], \"Count of words\", sum_words, \"Count of characters\", sum_ch, file = outfile)  \n",
    "    \n",
    "main()"
   ]
  }
 ],
 "metadata": {
  "kernelspec": {
   "display_name": "Python 3",
   "language": "python",
   "name": "python3"
  },
  "language_info": {
   "codemirror_mode": {
    "name": "ipython",
    "version": 3
   },
   "file_extension": ".py",
   "mimetype": "text/x-python",
   "name": "python",
   "nbconvert_exporter": "python",
   "pygments_lexer": "ipython3",
   "version": "3.7.6"
  }
 },
 "nbformat": 4,
 "nbformat_minor": 4
}
