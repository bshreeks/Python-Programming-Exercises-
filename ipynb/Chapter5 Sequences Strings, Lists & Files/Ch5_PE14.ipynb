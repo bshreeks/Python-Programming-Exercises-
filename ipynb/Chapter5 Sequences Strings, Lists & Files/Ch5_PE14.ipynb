{
 "cells": [
  {
   "cell_type": "code",
   "execution_count": null,
   "metadata": {},
   "outputs": [],
   "source": [
    "# wordcount.py\n",
    "#This program analyzes a file to determine the no.of lines, words, and characters\n",
    "\n",
    "def main():\n",
    "    print(\"The program accepts a file name as input and prints three numbers showing\")\n",
    "    Print(\"the count of lines, words, and characters in the file\")\n",
    "    \n",
    "    #get the file names\n",
    "    infileName = input(\"what file are the words in?\")\n",
    "    outfileName = input(\"what file are the counts of lines, words, and characters go in?\")\n",
    "    \n",
    "    #open the files\n",
    "    infile = open(infileName, 'r')\n",
    "    outfile = open(outfileName, 'w')\n",
    "    \n",
    "    my_list = []  #create an empty list\n",
    "    \n",
    "    #loop through the line in the infile and append my_list\n",
    "    for lines in infile:\n",
    "        my_list.append(lines)\n",
    "    \n",
    "    #calculate the length of lines, words and characters from my-list\n",
    "    for ch in my_list:\n",
    "        len_lines = len(ch.split(\"\\n\"))\n",
    "        len_words = len(ch.split( ))\n",
    "        len_ch = len(ch)\n",
    "        \n",
    "        #write it to the output file\n",
    "        print(len_lines, len_words, len_ch, file=outfile)\n",
    "        \n",
    "        #close both files\n",
    "        infile.close()\n",
    "        outfile.close()\n",
    "        \n",
    "    print(\"counts of lines, words, and characters are written to\", outfileName)\n",
    "    \n",
    "main()"
   ]
  }
 ],
 "metadata": {
  "kernelspec": {
   "display_name": "Python 3",
   "language": "python",
   "name": "python3"
  },
  "language_info": {
   "codemirror_mode": {
    "name": "ipython",
    "version": 3
   },
   "file_extension": ".py",
   "mimetype": "text/x-python",
   "name": "python",
   "nbconvert_exporter": "python",
   "pygments_lexer": "ipython3",
   "version": "3.7.6"
  }
 },
 "nbformat": 4,
 "nbformat_minor": 4
}
