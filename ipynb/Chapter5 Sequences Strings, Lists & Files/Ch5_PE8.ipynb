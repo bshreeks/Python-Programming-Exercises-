{
 "cells": [
  {
   "cell_type": "code",
   "execution_count": 1,
   "metadata": {},
   "outputs": [
    {
     "name": "stdout",
     "output_type": "stream",
     "text": [
      "This program to encode a text message in a circular way given a key\n",
      "\n",
      "Enter a text meassage: zooisopen\n",
      "Enter a key: 5\n",
      "Encoded Message is ettnxtujs\n"
     ]
    }
   ],
   "source": [
    "#right_shift_ceasercypher.py\n",
    "#program that encodes the text meassage in a circular way given a key\n",
    "\n",
    "def main():\n",
    "    print(\"This program to encode a text message in a circular way given a key\\n\")\n",
    "    \n",
    "    #enter a text message and a key\n",
    "    text = input('Enter a text meassage: ')\n",
    "    key = int(input('Enter a key: '))\n",
    "    text_lower = text.lower()\n",
    "    \n",
    "    #create a list with all small english alphabets\n",
    "    eng_list = ['a', 'b', 'c', 'd', 'e', 'f', 'g', 'h', 'i', 'j', 'k', 'l', 'm', 'n', 'o', 'p', 'q', 'r', 's', 't', 'u', 'v', 'w', 'x', 'y', 'z']\n",
    "    key_list = eng_list[key::] + eng_list[:key:] #created a circular shift(right) list for the eng_list\n",
    "    \n",
    "    #create an empty string and loop through the given text\n",
    "    message = ''\n",
    "    for ch in text_lower:\n",
    "        encoded_msg = key_list[eng_list.index(ch)]\n",
    "        message = message + encoded_msg\n",
    "    print('Encoded Message is', message)\n",
    "    \n",
    "main()    "
   ]
  }
 ],
 "metadata": {
  "kernelspec": {
   "display_name": "Python 3",
   "language": "python",
   "name": "python3"
  },
  "language_info": {
   "codemirror_mode": {
    "name": "ipython",
    "version": 3
   },
   "file_extension": ".py",
   "mimetype": "text/x-python",
   "name": "python",
   "nbconvert_exporter": "python",
   "pygments_lexer": "ipython3",
   "version": "3.7.6"
  }
 },
 "nbformat": 4,
 "nbformat_minor": 4
}
