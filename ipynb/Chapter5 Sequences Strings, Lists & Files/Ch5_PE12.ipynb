{
 "cells": [
  {
   "cell_type": "code",
   "execution_count": 1,
   "metadata": {},
   "outputs": [
    {
     "name": "stdout",
     "output_type": "stream",
     "text": [
      "This program calculates the future value for given investment value\n",
      "number of year, interest rate and outputs a formatted table that\n",
      "tracks the value of the investment year by year\n",
      "\n",
      "Enter the investment value: 1999\n",
      "Enter the anual interst rate: 0.03\n",
      "Enter the no.of years: 8\n",
      "\n",
      " Year   Value  \n",
      "------------------\n",
      "  0    $2058.97\n",
      "  1    $2120.74\n",
      "  2    $2184.36\n",
      "  3    $2249.89\n",
      "  4    $2317.39\n",
      "  5    $2386.91\n",
      "  6    $2458.52\n",
      "  7    $2532.27\n"
     ]
    }
   ],
   "source": [
    "#futval.py\n",
    "#A program to compute the value of an investment\n",
    "#carried for a given number of years into the future\n",
    "\n",
    "def main():\n",
    "    print('This program calculates the future value for given investment value')\n",
    "    print('number of year, interest rate and outputs a formatted table that')\n",
    "    print('tracks the value of the investment year by year\\n')\n",
    "    \n",
    "    Value = float(input('Enter the investment value: '))\n",
    "    AIR = float(input('Enter the anual interst rate: '))\n",
    "    Year = int(input('Enter the no.of years: '))\n",
    "    print()\n",
    "    \n",
    "    print('{0:^6} {1:^8}'.format('Year', 'Value'))\n",
    "    print('------------------')\n",
    "    #loop through the given no.of years\n",
    "    for i in range(Year):\n",
    "        Value = Value * (1+AIR)\n",
    "        #Value = round(Value, 2)\n",
    "        print('{0:^6} ${1:^6.2f}'.format(i, Value))\n",
    "main()"
   ]
  }
 ],
 "metadata": {
  "kernelspec": {
   "display_name": "Python 3",
   "language": "python",
   "name": "python3"
  },
  "language_info": {
   "codemirror_mode": {
    "name": "ipython",
    "version": 3
   },
   "file_extension": ".py",
   "mimetype": "text/x-python",
   "name": "python",
   "nbconvert_exporter": "python",
   "pygments_lexer": "ipython3",
   "version": "3.7.6"
  }
 },
 "nbformat": 4,
 "nbformat_minor": 4
}
