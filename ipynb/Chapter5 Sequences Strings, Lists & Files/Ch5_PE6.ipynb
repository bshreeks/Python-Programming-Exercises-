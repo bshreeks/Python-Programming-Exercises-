{
 "cells": [
  {
   "cell_type": "code",
   "execution_count": 1,
   "metadata": {},
   "outputs": [
    {
     "name": "stdout",
     "output_type": "stream",
     "text": [
      "Program to calculate the numeric value of a full name\n",
      "\n",
      "Enter the name full name: Kaushik Rajan\n",
      "Numeric Value for a given name Kaushik Rajan is 124\n"
     ]
    }
   ],
   "source": [
    "# numeric_value2.py\n",
    "# Program to calculate the numeric value of a full name\n",
    "\n",
    "def main():\n",
    "    print('Program to calculate the numeric value of a full name\\n')\n",
    "    #get a name\n",
    "    name = input('Enter the name full name: ')\n",
    "    name_lower = name.lower()\n",
    "    name_no_space = name_lower.replace(' ', '')\n",
    "    \n",
    "    let_list = 'abcdefghijklmnopqrstuvwxyz'\n",
    "    \n",
    "    # loop through the characters of the name and get a value for each and add them up\n",
    "    num_value = 0\n",
    "    for ch in name_no_space:\n",
    "        number = let_list.index(ch) + 1\n",
    "        num_value = num_value + number\n",
    "        \n",
    "    print('Numeric Value for a given name', name, 'is', num_value)\n",
    "    \n",
    "main()"
   ]
  }
 ],
 "metadata": {
  "kernelspec": {
   "display_name": "Python 3",
   "language": "python",
   "name": "python3"
  },
  "language_info": {
   "codemirror_mode": {
    "name": "ipython",
    "version": 3
   },
   "file_extension": ".py",
   "mimetype": "text/x-python",
   "name": "python",
   "nbconvert_exporter": "python",
   "pygments_lexer": "ipython3",
   "version": "3.7.6"
  }
 },
 "nbformat": 4,
 "nbformat_minor": 4
}
