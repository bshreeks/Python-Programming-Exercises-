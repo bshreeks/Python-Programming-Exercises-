{
 "cells": [
  {
   "cell_type": "code",
   "execution_count": null,
   "metadata": {},
   "outputs": [],
   "source": [
    "#futval(batch_oriented).py\n",
    "#Program to create a file of future values in a batch mode\n",
    "\n",
    "def main():\n",
    "    print('This program creates a file of future values from a file of')\n",
    "    print('principle value, annual interest rate(AIR) and number of years\\n')\n",
    "    \n",
    "    #get the file names\n",
    "    \n",
    "    invalue.txt = input('what files are the value, AIR, Years in')\n",
    "    outvalue.txt = input('What files the values go in?')\n",
    "    \n",
    "    #open the files\n",
    "    infile = open('invalue.txt', 'r')\n",
    "    outfile = open('outvalue.txt', 'w')\n",
    "    \n",
    "    #process each line of the input file\n",
    "    for line in infile:\n",
    "        value, AIR, Years = line.split(,)\n",
    "        \n",
    "        #loop through the years and calculate the values\n",
    "        for i in range(Years):\n",
    "            value = value * (1+AIR)\n",
    "            \n",
    "            #write it to the output file\n",
    "            print(i, value, file=outfile)\n",
    "            \n",
    "            #close both the files\n",
    "            infile.close()\n",
    "            outfile.close()\n",
    "            \n",
    "    print('Years and Values have been written to', outvalue.txt)\n",
    "    \n",
    "main()\n",
    "            "
   ]
  }
 ],
 "metadata": {
  "kernelspec": {
   "display_name": "Python 3",
   "language": "python",
   "name": "python3"
  },
  "language_info": {
   "codemirror_mode": {
    "name": "ipython",
    "version": 3
   },
   "file_extension": ".py",
   "mimetype": "text/x-python",
   "name": "python",
   "nbconvert_exporter": "python",
   "pygments_lexer": "ipython3",
   "version": "3.7.6"
  }
 },
 "nbformat": 4,
 "nbformat_minor": 4
}
