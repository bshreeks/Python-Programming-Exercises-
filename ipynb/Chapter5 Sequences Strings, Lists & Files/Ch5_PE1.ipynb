{
 "cells": [
  {
   "cell_type": "code",
   "execution_count": 1,
   "metadata": {},
   "outputs": [
    {
     "name": "stdout",
     "output_type": "stream",
     "text": [
      "This program converts a date in the form 'mm/dd/yyyy' to 'month day, year using string format'\n",
      "\n",
      "Enter a date(mm/dd/yyyy): 03/07/2018\n",
      "The convert date is: Mar 07, 2018\n"
     ]
    }
   ],
   "source": [
    "#dateconvert2.py\n",
    "#program to convert a date in the form 'mm/dd/yyyy' to 'month day, year using string format'\n",
    "\n",
    "def main():\n",
    "    print(\"This program converts a date in the form 'mm/dd/yyyy' to 'month day, year using string format'\\n\")\n",
    "    #get the date\n",
    "    dateStr = input('Enter a date(mm/dd/yyyy): ')\n",
    "    \n",
    "    #split into components\n",
    "    monthStr, dayStr, yearStr = dateStr.split('/')\n",
    "    \n",
    "    #convert monthStr to month name\n",
    "    months = ['Jan', 'Feb', 'Mar', 'Apr', 'May', 'Jun', 'Jul', 'Aug', 'Sep', 'Oct', 'Nov', 'Dec']\n",
    "    monthStr = months[int(monthStr)-1]\n",
    "    print('The convert date is: {0} {1}, {2}'.format(monthStr, dayStr, yearStr))\n",
    "main()"
   ]
  }
 ],
 "metadata": {
  "kernelspec": {
   "display_name": "Python 3",
   "language": "python",
   "name": "python3"
  },
  "language_info": {
   "codemirror_mode": {
    "name": "ipython",
    "version": 3
   },
   "file_extension": ".py",
   "mimetype": "text/x-python",
   "name": "python",
   "nbconvert_exporter": "python",
   "pygments_lexer": "ipython3",
   "version": "3.7.6"
  }
 },
 "nbformat": 4,
 "nbformat_minor": 4
}
