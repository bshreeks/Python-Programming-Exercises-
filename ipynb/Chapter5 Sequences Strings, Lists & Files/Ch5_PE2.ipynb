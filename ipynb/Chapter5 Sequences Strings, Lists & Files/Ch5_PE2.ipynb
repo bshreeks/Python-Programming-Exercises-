{
 "cells": [
  {
   "cell_type": "code",
   "execution_count": 3,
   "metadata": {},
   "outputs": [
    {
     "name": "stdout",
     "output_type": "stream",
     "text": [
      "This program converts a quiz score (1, 2, 3, 4, 5) to a grade (A, B, C, D, E, F)\n",
      "Enter a score: 0\n",
      "The grade for a given score 0: F\n"
     ]
    }
   ],
   "source": [
    "#scoreconvert.py\n",
    "#program to convert a quiz-score (1,2,3,4,5) to a grade (A,B,C,D,F,F)\n",
    "\n",
    "def main():\n",
    "    print(\"This program converts a quiz score (1, 2, 3, 4, 5) to a grade (A, B, C, D, F, F)\")\n",
    "    #get the score\n",
    "    QuizScr = int(input('Enter a score: '))\n",
    "    \n",
    "    #Convert the score to a grade\n",
    "    Grades = ['F', 'F', 'D', 'C', 'B', 'A']\n",
    "    Grade = Grades[QuizScr]\n",
    "    print('The grade for a given score {0}: {1}'.format(QuizScr, Grade))\n",
    "main()    "
   ]
  }
 ],
 "metadata": {
  "kernelspec": {
   "display_name": "Python 3",
   "language": "python",
   "name": "python3"
  },
  "language_info": {
   "codemirror_mode": {
    "name": "ipython",
    "version": 3
   },
   "file_extension": ".py",
   "mimetype": "text/x-python",
   "name": "python",
   "nbconvert_exporter": "python",
   "pygments_lexer": "ipython3",
   "version": "3.7.6"
  }
 },
 "nbformat": 4,
 "nbformat_minor": 4
}
