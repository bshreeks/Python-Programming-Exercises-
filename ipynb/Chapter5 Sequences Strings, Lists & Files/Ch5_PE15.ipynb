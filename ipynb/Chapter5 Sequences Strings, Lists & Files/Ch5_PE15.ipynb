{
 "cells": [
  {
   "cell_type": "code",
   "execution_count": 3,
   "metadata": {},
   "outputs": [
    {
     "name": "stdout",
     "output_type": "stream",
     "text": [
      "This program plots the horizontal bar chart of student exam score from a given file\n",
      "what file are the no.of student, names of students and their scores in test_15.txt\n",
      "4\n"
     ]
    }
   ],
   "source": [
    "#hor_bar_chart.py\n",
    "#Program to plot a horizontal bar chart of student exam score from a given file\n",
    "\n",
    "from graphics import *\n",
    "\n",
    "def main():\n",
    "    print(\"This program plots the horizontal bar chart of student exam score from a given file\")\n",
    "    \n",
    "    #get the file names and open the files\n",
    "    infileName = input(\"what file are the no.of student, names of students and their scores in \")\n",
    "    \n",
    "    infile = open(infileName, 'r')\n",
    "    \n",
    "    #extract the no. of students, names of students and their respective scores\n",
    "    #loop through the lines and extract the no. of students\n",
    "    for line in infile:\n",
    "        numstud = line[0]\n",
    "        print(numstud)\n",
    "    \n",
    "    #create an empty lists\n",
    "        students = []\n",
    "        scores = []\n",
    "    \n",
    "    #loop through the infile & append the lists\n",
    "        for line in infile:\n",
    "            student, score = line[1:].split()\n",
    "            students.append(student)\n",
    "            scores.append(int(score))\n",
    "        \n",
    "        \n",
    "    #set the graph size and the coordinates\n",
    "        win = GraphWin(\"Bar Chart\", 400, 300)\n",
    "        win.setCoords(-15.0,-1.0, 100.0, int(numstud)+1)\n",
    "    \n",
    "    #iterate over numstud and set the text\n",
    "        for i in range(0, int(numstud)):\n",
    "            text = Text(Point(-15, i+0.1), students[i])\n",
    "            text.draw(win)\n",
    "    \n",
    "    #iterate over numstud and draw the rectangle box    \n",
    "        for i in range(0, int(numstud)):\n",
    "            bar = Rectangle(Point(0, i), Point(scores[i], i+0.2))\n",
    "            bar.setWidth(1)\n",
    "            bar.draw(win)\n",
    "        \n",
    "            \n",
    "        win.getMouse()\n",
    "        win.close()\n",
    "    \n",
    "        \n",
    "        \n",
    "    #close the files\n",
    "#     infile.close()\n",
    "    \n",
    "main()"
   ]
  }
 ],
 "metadata": {
  "kernelspec": {
   "display_name": "Python 3",
   "language": "python",
   "name": "python3"
  },
  "language_info": {
   "codemirror_mode": {
    "name": "ipython",
    "version": 3
   },
   "file_extension": ".py",
   "mimetype": "text/x-python",
   "name": "python",
   "nbconvert_exporter": "python",
   "pygments_lexer": "ipython3",
   "version": "3.7.6"
  }
 },
 "nbformat": 4,
 "nbformat_minor": 4
}
