{
 "cells": [
  {
   "cell_type": "code",
   "execution_count": 1,
   "metadata": {},
   "outputs": [],
   "source": [
    "#hor_bar_chart.py\n",
    "#Program to plot a horizontal bar chart of student exam score\n",
    "\n",
    "from graphics import *\n",
    "\n",
    "def main():\n",
    "    print(\"This program plots the horizontal bar chart of student exam score\")\n",
    "    \n",
    "    #get the file names and open the files\n",
    "    infileName = input(\"what file are the no.of student, names of students and their scores in \")\n",
    "    outfileName = input(\"what file the bar chart of student exam score goes in? \")\n",
    "    \n",
    "    infile = open(infileName, 'r')\n",
    "    outfile = open(outfileName, 'w')\n",
    "    \n",
    "    #extract the no. of students, names of students and their respective scores\n",
    "    #loop through the lines and extract the no. of students\n",
    "    for line in infile:\n",
    "        numstud = line[0]\n",
    "    \n",
    "    #create an empty lists\n",
    "        students = []\n",
    "        scores = []\n",
    "    \n",
    "    #loop through the infile & append the lists\n",
    "        for line in infile:\n",
    "            student, score = line[1:].split()\n",
    "            students.append(student)\n",
    "            scores.append(score)\n",
    "        \n",
    "            print(students, scores)\n",
    "        \n",
    "    #set the graph size and the coordinates\n",
    "    win = GraphWin(\"Bar Chart\", 400, 300)\n",
    "    win.setCoords(-15.0,-1.0, 100.0, numstud+1)\n",
    "    \n",
    "    #iterate over numstud and set the text\n",
    "    for i in range(0, numstud):\n",
    "        text = Text(Point(-15, i+0.1), students[i])\n",
    "        text.draw(win)\n",
    "    \n",
    "    #iterate over numstud and draw the rectangle box    \n",
    "        for i in range(0, numstud):\n",
    "            bar = Rectangle(Point(0, i), Point(score[i], i+0.2))\n",
    "            bar.setWidth(1)\n",
    "            bar.draw(win)\n",
    "        \n",
    "    #write it to the output file:\n",
    "            print(text.draw(win), bar.draw(win), file=outfile)\n",
    "        \n",
    "        \n",
    "    #close the files\n",
    "    infile.close()\n",
    "    outfile.close()\n",
    "    \n",
    "    print(\"Horizontal bar chart for the student exam written to\", outfileName)\n",
    "    \n",
    "main()"
   ]
  },
  {
   "cell_type": "markdown",
   "metadata": {},
   "source": [
    "Below we will write a program without giving file names. Just giving student number, student names and scores. In order to check if it works."
   ]
  },
  {
   "cell_type": "code",
   "execution_count": 2,
   "metadata": {},
   "outputs": [
    {
     "name": "stdout",
     "output_type": "stream",
     "text": [
      "4 ['Computewell', 'Dibblebit', 'Jones', 'Smith'] [95, 50, 70, 60]\n"
     ]
    }
   ],
   "source": [
    "from graphics import *\n",
    "\n",
    "def main():\n",
    "    numstud = 4\n",
    "    students = ['Computewell', 'Dibblebit', 'Jones', 'Smith']\n",
    "    scores = [95, 50, 70, 60]\n",
    "\n",
    "    print(numstud, students, scores)\n",
    "\n",
    "#set the graph size and the coordinates\n",
    "    win = GraphWin(\"Bar Chart\", 400, 300)\n",
    "    win.setCoords(-13.0, -1.0, 100.0, numstud+1)\n",
    "    \n",
    "#iterate over numstud and set the text\n",
    "    for i in range(0, numstud):\n",
    "#         name = students[i]\n",
    "        text = Text(Point(-13, i+0.1), students[i])\n",
    "        text.draw(win)\n",
    "        \n",
    "    \n",
    "#iterate over numstud and draw the rectangle box    \n",
    "        for i in range(0, numstud):\n",
    "            bar = Rectangle(Point(0, i), Point(scores[i], i+0.2))\n",
    "            bar.setWidth(1)\n",
    "            bar.draw(win)\n",
    "        \n",
    "#write it to the output file:\n",
    "#     print(text.draw(win), bar.draw(win))\n",
    "    \n",
    "    win.getMouse()\n",
    "    win.close()\n",
    "main()"
   ]
  },
  {
   "cell_type": "markdown",
   "metadata": {},
   "source": [
    "It works, so it should also work with files."
   ]
  }
 ],
 "metadata": {
  "kernelspec": {
   "display_name": "Python 3",
   "language": "python",
   "name": "python3"
  },
  "language_info": {
   "codemirror_mode": {
    "name": "ipython",
    "version": 3
   },
   "file_extension": ".py",
   "mimetype": "text/x-python",
   "name": "python",
   "nbconvert_exporter": "python",
   "pygments_lexer": "ipython3",
   "version": "3.7.6"
  }
 },
 "nbformat": 4,
 "nbformat_minor": 4
}
