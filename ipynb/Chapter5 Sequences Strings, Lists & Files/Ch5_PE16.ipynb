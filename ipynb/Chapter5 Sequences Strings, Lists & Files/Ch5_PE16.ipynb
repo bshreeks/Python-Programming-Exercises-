{
 "cells": [
  {
   "cell_type": "code",
   "execution_count": null,
   "metadata": {},
   "outputs": [],
   "source": [
    "#quizscorehist.py\n",
    "#Program to plot a histogram of qiz scores from 0 to 10. The height of the bar should be the count of each score.\n",
    "\n",
    "from graphics import *\n",
    "\n",
    "def main():    \n",
    "    print(\"This program plots the histogram for the student quiz score from 0 to 10 with height as count of each score\\n\")\n",
    "    \n",
    "    #get the file names and open the files\n",
    "    infileName = input(\"what file is the quiz scores in?\")\n",
    "    outfileName = input(\"what file is the quiz score histogram goes in?\")\n",
    "    \n",
    "    infile = open(infileName, 'r')\n",
    "    outfile = open(outfileName, 'w')\n",
    "    \n",
    "    #create an empty list, loop through the infile and append the list\n",
    "    scores = []\n",
    "    \n",
    "    for line in infile:\n",
    "        scores.append(line)\n",
    "        \n",
    "    #create an empty list and append it with counts of the scores\n",
    "    scores_counts = []\n",
    "    \n",
    "    for i in range(11):\n",
    "        s = scores.count(i)\n",
    "        scores_count.append(s)\n",
    "    \n",
    "    #take maximum of scores_count as y_lmt\n",
    "    y_lmt = max(scores_counts)\n",
    "        \n",
    "    #open the graph window and set the coordinates\n",
    "    win = GraphWin(\"quizscorehist\", 400, 300)\n",
    "    win.setCoords(-0.5, -1.0, 21.5, y_lmt+1)\n",
    "    \n",
    "    #loop through the range and set the text and bar for the graph\n",
    "    for i in range(11):\n",
    "        text = Text(Point(i*2+0.5, -0.3), i)\n",
    "        text.draw(win)\n",
    "        \n",
    "        for i in range(11):\n",
    "            bar = Rectangle(Point(i*2, 0), Point(i*2+1, scores_count[i]))\n",
    "            bar.draw(win)\n",
    "        \n",
    "       #write to the output file\n",
    "            print(text.draw(win), bar.draw(win), file=outfile)\n",
    "                        \n",
    "    #close the files\n",
    "    infile.close()\n",
    "    outfile.close()  \n",
    "    print(\"Histogram for the student quiz score from 0 to 10 with height as count of each score written to\", outfileName)\n",
    "main()                   \n",
    "                        "
   ]
  },
  {
   "cell_type": "markdown",
   "metadata": {},
   "source": [
    "Here we will give student's quiz scores from 0 to 10 as input and plot the histogram just t see if the above program works!"
   ]
  },
  {
   "cell_type": "code",
   "execution_count": 1,
   "metadata": {},
   "outputs": [
    {
     "name": "stdout",
     "output_type": "stream",
     "text": [
      "Enter the numbers from 0 to 10 with comma 0,1,2,2,4,4,4,5,5,5,5,6,6,6,6,6,7,7,7,7,7,7,7,8,8,8,9,9,9,10,10\n"
     ]
    }
   ],
   "source": [
    "from graphics import *\n",
    "\n",
    "def main():\n",
    "    score = eval(input(\"Enter the numbers from 0 to 10 with comma \"))\n",
    "    scores = list(score)\n",
    "\n",
    "    scores_count = []\n",
    "    \n",
    "    for i in range(11):\n",
    "        s = scores.count(i)\n",
    "        scores_count.append(s)\n",
    "    \n",
    "    y_lmt = max(scores_count)\n",
    "        \n",
    "    #open the graph window and set the coordinates\n",
    "    win = GraphWin(\"quizscorehist\", 400, 300)\n",
    "    win.setCoords(-0.5, -1.0, 21.5, y_lmt+1)\n",
    "    \n",
    "    #loop through the range and set the text and bar for the graph\n",
    "    for i in range(11):\n",
    "        text = Text(Point(i*2+0.5, -0.3), i)\n",
    "        text.draw(win)\n",
    "        \n",
    "        for i in range(11):\n",
    "            bar = Rectangle(Point(i*2, 0), Point(i*2+1, scores_count[i]))\n",
    "            bar.draw(win)\n",
    "    \n",
    "    win.getMouse()\n",
    "    win.close()\n",
    "main()"
   ]
  },
  {
   "cell_type": "markdown",
   "metadata": {},
   "source": [
    "And it works"
   ]
  }
 ],
 "metadata": {
  "kernelspec": {
   "display_name": "Python 3",
   "language": "python",
   "name": "python3"
  },
  "language_info": {
   "codemirror_mode": {
    "name": "ipython",
    "version": 3
   },
   "file_extension": ".py",
   "mimetype": "text/x-python",
   "name": "python",
   "nbconvert_exporter": "python",
   "pygments_lexer": "ipython3",
   "version": "3.7.6"
  }
 },
 "nbformat": 4,
 "nbformat_minor": 4
}
