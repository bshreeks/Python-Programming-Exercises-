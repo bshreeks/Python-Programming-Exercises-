{
 "cells": [
  {
   "cell_type": "code",
   "execution_count": 25,
   "metadata": {},
   "outputs": [
    {
     "name": "stdout",
     "output_type": "stream",
     "text": [
      "This program plots the histogram for the student quiz score from 0 to 10 with height as count of each score\n",
      "\n",
      "what file is the quiz scores in?test_16.txt\n",
      "[0, 1, 2, 2, 4, 4, 4, 5, 5, 5, 5, 6, 6, 6, 6, 6, 7, 7, 7, 7, 7, 7, 7, 8, 8, 8, 9, 9, 9, 10, 10]\n",
      "[1, 1, 2, 0, 3, 4, 5, 7, 3, 3, 2]\n"
     ]
    }
   ],
   "source": [
    "#quizscorehist.py\n",
    "#Program to plot a histogram of quiz scores taken from a file where each line contains a number from 0 to 10. \n",
    "# The height of the bar should be the count of each score.\n",
    "\n",
    "from graphics import *\n",
    "\n",
    "def main():    \n",
    "    print(\"Program to plot a histogram of quiz scores taken from a file where each line contains a number from 0 to 10\")\n",
    "    print(\"The height of the bar should be the count of each score\")\n",
    "    \n",
    "    #get the file names and open the files\n",
    "    infileName = input(\"what file is the quiz scores in?\")\n",
    "    \n",
    "    infile = open(infileName, 'r')\n",
    "    \n",
    "    #create an empty list, loop through the infile and append the list\n",
    "    score = []\n",
    "    for line in infile:\n",
    "        score.append(line.split())\n",
    "        scores = [int(s) for sc in score for s in sc]\n",
    "    print(scores)\n",
    "    \n",
    "    #create an empty list and append it with counts of the scores\n",
    "    scores_count = []\n",
    "    \n",
    "    for i in range(11):\n",
    "        s = scores.count(i)\n",
    "        scores_count.append(s)\n",
    "    print(scores_count)\n",
    "    \n",
    "    #take maximum of scores_count as y_lmt\n",
    "    y_lmt = max(scores_count)\n",
    "        \n",
    "    #open the graph window and set the coordinates\n",
    "    win = GraphWin(\"quizscorehist\", 400, 300)\n",
    "    win.setCoords(-0.5, -1.0, 21.5, y_lmt+1)\n",
    "    \n",
    "    #loop through the range and set the text and bar for the graph\n",
    "    for i in range(11):\n",
    "        text = Text(Point(i*2+0.5, -0.3), i)\n",
    "        text.draw(win)\n",
    "        \n",
    "        for i in range(11):\n",
    "            bar = Rectangle(Point(i*2, 0), Point(i*2+1, scores_count[i]))\n",
    "            bar.draw(win)\n",
    "        \n",
    "    win.getMouse()\n",
    "    win.close()\n",
    "                        \n",
    "    #close the files\n",
    "#     infile.close()\n",
    "    \n",
    "main()                   \n",
    "                        "
   ]
  }
 ],
 "metadata": {
  "kernelspec": {
   "display_name": "Python 3",
   "language": "python",
   "name": "python3"
  },
  "language_info": {
   "codemirror_mode": {
    "name": "ipython",
    "version": 3
   },
   "file_extension": ".py",
   "mimetype": "text/x-python",
   "name": "python",
   "nbconvert_exporter": "python",
   "pygments_lexer": "ipython3",
   "version": "3.7.6"
  }
 },
 "nbformat": 4,
 "nbformat_minor": 4
}
