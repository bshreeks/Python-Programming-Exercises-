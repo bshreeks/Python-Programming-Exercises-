{
 "cells": [
  {
   "cell_type": "code",
   "execution_count": 1,
   "metadata": {},
   "outputs": [
    {
     "name": "stdout",
     "output_type": "stream",
     "text": [
      "This program allows to write a phrase and outputs an acronym for that phrase\n",
      "\n",
      "Enter the phrase: application programming interface\n",
      "Acronym for a given phrase:  API\n"
     ]
    }
   ],
   "source": [
    "# acronym.py\n",
    "# program which allows to write a phrase and outputs an acronym for that phrase\n",
    "\n",
    "def main():\n",
    "    print(\"This program allows to write a phrase and outputs an acronym for that phrase\\n\")\n",
    "    \n",
    "    #get the phrase\n",
    "    phrase = input(\"Enter the phrase: \")\n",
    "    \n",
    "    #loop through each word in the phrase and build an acronym\n",
    "    Letters = []\n",
    "    for words in phrase.split():\n",
    "        First_letter = words[0].upper()  #take the first letter of the word & captitalize\n",
    "        Letters.append(First_letter)\n",
    "        \n",
    "    acronym = ''.join(Letters)\n",
    "    print('Acronym for a given phrase: ', acronym)\n",
    "    \n",
    "main()"
   ]
  }
 ],
 "metadata": {
  "kernelspec": {
   "display_name": "Python 3",
   "language": "python",
   "name": "python3"
  },
  "language_info": {
   "codemirror_mode": {
    "name": "ipython",
    "version": 3
   },
   "file_extension": ".py",
   "mimetype": "text/x-python",
   "name": "python",
   "nbconvert_exporter": "python",
   "pygments_lexer": "ipython3",
   "version": "3.7.6"
  }
 },
 "nbformat": 4,
 "nbformat_minor": 4
}
