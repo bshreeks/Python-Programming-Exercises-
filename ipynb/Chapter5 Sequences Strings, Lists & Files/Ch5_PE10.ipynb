{
 "cells": [
  {
   "cell_type": "code",
   "execution_count": 2,
   "metadata": {},
   "outputs": [
    {
     "name": "stdout",
     "output_type": "stream",
     "text": [
      "This program calculates the average length of words in a given sentence\n",
      "\n",
      "Enter a sentence: Forgiveness is a greatest strength\n",
      "Average length of words in a sentence Forgiveness is a greatest strength is 6.0\n"
     ]
    }
   ],
   "source": [
    "#avg_word_length.py\n",
    "#program to calculate the average word length in a sentence\n",
    "\n",
    "def main():\n",
    "    print('This program calculates the average length of words in a given sentence\\n')\n",
    "    \n",
    "    #Enter a sentence and split it\n",
    "    Sentence = input('Enter a sentence: ')\n",
    "    Split_Sentence = Sentence.split(' ')\n",
    "    \n",
    "    #create an empty list and loop through the split_sentence \n",
    "    split_list = []\n",
    "    sum = 0\n",
    "    \n",
    "    for values in Split_Sentence:\n",
    "        split_list.append(values)\n",
    "        val_len = len(values)\n",
    "        sum = sum + val_len\n",
    "        len_list = len(split_list)\n",
    "        avg = sum / len_list\n",
    "        \n",
    "    print('Average length of words in a sentence', Sentence, 'is', round(avg, 2))\n",
    "main()"
   ]
  }
 ],
 "metadata": {
  "kernelspec": {
   "display_name": "Python 3",
   "language": "python",
   "name": "python3"
  },
  "language_info": {
   "codemirror_mode": {
    "name": "ipython",
    "version": 3
   },
   "file_extension": ".py",
   "mimetype": "text/x-python",
   "name": "python",
   "nbconvert_exporter": "python",
   "pygments_lexer": "ipython3",
   "version": "3.7.6"
  }
 },
 "nbformat": 4,
 "nbformat_minor": 4
}
