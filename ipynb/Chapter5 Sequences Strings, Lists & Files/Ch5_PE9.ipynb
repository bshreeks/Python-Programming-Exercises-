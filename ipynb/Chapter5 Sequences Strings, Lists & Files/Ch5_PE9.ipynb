{
 "cells": [
  {
   "cell_type": "code",
   "execution_count": 1,
   "metadata": {},
   "outputs": [
    {
     "name": "stdout",
     "output_type": "stream",
     "text": [
      "This program counts the number of words given in a sentence\n",
      "\n",
      "Enter a sentence: supreme consciousness\n",
      "Number of words in a given sentence is 2\n"
     ]
    }
   ],
   "source": [
    "#wordcount.py\n",
    "#program to count the no.of words in a sentence\n",
    "\n",
    "def main():\n",
    "    print('This program counts the number of words given in a sentence\\n')\n",
    "    \n",
    "    #Enter a sentence and split it\n",
    "    Sentence = input('Enter a sentence: ')\n",
    "    Split_Sentence = Sentence.split(' ')\n",
    "    \n",
    "    #create an empty list and loop through the split_sentence \n",
    "    split_list = []\n",
    "    \n",
    "    for values in Split_Sentence:\n",
    "        split_list.append(values)\n",
    "        len_list = len(split_list)\n",
    "        \n",
    "    print('Number of words in a given sentence is', len_list)\n",
    "main()"
   ]
  }
 ],
 "metadata": {
  "kernelspec": {
   "display_name": "Python 3",
   "language": "python",
   "name": "python3"
  },
  "language_info": {
   "codemirror_mode": {
    "name": "ipython",
    "version": 3
   },
   "file_extension": ".py",
   "mimetype": "text/x-python",
   "name": "python",
   "nbconvert_exporter": "python",
   "pygments_lexer": "ipython3",
   "version": "3.7.6"
  }
 },
 "nbformat": 4,
 "nbformat_minor": 4
}
