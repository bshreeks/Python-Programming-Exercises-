{
 "cells": [
  {
   "cell_type": "code",
   "execution_count": 2,
   "metadata": {},
   "outputs": [
    {
     "name": "stdout",
     "output_type": "stream",
     "text": [
      "This program illustrates a chaotic function\n",
      "Enter a number between 0 and 1: 0.9\n",
      "0.3509999999999999\n",
      "0.8884160999999997\n",
      "0.3866184397170819\n",
      "0.9248640249724629\n",
      "0.27101318510837386\n",
      "0.7705036505625737\n",
      "0.6896283226260519\n",
      "0.8347602871063168\n",
      "0.5379486456883358\n",
      "0.9693836111326424\n"
     ]
    }
   ],
   "source": [
    "#chaos.py\n",
    "#A simple program illustrating chaotic behavior\n",
    "\n",
    "def main():\n",
    "    print(\"This program illustrates a chaotic function\")\n",
    "    x = eval(input(\"Enter a number between 0 and 1: \"))\n",
    "    for i in range(10):\n",
    "        x = 3.9 * x * (1-x)\n",
    "        print(x)\n",
    "        \n",
    "main()"
   ]
  }
 ],
 "metadata": {
  "kernelspec": {
   "display_name": "Python 3",
   "language": "python",
   "name": "python3"
  },
  "language_info": {
   "codemirror_mode": {
    "name": "ipython",
    "version": 3
   },
   "file_extension": ".py",
   "mimetype": "text/x-python",
   "name": "python",
   "nbconvert_exporter": "python",
   "pygments_lexer": "ipython3",
   "version": "3.7.6"
  }
 },
 "nbformat": 4,
 "nbformat_minor": 4
}
