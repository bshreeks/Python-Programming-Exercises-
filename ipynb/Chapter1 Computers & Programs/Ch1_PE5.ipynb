{
 "cells": [
  {
   "cell_type": "code",
   "execution_count": 1,
   "metadata": {},
   "outputs": [
    {
     "name": "stdout",
     "output_type": "stream",
     "text": [
      "This program illustrates a chaotic behavior given a value and a number\n",
      "Enter a number between 0 and 1: 0.25\n",
      "How many numbers should I print? 5\n",
      "0.73125\n",
      "0.76644140625\n",
      "0.6981350104385375\n",
      "0.8218958187902304\n",
      "0.5708940191969317\n"
     ]
    }
   ],
   "source": [
    "# mod_chaos.py\n",
    "# Program illustrates chaotic behavior given a value and a number\n",
    "\n",
    "def main():\n",
    "    print(\"This program illustrates a chaotic behavior given a value and a number\")\n",
    "    \n",
    "    x = eval(input(\"Enter a number between 0 and 1: \"))\n",
    "    n = eval(input(\"How many numbers should I print? \"))\n",
    "    \n",
    "    for i in range(n):\n",
    "        x = 3.9 * x * (1-x)\n",
    "        print(x)\n",
    "        \n",
    "main()"
   ]
  }
 ],
 "metadata": {
  "kernelspec": {
   "display_name": "Python 3",
   "language": "python",
   "name": "python3"
  },
  "language_info": {
   "codemirror_mode": {
    "name": "ipython",
    "version": 3
   },
   "file_extension": ".py",
   "mimetype": "text/x-python",
   "name": "python",
   "nbconvert_exporter": "python",
   "pygments_lexer": "ipython3",
   "version": "3.7.6"
  }
 },
 "nbformat": 4,
 "nbformat_minor": 4
}
