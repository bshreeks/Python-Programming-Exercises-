{
 "cells": [
  {
   "cell_type": "code",
   "execution_count": 2,
   "metadata": {},
   "outputs": [
    {
     "name": "stdout",
     "output_type": "stream",
     "text": [
      "This program illustrates the chaotic behavior for 20 values\n",
      "Enter the number between 0 and 1: 0.25\n",
      "0.73125\n",
      "0.76644140625\n",
      "0.6981350104385375\n",
      "0.8218958187902304\n",
      "0.5708940191969317\n",
      "0.9553987483642099\n",
      "0.166186721954413\n",
      "0.5404179120617926\n",
      "0.9686289302998042\n",
      "0.11850901017563877\n",
      "0.4074120362630336\n",
      "0.9415671289870646\n",
      "0.214572035332672\n",
      "0.6572704202448796\n",
      "0.8785374581723959\n",
      "0.4161666317654883\n",
      "0.9475906688447814\n",
      "0.19368411333601687\n",
      "0.6090652525513056\n",
      "0.9286086056750876\n"
     ]
    }
   ],
   "source": [
    "#chaos20.py\n",
    "#Program illustrating the chaotic behavior for 20 values\n",
    "\n",
    "def main():\n",
    "    print(\"This program illustrates the chaotic behavior for 20 values\")\n",
    "    x = eval(input(\"Enter the number between 0 and 1: \"))\n",
    "    for i in range(20):\n",
    "        x = 3.9 * x * (1-x)\n",
    "        print(x)\n",
    "        \n",
    "main()"
   ]
  }
 ],
 "metadata": {
  "kernelspec": {
   "display_name": "Python 3",
   "language": "python",
   "name": "python3"
  },
  "language_info": {
   "codemirror_mode": {
    "name": "ipython",
    "version": 3
   },
   "file_extension": ".py",
   "mimetype": "text/x-python",
   "name": "python",
   "nbconvert_exporter": "python",
   "pygments_lexer": "ipython3",
   "version": "3.7.6"
  }
 },
 "nbformat": 4,
 "nbformat_minor": 4
}
