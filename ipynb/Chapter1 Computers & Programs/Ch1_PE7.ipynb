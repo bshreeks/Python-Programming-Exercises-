{
 "cells": [
  {
   "cell_type": "code",
   "execution_count": 23,
   "metadata": {},
   "outputs": [
    {
     "name": "stdout",
     "output_type": "stream",
     "text": [
      "This program prints chaotic behavior for two input values\n",
      "\n",
      "Enter the value between 0 and 1: 0.25\n",
      "Enter the value between 0 and 1: 0.26\n",
      "input   0.25          0.26\n",
      "-------------------------------\n",
      "       0.73125      0.75036\n",
      "       0.766441      0.730547\n",
      "       0.698135      0.767707\n",
      "       0.821896      0.695499\n",
      "       0.570894      0.825942\n",
      "       0.955399      0.560671\n",
      "       0.166187      0.960644\n",
      "       0.540418      0.147447\n",
      "       0.968629      0.490255\n",
      "       0.118509      0.97463\n"
     ]
    }
   ],
   "source": [
    "#chaos_2inputs.py\n",
    "#Program which illustrates chaotic behavior for two input values\n",
    "\n",
    "def main():\n",
    "    print(\"This program prints chaotic behavior for two input values\\n\")\n",
    "    \n",
    "    x1 = eval(input(\"Enter the value between 0 and 1: \"))\n",
    "    x2 = eval(input(\"Enter the value between 0 and 1: \"))   \n",
    "    \n",
    "        \n",
    "    print(\"input   0.25\", \"0.26\", sep=\"          \")\n",
    "    print('-------------------------------')\n",
    "    for i in range(10):\n",
    "        x1 = 3.9 * x1 * (1-x1)\n",
    "        x2 = 3.9 * x2 * (1-x2)\n",
    "        print(\" \", round(x1,6), round(x2,6), sep = \"      \")\n",
    "    \n",
    "main()"
   ]
  }
 ],
 "metadata": {
  "kernelspec": {
   "display_name": "Python 3",
   "language": "python",
   "name": "python3"
  },
  "language_info": {
   "codemirror_mode": {
    "name": "ipython",
    "version": 3
   },
   "file_extension": ".py",
   "mimetype": "text/x-python",
   "name": "python",
   "nbconvert_exporter": "python",
   "pygments_lexer": "ipython3",
   "version": "3.7.6"
  }
 },
 "nbformat": 4,
 "nbformat_minor": 4
}
