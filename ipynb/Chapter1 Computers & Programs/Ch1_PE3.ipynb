{
 "cells": [
  {
   "cell_type": "code",
   "execution_count": 17,
   "metadata": {},
   "outputs": [
    {
     "name": "stdout",
     "output_type": "stream",
     "text": [
      "This program illustrates the chaotic behavior\n",
      "Enter a number between 0 and 1: 0.9\n",
      "0.17999999999999997\n",
      "0.29519999999999996\n",
      "0.41611392\n",
      "0.4859262511644672\n",
      "0.49960385918742867\n",
      "0.49999968614491325\n",
      "0.49999999999980305\n",
      "0.5\n",
      "0.5\n",
      "0.5\n"
     ]
    }
   ],
   "source": [
    "#modified_chaos.py\n",
    "#Prgram illustrating the chaotic behavior different than the first one\n",
    "\n",
    "def main():\n",
    "    print(\"This program illustrates the chaotic behavior\")\n",
    "    x = eval(input(\"Enter a number between 0 and 1: \"))\n",
    "    for i in range(10):\n",
    "        x = 2.0 * x * (1-x)\n",
    "        print(x)\n",
    "        \n",
    "main()\n",
    "#Here if the x happens to be 0.5 all remaining values become 0.5"
   ]
  }
 ],
 "metadata": {
  "kernelspec": {
   "display_name": "Python 3",
   "language": "python",
   "name": "python3"
  },
  "language_info": {
   "codemirror_mode": {
    "name": "ipython",
    "version": 3
   },
   "file_extension": ".py",
   "mimetype": "text/x-python",
   "name": "python",
   "nbconvert_exporter": "python",
   "pygments_lexer": "ipython3",
   "version": "3.7.6"
  }
 },
 "nbformat": 4,
 "nbformat_minor": 4
}
