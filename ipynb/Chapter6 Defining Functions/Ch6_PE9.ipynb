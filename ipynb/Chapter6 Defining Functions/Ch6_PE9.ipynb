{
 "cells": [
  {
   "cell_type": "code",
   "execution_count": 4,
   "metadata": {},
   "outputs": [
    {
     "name": "stdout",
     "output_type": "stream",
     "text": [
      "This program accepts the exam score from\n",
      "0 to 100 and prints out the grade\n",
      "\n",
      "Enter the exam score: 57\n",
      "The grade for the given score is F\n"
     ]
    }
   ],
   "source": [
    "#grade.py\n",
    "#program to accept the exam score from 0 to 100\n",
    "# and prints out the grades\n",
    "\n",
    "def Exam_grade(score):\n",
    "    grades = ['F','F','F','F','F','F','F','F','F','F','F','F','F','F','F','F','F','F','F','F','F','F','F','F','F','F','F','F',\n",
    "             'F','F','F','F','F','F','F','F','F','F','F','F','F','F','F','F','F','F','F','F','F','F','F','F','F','F','F','F',\n",
    "             'F','F','F','F','D', 'D','D','D','D','D','D','D','D','D','C','C','C','C','C','C','C','C','C','C','B','B','B','B',\n",
    "             'B','B','B','B','B','B','A','A','A','A','A','A','A','A','A','A','A']\n",
    "    \n",
    "    grade = grades[score]\n",
    "    return grade\n",
    "    \n",
    "        \n",
    "def main():\n",
    "    print(\"This program accepts the exam score from\")\n",
    "    print(\"0 to 100 and prints out the grade\\n\")\n",
    "    score = int(input(\"Enter the exam score: \"))\n",
    "    print(\"The grade for the given score is\", Exam_grade(score))\n",
    "main()"
   ]
  }
 ],
 "metadata": {
  "kernelspec": {
   "display_name": "Python 3",
   "language": "python",
   "name": "python3"
  },
  "language_info": {
   "codemirror_mode": {
    "name": "ipython",
    "version": 3
   },
   "file_extension": ".py",
   "mimetype": "text/x-python",
   "name": "python",
   "nbconvert_exporter": "python",
   "pygments_lexer": "ipython3",
   "version": "3.7.6"
  }
 },
 "nbformat": 4,
 "nbformat_minor": 4
}
