{
 "cells": [
  {
   "cell_type": "code",
   "execution_count": 1,
   "metadata": {},
   "outputs": [
    {
     "name": "stdout",
     "output_type": "stream",
     "text": [
      "This program sums up the numbers in a given list\n",
      "\n",
      "Enter the values with a comma: 3, 5, 6,7\n",
      "sum of numbers in the given list is  21\n"
     ]
    }
   ],
   "source": [
    "#sum.py\n",
    "#program to sum up the numbers in a list\n",
    "\n",
    "def sumList(nums):\n",
    "    sum = 0\n",
    "    for i in range(len(nums)):\n",
    "        sum = sum + nums[i]\n",
    "    return sum\n",
    "\n",
    "def main():\n",
    "    print(\"This program sums up the numbers in a given list\\n\")\n",
    "    value = eval(input(\"Enter the values with a comma: \"))\n",
    "    values = list(value)\n",
    "    print(\"sum of numbers in the given list is \", sumList(values))\n",
    "main()                   "
   ]
  }
 ],
 "metadata": {
  "kernelspec": {
   "display_name": "Python 3",
   "language": "python",
   "name": "python3"
  },
  "language_info": {
   "codemirror_mode": {
    "name": "ipython",
    "version": 3
   },
   "file_extension": ".py",
   "mimetype": "text/x-python",
   "name": "python",
   "nbconvert_exporter": "python",
   "pygments_lexer": "ipython3",
   "version": "3.7.6"
  }
 },
 "nbformat": 4,
 "nbformat_minor": 4
}
