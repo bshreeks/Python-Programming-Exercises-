{
 "cells": [
  {
   "cell_type": "code",
   "execution_count": 1,
   "metadata": {},
   "outputs": [
    {
     "name": "stdout",
     "output_type": "stream",
     "text": [
      "This program prints several faces of varying sizes in a single window\n",
      "\n",
      "Enter the number of iteration: 3\n"
     ]
    }
   ],
   "source": [
    "#drawFace.py\n",
    "#program to draw several faces of varying size in a single window\n",
    "\n",
    "import math\n",
    "from graphics import *\n",
    "\n",
    "def drawFace(centre, size, win):\n",
    "    Face = Circle(centre, size)\n",
    "    Face.setFill(\"yellow\")\n",
    "    Face.setOutline(\"black\")\n",
    "    Face.draw(win)\n",
    "    p1 = win.getMouse()\n",
    "    x1 = p1.getX()\n",
    "    y1 = p1.getY()\n",
    "    p2=win.getMouse()\n",
    "    x2 = p2.getX()\n",
    "    y2 = p2.getY()\n",
    "    r = math.sqrt((x2-x1)**2 + (y2-y1)**2)\n",
    "    lefteye = Circle(Point(x1,y1), r)\n",
    "    lefteye.setFill(\"black\")\n",
    "    lefteye.draw(win)\n",
    "    z = win.getMouse()\n",
    "    x_1 = z.getX()\n",
    "    y_1 = z.getY()\n",
    "    righteye = lefteye.clone()\n",
    "    righteye.move(x_1-x1, 0)\n",
    "    righteye.setFill(\"black\")\n",
    "    righteye.draw(win)\n",
    "    p3 = win.getMouse()\n",
    "    x3 = p3.getX()\n",
    "    y3 = p3.getY()\n",
    "    p4 = win.getMouse()\n",
    "    x4 = p4.getX()\n",
    "    y4 = p4.getY()\n",
    "    mouth = Line(Point(x3,y3), Point(x4,y4))\n",
    "    mouth.setFill(\"black\")\n",
    "    mouth.draw(win)\n",
    "    return win\n",
    "\n",
    "def main():\n",
    "    print(\"This program prints several faces of varying sizes in a single window\\n\") \n",
    "    \n",
    "    win = GraphWin(\"Face\", 400, 300)\n",
    "    win.setCoords(0.0, 0.0, 10.0, 10.0)\n",
    "    \n",
    "    n = int(input(\"Enter the number of iteration: \"))\n",
    "    \n",
    "    for i in range(n):\n",
    "        cnt = win.getMouse()\n",
    "        x = cnt.getX()\n",
    "        y = cnt.getY()\n",
    "        centre = Point(x,y)\n",
    "    \n",
    "        rds = win.getMouse()\n",
    "        x1 = rds.getX()\n",
    "        y1 = rds.getY()\n",
    "        size = math.sqrt((x1-x)**2 + (y1-y)**2)\n",
    "        drawFace(centre, size, win)\n",
    "        \n",
    "    win.getMouse()\n",
    "    win.close()\n",
    "main()    "
   ]
  }
 ],
 "metadata": {
  "kernelspec": {
   "display_name": "Python 3",
   "language": "python",
   "name": "python3"
  },
  "language_info": {
   "codemirror_mode": {
    "name": "ipython",
    "version": 3
   },
   "file_extension": ".py",
   "mimetype": "text/x-python",
   "name": "python",
   "nbconvert_exporter": "python",
   "pygments_lexer": "ipython3",
   "version": "3.7.6"
  }
 },
 "nbformat": 4,
 "nbformat_minor": 4
}
