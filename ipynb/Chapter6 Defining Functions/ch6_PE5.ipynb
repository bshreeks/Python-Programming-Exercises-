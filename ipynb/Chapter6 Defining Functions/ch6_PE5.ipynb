{
 "cells": [
  {
   "cell_type": "code",
   "execution_count": 5,
   "metadata": {},
   "outputs": [
    {
     "name": "stdout",
     "output_type": "stream",
     "text": [
      "This program calculates the cost of square inch of a\n",
      "circular pizza given it's radius in inches\n",
      "\n",
      "Enter the radius in inches: 12\n",
      "Enter the pizza price: 20\n",
      "Cost per Square Inch of Pizza is 0.044 Inch^2\n"
     ]
    }
   ],
   "source": [
    "#pizza_cost.py\n",
    "#Program that calculates the cost of a square inch of a circular pizza\n",
    "#given it's radius in inches\n",
    "\n",
    "import math\n",
    "\n",
    "def AreaPizza(r):\n",
    "    return math.pi * (r**2)\n",
    "\n",
    "def costPizza():\n",
    "    R = float(input(\"Enter the radius in inches: \"))\n",
    "    P = float(input(\"Enter the pizza price: \"))\n",
    "    A = AreaPizza(R)\n",
    "    CPSI = P/A\n",
    "    return round(CPSI, 3)\n",
    "\n",
    "def main():\n",
    "    print(\"This program calculates the cost of square inch of a\")\n",
    "    print(\"circular pizza given it's radius in inches\")\n",
    "    print()\n",
    "    print('Cost per Square Inch of Pizza is', costPizza(), 'Inch^2')    \n",
    "    \n",
    "main()\n"
   ]
  }
 ],
 "metadata": {
  "kernelspec": {
   "display_name": "Python 3",
   "language": "python",
   "name": "python3"
  },
  "language_info": {
   "codemirror_mode": {
    "name": "ipython",
    "version": 3
   },
   "file_extension": ".py",
   "mimetype": "text/x-python",
   "name": "python",
   "nbconvert_exporter": "python",
   "pygments_lexer": "ipython3",
   "version": "3.7.6"
  }
 },
 "nbformat": 4,
 "nbformat_minor": 4
}
