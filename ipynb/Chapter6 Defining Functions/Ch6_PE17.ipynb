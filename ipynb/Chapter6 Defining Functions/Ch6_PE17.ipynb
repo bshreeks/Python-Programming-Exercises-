{
 "cells": [
  {
   "cell_type": "code",
   "execution_count": 8,
   "metadata": {},
   "outputs": [
    {
     "name": "stdout",
     "output_type": "stream",
     "text": [
      "This program draws a circle then allows the user to click the window\n",
      "ten times. Each time user clicks the circle is moved where the user clicks\n",
      "\n"
     ]
    }
   ],
   "source": [
    "#move_shape.py\n",
    "#program to draw a circle and then allows the user to click the \n",
    "#window 10 times. Each time the user clicks, the circle is moved where the user clicks.\n",
    "\n",
    "from graphics import *\n",
    "import math\n",
    "\n",
    "def moveTo(shape, newCenter):\n",
    "    oldCenter = shape.getCenter()\n",
    "    x1 = oldCenter.getX()\n",
    "    y1 = oldCenter.getY()\n",
    "    x2 = newCenter.getX()\n",
    "    y2 = newCenter.getY()\n",
    "    dx = (x2-x1)\n",
    "    dy = (y2-y1)\n",
    "    shape.move(dx, dy)\n",
    "    return shape\n",
    "    \n",
    "    \n",
    "def main():\n",
    "    print(\"This program draws a circle then allows the user to click the window\")\n",
    "    print(\"ten times. Each time user clicks the circle is moved where the user clicks\\n\")\n",
    "    \n",
    "    win = GraphWin(\"moveshape\", 400, 300)\n",
    "    win.setCoords(0.0, 0.0, 10.0, 10.0)\n",
    "    \n",
    "    center = win.getMouse()\n",
    "    radius = win.getMouse()\n",
    "    x = center.getX()\n",
    "    y = center.getY()\n",
    "    x_r = radius.getX()\n",
    "    y_r = radius.getY()\n",
    "    r = math.sqrt((x-x_r)**2+(y-y_r)**2)\n",
    "    \n",
    "    shape = Circle(Point(x,y), r)\n",
    "    shape.setFill(\"yellow\")\n",
    "    shape.draw(win)\n",
    "      \n",
    "    for i in range(10):\n",
    "        newCenter = win.getMouse()    \n",
    "        moveTo(shape, newCenter)\n",
    "    \n",
    "    win.getMouse()\n",
    "    win.close()\n",
    "    \n",
    "main()"
   ]
  }
 ],
 "metadata": {
  "kernelspec": {
   "display_name": "Python 3",
   "language": "python",
   "name": "python3"
  },
  "language_info": {
   "codemirror_mode": {
    "name": "ipython",
    "version": 3
   },
   "file_extension": ".py",
   "mimetype": "text/x-python",
   "name": "python",
   "nbconvert_exporter": "python",
   "pygments_lexer": "ipython3",
   "version": "3.7.6"
  }
 },
 "nbformat": 4,
 "nbformat_minor": 4
}
