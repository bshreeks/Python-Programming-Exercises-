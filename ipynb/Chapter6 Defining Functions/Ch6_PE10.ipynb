{
 "cells": [
  {
   "cell_type": "code",
   "execution_count": 1,
   "metadata": {},
   "outputs": [
    {
     "name": "stdout",
     "output_type": "stream",
     "text": [
      "This program returns the acronym for a phrase supplied as a string\n",
      "\n",
      "Enter the pharse: Applied Program Interface\n",
      "acronym for the given phrase is  API\n"
     ]
    }
   ],
   "source": [
    "#acronym.py\n",
    "#program to return acronym for a phrase supplied as a string\n",
    "\n",
    "def acronym(phrase):\n",
    "    Letters = []\n",
    "    for words in phrase.split(' '):\n",
    "        First_letters = words[0].upper()\n",
    "        Letters.append(First_letters)\n",
    "        acr = ''.join(Letters)\n",
    "    return acr\n",
    "def main():\n",
    "    print(\"This program returns the acronym for a phrase supplied as a string\\n\")\n",
    "    phrase = input(\"Enter the pharse: \")\n",
    "    print(\"acronym for the given phrase is \", acronym(phrase))\n",
    "main()"
   ]
  }
 ],
 "metadata": {
  "kernelspec": {
   "display_name": "Python 3",
   "language": "python",
   "name": "python3"
  },
  "language_info": {
   "codemirror_mode": {
    "name": "ipython",
    "version": 3
   },
   "file_extension": ".py",
   "mimetype": "text/x-python",
   "name": "python",
   "nbconvert_exporter": "python",
   "pygments_lexer": "ipython3",
   "version": "3.7.6"
  }
 },
 "nbformat": 4,
 "nbformat_minor": 4
}
