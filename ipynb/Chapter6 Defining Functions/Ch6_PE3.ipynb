{
 "cells": [
  {
   "cell_type": "code",
   "execution_count": 2,
   "metadata": {},
   "outputs": [
    {
     "name": "stdout",
     "output_type": "stream",
     "text": [
      "This program calculates the surface Area and the volume of a sphere given it's radius\n",
      "\n",
      "Enter the radius of a sphere: 4\n",
      "\n",
      "Surface Area:  201.06\n",
      "\n",
      "Volume:  268.08\n"
     ]
    }
   ],
   "source": [
    "#sphere_dim.py\n",
    "#Program to calculate the surface Area and the volume of the sphere given it's radius\n",
    "\n",
    "import math\n",
    "\n",
    "#this function calculates the surface area of the sphere given it's radius\n",
    "def sphereArea(radius):\n",
    "    SA = 4 * math.pi * (radius)**2\n",
    "    return SA\n",
    "\n",
    "#This function calculates the volume of a sphere given it's radius\n",
    "def sphereVolume(radius):\n",
    "    SV = 4/3 * math.pi * (radius)**3\n",
    "    return SV    \n",
    "\n",
    "def main():\n",
    "    print(\"This program calculates the surface Area and the volume of a sphere given it's radius\\n\")\n",
    "    \n",
    "    radius = float(input(\"Enter the radius of a sphere: \"))\n",
    "    print()\n",
    "    print('Surface Area: ', round(sphereArea(radius), 2))\n",
    "    print()\n",
    "    print('Volume: ', round(sphereVolume(radius), 2))\n",
    "    \n",
    "main()    "
   ]
  }
 ],
 "metadata": {
  "kernelspec": {
   "display_name": "Python 3",
   "language": "python",
   "name": "python3"
  },
  "language_info": {
   "codemirror_mode": {
    "name": "ipython",
    "version": 3
   },
   "file_extension": ".py",
   "mimetype": "text/x-python",
   "name": "python",
   "nbconvert_exporter": "python",
   "pygments_lexer": "ipython3",
   "version": "3.7.6"
  }
 },
 "nbformat": 4,
 "nbformat_minor": 4
}
