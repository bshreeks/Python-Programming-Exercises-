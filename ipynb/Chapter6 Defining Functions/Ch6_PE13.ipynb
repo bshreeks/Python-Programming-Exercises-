{
 "cells": [
  {
   "cell_type": "code",
   "execution_count": 1,
   "metadata": {
    "scrolled": true
   },
   "outputs": [
    {
     "name": "stdout",
     "output_type": "stream",
     "text": [
      "This program converts a list of strings to a list of numbers\n",
      "\n",
      "Enter numbers inside quotatiom with a comma: '7', '9', '3', '4', '66'\n",
      "[7, 9, 3, 4, 66]\n"
     ]
    }
   ],
   "source": [
    "#toNumbers.py\n",
    "#program to convert a list of strings to a list of numbers\n",
    "\n",
    "def toNumbers(strList):\n",
    "    list_num = []\n",
    "    for i in range(len(strList)):\n",
    "        list_num.append(int(strList[i])) \n",
    "    return list_num\n",
    "    \n",
    "def main():\n",
    "    print(\"This program converts a list of strings to a list of numbers\\n\")\n",
    "    values = eval(input(\"Enter numbers inside quotatiom with a comma: \"))\n",
    "    strings = list(values)\n",
    "    print(toNumbers(strings))\n",
    "main()"
   ]
  }
 ],
 "metadata": {
  "kernelspec": {
   "display_name": "Python 3",
   "language": "python",
   "name": "python3"
  },
  "language_info": {
   "codemirror_mode": {
    "name": "ipython",
    "version": 3
   },
   "file_extension": ".py",
   "mimetype": "text/x-python",
   "name": "python",
   "nbconvert_exporter": "python",
   "pygments_lexer": "ipython3",
   "version": "3.7.6"
  }
 },
 "nbformat": 4,
 "nbformat_minor": 4
}
