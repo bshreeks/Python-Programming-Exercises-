{
 "cells": [
  {
   "cell_type": "code",
   "execution_count": 2,
   "metadata": {},
   "outputs": [
    {
     "name": "stdout",
     "output_type": "stream",
     "text": [
      "This Program prints 'Sum' and 'Sum of Cubes' of first 'n' natural numbers\n",
      "\n",
      "Enter a number: 7\n",
      "\n",
      "Sum of n natural numbers:  28\n",
      "\n",
      "Sum of Cubes of n natural numbers:  784\n"
     ]
    }
   ],
   "source": [
    "#sum_cube.py\n",
    "#program to print sum and sum of cubes of first n natural numbers\n",
    "\n",
    "#function for sum of n natural numbers\n",
    "def sumN(n):\n",
    "    sum = 0\n",
    "    for i in range(1, n+1):\n",
    "        sum = sum + i\n",
    "    return sum\n",
    "    \n",
    "#function for sum of cube of n natural numbers\n",
    "def sumNCubes(n):\n",
    "    cube = 0\n",
    "    for i in range(1, n+1):\n",
    "        cube = cube + i**3\n",
    "    return cube\n",
    "    \n",
    "def main():\n",
    "    print(\"This Program prints 'Sum' and 'Sum of Cubes' of first 'n' natural numbers\\n\")\n",
    "    \n",
    "    n = int(input(\"Enter a number: \"))\n",
    "    print()\n",
    "    print(\"Sum of n natural numbers: \", sumN(n))\n",
    "    print()\n",
    "    print(\"Sum of Cubes of n natural numbers: \", sumNCubes(n))\n",
    "    \n",
    "main()    "
   ]
  }
 ],
 "metadata": {
  "kernelspec": {
   "display_name": "Python 3 (ipykernel)",
   "language": "python",
   "name": "python3"
  },
  "language_info": {
   "codemirror_mode": {
    "name": "ipython",
    "version": 3
   },
   "file_extension": ".py",
   "mimetype": "text/x-python",
   "name": "python",
   "nbconvert_exporter": "python",
   "pygments_lexer": "ipython3",
   "version": "3.9.13"
  }
 },
 "nbformat": 4,
 "nbformat_minor": 4
}
