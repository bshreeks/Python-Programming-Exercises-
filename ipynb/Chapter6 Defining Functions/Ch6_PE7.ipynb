{
 "cells": [
  {
   "cell_type": "code",
   "execution_count": 1,
   "metadata": {},
   "outputs": [
    {
     "name": "stdout",
     "output_type": "stream",
     "text": [
      "This Program Calculates nth Fibonacci Number\n",
      "\n",
      "Enter the number: 8\n",
      "Fibonacci number for a given number is  21\n"
     ]
    }
   ],
   "source": [
    "#fib.py\n",
    "#program to compute nth fibonacci number\n",
    "\n",
    "def Fib(n):\n",
    "    f1 = 0\n",
    "    f2 = 1\n",
    "    for i in range(1, n):\n",
    "        f3 = f1 + f2\n",
    "        f1 = f2\n",
    "        f2 = f3\n",
    "        if i == (n-1):\n",
    "            return f3\n",
    "        \n",
    "def main():\n",
    "    print(\"This Program Calculates nth Fibonacci Number\")\n",
    "    print()\n",
    "    n = int(input(\"Enter the number: \"))\n",
    "    print(\"Fibonacci number for a given number is \", Fib(n))\n",
    "main()"
   ]
  },
  {
   "cell_type": "code",
   "execution_count": 2,
   "metadata": {},
   "outputs": [
    {
     "name": "stdout",
     "output_type": "stream",
     "text": [
      "This Program Calculates nth Fibonacci Number\n",
      "\n",
      "Enter the number: 8\n",
      "Fibonacci number for a given number is  21\n"
     ]
    }
   ],
   "source": [
    "#fib.py\n",
    "#program to compute nth fibonacci number\n",
    "\n",
    "def Fib(n):\n",
    "    f1 = 1\n",
    "    f2 = 0\n",
    "    f3 = 1\n",
    "    for i in range(n):\n",
    "        f3 = f1 + f2\n",
    "        f1 = f2\n",
    "        f2 = f3\n",
    "    return f3\n",
    "        \n",
    "def main():\n",
    "    print(\"This Program Calculates nth Fibonacci Number\")\n",
    "    print()\n",
    "    n = int(input(\"Enter the number: \"))\n",
    "    print(\"Fibonacci number for a given number is \", Fib(n))\n",
    "main()"
   ]
  }
 ],
 "metadata": {
  "kernelspec": {
   "display_name": "Python 3 (ipykernel)",
   "language": "python",
   "name": "python3"
  },
  "language_info": {
   "codemirror_mode": {
    "name": "ipython",
    "version": 3
   },
   "file_extension": ".py",
   "mimetype": "text/x-python",
   "name": "python",
   "nbconvert_exporter": "python",
   "pygments_lexer": "ipython3",
   "version": "3.9.13"
  }
 },
 "nbformat": 4,
 "nbformat_minor": 4
}
