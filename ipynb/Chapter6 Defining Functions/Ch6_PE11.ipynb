{
 "cells": [
  {
   "cell_type": "code",
   "execution_count": 3,
   "metadata": {},
   "outputs": [
    {
     "name": "stdout",
     "output_type": "stream",
     "text": [
      "This program modifies a list by squaring each entry\n",
      "\n",
      "Enter the numbers with a comma: 9, 10, 8, 5\n",
      "Modified List is  [81, 100, 64, 25]\n"
     ]
    }
   ],
   "source": [
    "#square_each.py\n",
    "#program to modify a list by squaring each entry\n",
    "\n",
    "def squareEach(nums):\n",
    "    for i in range(len(nums)):\n",
    "        nums[i] = nums[i] * nums[i]\n",
    "    return nums\n",
    "    \n",
    "def main():\n",
    "    print(\"This program modifies a list by squaring each entry\\n\")\n",
    "    value = eval(input(\"Enter the numbers with a comma: \"))\n",
    "    values = list(value)\n",
    "    print(\"Modified List is \", squareEach(values))\n",
    "main()   "
   ]
  }
 ],
 "metadata": {
  "kernelspec": {
   "display_name": "Python 3",
   "language": "python",
   "name": "python3"
  },
  "language_info": {
   "codemirror_mode": {
    "name": "ipython",
    "version": 3
   },
   "file_extension": ".py",
   "mimetype": "text/x-python",
   "name": "python",
   "nbconvert_exporter": "python",
   "pygments_lexer": "ipython3",
   "version": "3.7.6"
  }
 },
 "nbformat": 4,
 "nbformat_minor": 4
}
