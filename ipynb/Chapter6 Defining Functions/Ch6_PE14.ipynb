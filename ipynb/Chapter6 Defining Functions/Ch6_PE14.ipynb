{
 "cells": [
  {
   "cell_type": "code",
   "execution_count": null,
   "metadata": {},
   "outputs": [],
   "source": [
    "#SumOfSquares.py\n",
    "#program to compute the sum of squares of numbers read from a file\n",
    "\n",
    "#function to convert list of strings to list of numbers\n",
    "def toNumbers(strList):\n",
    "    list_num = []\n",
    "    for i in range(len(strList)):\n",
    "        list_num.append(float(strList[i])) \n",
    "    return list_num\n",
    "\n",
    "#function to square each number in a list\n",
    "def squareEach(nums):\n",
    "    for i in range(len(nums)):\n",
    "        nums[i] = nums[i] * nums[i]\n",
    "    return nums\n",
    "\n",
    "#function to sum up all the numbers in a list\n",
    "def sumList(nums):\n",
    "    sum = 0\n",
    "    for i in range(len(nums)):\n",
    "        sum = sum + nums[i]\n",
    "    return sum\n",
    "\n",
    "def main():\n",
    "    print(\"This program computes the sum of squares of numbers read from a file\\n\")\n",
    "    \n",
    "    #get the file names\n",
    "    infileName = input(\"Enter the file name \")\n",
    "    outfileName = input(\"Enter the outfile name \")\n",
    "    \n",
    "    #open the files\n",
    "    infile = open(infileName, \"r\")\n",
    "    outfile = open(outfileName, \"w\")\n",
    "    \n",
    "    num_lst=[]\n",
    "    for line in infile.readlines():\n",
    "        line.append(num_lst)\n",
    "        \n",
    "    lst_num = toNumbers(num_lst)\n",
    "    sqr_num = squareEach(lst_num)\n",
    "    sum_num = sumList(sqr_num)\n",
    "        \n",
    "        #write it to output file\n",
    "    print(sum_num, file=outfile)\n",
    "        \n",
    "    #close the files\n",
    "    infile.close()\n",
    "    outfile.close()\n",
    "        \n",
    "    print(\"sum of the squares of the numbers have been stored\", outfileName)\n",
    "    \n",
    "main()       "
   ]
  },
  {
   "cell_type": "markdown",
   "metadata": {},
   "source": [
    "we want to check if our program works without giving file names and it does"
   ]
  },
  {
   "cell_type": "code",
   "execution_count": 1,
   "metadata": {},
   "outputs": [
    {
     "name": "stdout",
     "output_type": "stream",
     "text": [
      "This program computes the sum of squares of numbers read from a file\n",
      "\n",
      "Enter the numbers inside the quotation :'33', '5', '7', '100'\n",
      "sum of the squares of the numbers 11163.0\n"
     ]
    }
   ],
   "source": [
    "#function to convert the strings into numerics in a list\n",
    "def toNumbers(strList):\n",
    "    list_num = []\n",
    "    for i in range(len(strList)):\n",
    "        list_num.append(float(strList[i])) \n",
    "    return list_num\n",
    "\n",
    "#function to square each number in a list\n",
    "def squareEach(nums):\n",
    "    for i in range(len(nums)):\n",
    "        nums[i] = nums[i] * nums[i]\n",
    "    return nums\n",
    "\n",
    "#function to sum up all the numbers in a list\n",
    "def sumList(nums):\n",
    "    sum = 0\n",
    "    for i in range(len(nums)):\n",
    "        sum = sum + nums[i]\n",
    "    return sum\n",
    "\n",
    "def main():\n",
    "    print(\"This program computes the sum of squares of numbers read from a file\\n\")\n",
    "    numbers = eval(input(\"Enter the numbers inside the quotation :\"))\n",
    "    num_lst = list(numbers)\n",
    "    #process each line of the input file\n",
    "    lst_num = toNumbers(num_lst)\n",
    "    sqr_num = squareEach(lst_num)\n",
    "    sum_num = sumList(sqr_num)\n",
    "        \n",
    "                \n",
    "    print(\"sum of the squares of the numbers\", sum_num)\n",
    "    \n",
    "main()  "
   ]
  }
 ],
 "metadata": {
  "kernelspec": {
   "display_name": "Python 3",
   "language": "python",
   "name": "python3"
  },
  "language_info": {
   "codemirror_mode": {
    "name": "ipython",
    "version": 3
   },
   "file_extension": ".py",
   "mimetype": "text/x-python",
   "name": "python",
   "nbconvert_exporter": "python",
   "pygments_lexer": "ipython3",
   "version": "3.7.6"
  }
 },
 "nbformat": 4,
 "nbformat_minor": 4
}
