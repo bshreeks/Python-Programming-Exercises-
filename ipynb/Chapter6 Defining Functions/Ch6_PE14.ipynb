{
 "cells": [
  {
   "cell_type": "code",
   "execution_count": 4,
   "metadata": {},
   "outputs": [
    {
     "name": "stdout",
     "output_type": "stream",
     "text": [
      "This program computes the sum of squares of numbers read from a file\n",
      "\n",
      "Enter the file name test_14.txt\n",
      "Enter the outfile name test_14_out.txt\n",
      "sum of the squares of the numbers have been stored test_14_out.txt\n"
     ]
    }
   ],
   "source": [
    "#SumOfSquares.py\n",
    "#program to compute the sum of squares of numbers read from a file\n",
    "\n",
    "#function to convert list of strings to list of numbers\n",
    "def toNumbers(strList):\n",
    "    list_num = []\n",
    "    for i in range(len(strList)):\n",
    "        list_num.append(float(strList[i])) \n",
    "    return list_num\n",
    "\n",
    "#function to square each number in a list\n",
    "def squareEach(nums):\n",
    "    for i in range(len(nums)):\n",
    "        nums[i] = nums[i] * nums[i]\n",
    "    return nums\n",
    "\n",
    "#function to sum up all the numbers in a list\n",
    "def sumList(nums):\n",
    "    sum = 0\n",
    "    for i in range(len(nums)):\n",
    "        sum = sum + nums[i]\n",
    "    return sum\n",
    "\n",
    "def main():\n",
    "    print(\"This program computes the sum of squares of numbers read from a file\\n\")\n",
    "    \n",
    "    #get the file names\n",
    "    infileName = input(\"Enter the file name \")\n",
    "    outfileName = input(\"Enter the outfile name \")\n",
    "    \n",
    "    #open the files\n",
    "    infile = open(infileName, \"r\")\n",
    "    outfile = open(outfileName, \"w\")\n",
    "    \n",
    "    num_lst=[]\n",
    "    for line in infile.readlines():\n",
    "        num_lst.append(line)\n",
    "        \n",
    "    lst_num = toNumbers(num_lst)\n",
    "    sqr_num = squareEach(lst_num)\n",
    "    sum_num = sumList(sqr_num)\n",
    "        \n",
    "        #write it to output file\n",
    "    print(sum_num, file=outfile)\n",
    "        \n",
    "    #close the files\n",
    "    infile.close()\n",
    "    outfile.close()\n",
    "        \n",
    "    print(\"sum of the squares of the numbers have been stored\", outfileName)\n",
    "    \n",
    "main()       "
   ]
  }
 ],
 "metadata": {
  "kernelspec": {
   "display_name": "Python 3 (ipykernel)",
   "language": "python",
   "name": "python3"
  },
  "language_info": {
   "codemirror_mode": {
    "name": "ipython",
    "version": 3
   },
   "file_extension": ".py",
   "mimetype": "text/x-python",
   "name": "python",
   "nbconvert_exporter": "python",
   "pygments_lexer": "ipython3",
   "version": "3.9.13"
  }
 },
 "nbformat": 4,
 "nbformat_minor": 4
}
