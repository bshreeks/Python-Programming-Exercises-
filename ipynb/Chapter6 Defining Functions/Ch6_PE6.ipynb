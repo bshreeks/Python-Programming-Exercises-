{
 "cells": [
  {
   "cell_type": "code",
   "execution_count": 2,
   "metadata": {},
   "outputs": [
    {
     "name": "stdout",
     "output_type": "stream",
     "text": [
      "This program computes and displays the Area of a triangle given\n",
      "the length of it's three sides\n",
      "\n",
      "Enter the length of three sides: 5, 8, 5\n",
      "Area of the triangle is  12.0\n"
     ]
    }
   ],
   "source": [
    "#Tri_Area.py\n",
    "#Program to compute & display the Area of a triangle given length of it's 3 sides\n",
    "import math\n",
    "from graphics import *\n",
    "\n",
    "#compute the area of a triangle given length of it's 3 sides\n",
    "def Tria_Area(a, b, c):\n",
    "    s = (a + b + c)/2\n",
    "    A = math.sqrt(s*(s-a)*(s-b)*(s-c))\n",
    "    return A\n",
    "\n",
    "def main():\n",
    "    print(\"This program computes and displays the Area of a triangle given\")\n",
    "    print(\"the length of it's three sides\\n\")\n",
    "    num1, num2, num3 = input(\"Enter the length of three sides: \").split(',')\n",
    "    area = Tria_Area(float(num1), float(num2), float(num3))\n",
    "    print(\"Area of the triangle is \", round(area, 2))\n",
    "    \n",
    "    win = GraphWin(\"Display the Area of a triangle\", 320, 240)\n",
    "    win.setCoords(0.0, 0.0, 10.0, 10.0)\n",
    "    message = Text(Point(5.0, 5.0), \"Area of a triangle\")\n",
    "    message.draw(win)\n",
    "    message.setText(\"The area of a triangle is: {0:0.2f}\".format(area))\n",
    "    \n",
    "    win.getMouse()\n",
    "    win.close()\n",
    "    \n",
    "main()"
   ]
  }
 ],
 "metadata": {
  "kernelspec": {
   "display_name": "Python 3",
   "language": "python",
   "name": "python3"
  },
  "language_info": {
   "codemirror_mode": {
    "name": "ipython",
    "version": 3
   },
   "file_extension": ".py",
   "mimetype": "text/x-python",
   "name": "python",
   "nbconvert_exporter": "python",
   "pygments_lexer": "ipython3",
   "version": "3.7.6"
  }
 },
 "nbformat": 4,
 "nbformat_minor": 4
}
