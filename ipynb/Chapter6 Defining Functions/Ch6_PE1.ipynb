{
 "cells": [
  {
   "cell_type": "code",
   "execution_count": 7,
   "metadata": {},
   "outputs": [
    {
     "name": "stdout",
     "output_type": "stream",
     "text": [
      "This program prints the lyrics of the song 'Old MacDonals' for five different animals\n",
      "\n",
      "Old MacDonal had a farm, Ee-igh, Ee-igh, Oh!\n",
      "And on that farm he had a cow, Ee-igh, Ee-igh, oh!\n",
      "With a moo, moo, here and a moo, moo there.\n",
      "Here a moo, there a moo, everywhere a moo, moo.\n",
      "Old MacDonal had a farm, Ee-igh, Ee-igh, Oh!\n",
      "\n",
      "Old MacDonal had a farm, Ee-igh, Ee-igh, Oh!\n",
      "And on that farm he had a pig, Ee-igh, Ee-igh, oh!\n",
      "With a oink, oink, here and a oink, oink there.\n",
      "Here a oink, there a oink, everywhere a oink, oink.\n",
      "Old MacDonal had a farm, Ee-igh, Ee-igh, Oh!\n",
      "\n",
      "Old MacDonal had a farm, Ee-igh, Ee-igh, Oh!\n",
      "And on that farm he had a sheep, Ee-igh, Ee-igh, oh!\n",
      "With a baa, baa, here and a baa, baa there.\n",
      "Here a baa, there a baa, everywhere a baa, baa.\n",
      "Old MacDonal had a farm, Ee-igh, Ee-igh, Oh!\n",
      "\n",
      "Old MacDonal had a farm, Ee-igh, Ee-igh, Oh!\n",
      "And on that farm he had a duck, Ee-igh, Ee-igh, oh!\n",
      "With a quack, quack, here and a quack, quack there.\n",
      "Here a quack, there a quack, everywhere a quack, quack.\n",
      "Old MacDonal had a farm, Ee-igh, Ee-igh, Oh!\n",
      "\n",
      "Old MacDonal had a farm, Ee-igh, Ee-igh, Oh!\n",
      "And on that farm he had a horse, Ee-igh, Ee-igh, oh!\n",
      "With a neigh, neigh, here and a neigh, neigh there.\n",
      "Here a neigh, there a neigh, everywhere a neigh, neigh.\n",
      "Old MacDonal had a farm, Ee-igh, Ee-igh, Oh!\n",
      "\n"
     ]
    }
   ],
   "source": [
    "#oldMacDonald.py\n",
    "#program to print the lyrics of the song \"Old MacDonald\", for five different animals\n",
    "\n",
    "#define a function which returns the first verse of the song\n",
    "def oldmac():\n",
    "    print(\"Old MacDonal had a farm, Ee-igh, Ee-igh, Oh!\")\n",
    "\n",
    "#define the function which returns the full song\n",
    "def farm(animal, sound):   \n",
    "    oldmac() \n",
    "    print(\"And on that farm he had a \" + animal +\", Ee-igh, Ee-igh, oh!\") \n",
    "    print(\"With a \" + sound + \", \" + sound + \", here and a \" +  sound + \", \" + sound + \" there.\")\n",
    "    print(\"Here a \"  + sound + \", there a \"  +  sound + \", everywhere a \"  +  sound + \", \" + sound + '.')\n",
    "    oldmac() \n",
    "    print()\n",
    "\n",
    "def main():\n",
    "    print(\"This program prints the lyrics of the song 'Old MacDonals' for five different animals\\n\")\n",
    "    animal = ['cow', 'pig', 'sheep', 'duck', 'horse']\n",
    "    sound =  ['moo', 'oink', 'baa','quack', 'neigh']\n",
    "    for ani, snd in zip(animal, sound):\n",
    "        farm(ani, snd)\n",
    "            \n",
    "main()"
   ]
  }
 ],
 "metadata": {
  "kernelspec": {
   "display_name": "Python 3",
   "language": "python",
   "name": "python3"
  },
  "language_info": {
   "codemirror_mode": {
    "name": "ipython",
    "version": 3
   },
   "file_extension": ".py",
   "mimetype": "text/x-python",
   "name": "python",
   "nbconvert_exporter": "python",
   "pygments_lexer": "ipython3",
   "version": "3.7.6"
  }
 },
 "nbformat": 4,
 "nbformat_minor": 4
}
