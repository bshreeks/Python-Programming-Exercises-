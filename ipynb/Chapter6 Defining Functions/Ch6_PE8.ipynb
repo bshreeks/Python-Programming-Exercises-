{
 "cells": [
  {
   "cell_type": "code",
   "execution_count": 6,
   "metadata": {},
   "outputs": [
    {
     "name": "stdout",
     "output_type": "stream",
     "text": [
      "This program guesses the square-root of a given number\n",
      "\n",
      "Enter the number: 7\n",
      "Enter the guess number: 3\n",
      "('square-root is ', 2.667, 'Difference is ', 0.0209)\n",
      "Enter the guess number: 2.667\n",
      "('square-root is ', 2.646, 'Difference is ', 0.0001)\n",
      "Enter the guess number: 2.646\n",
      "('square-root is ', 2.646, 'Difference is ', 0.0)\n",
      "Enter the guess number: 2.64\n",
      "('square-root is ', 2.646, 'Difference is ', 0.0)\n"
     ]
    }
   ],
   "source": [
    "#nextGuess.py\n",
    "#program to guess the square-root of a given number\n",
    "\n",
    "import math\n",
    "\n",
    "def nextGuess(guess, x):\n",
    "    sqrt = (guess + (x/guess))/2\n",
    "    diff = sqrt - math.sqrt(x)\n",
    "    return \"square-root is \", round(sqrt,3), \"Difference is \", round(diff,4)\n",
    "\n",
    "def main():\n",
    "    print(\"This program guesses the square-root of a given number\")\n",
    "    print()\n",
    "    x = float(input(\"Enter the number: \"))\n",
    "    for i in range(4):\n",
    "        guess = float(input(\"Enter the guess number: \"))\n",
    "        print(nextGuess(guess, x))\n",
    "main()    "
   ]
  }
 ],
 "metadata": {
  "kernelspec": {
   "display_name": "Python 3",
   "language": "python",
   "name": "python3"
  },
  "language_info": {
   "codemirror_mode": {
    "name": "ipython",
    "version": 3
   },
   "file_extension": ".py",
   "mimetype": "text/x-python",
   "name": "python",
   "nbconvert_exporter": "python",
   "pygments_lexer": "ipython3",
   "version": "3.7.6"
  }
 },
 "nbformat": 4,
 "nbformat_minor": 4
}
