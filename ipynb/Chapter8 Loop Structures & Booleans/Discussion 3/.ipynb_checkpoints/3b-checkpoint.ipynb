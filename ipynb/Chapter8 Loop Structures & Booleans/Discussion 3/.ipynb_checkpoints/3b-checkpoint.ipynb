{
 "cells": [
  {
   "cell_type": "code",
   "execution_count": 7,
   "metadata": {},
   "outputs": [
    {
     "name": "stdout",
     "output_type": "stream",
     "text": [
      "This program calculates the sum of first n odd numbers\n",
      "\n",
      "Enter a positive odd number: 6\n",
      "Sum of first n odd numbers 9\n"
     ]
    }
   ],
   "source": [
    "#sum_of_odd_num.py\n",
    "#program to calculate first n odd numbers using a while loop\n",
    "\n",
    "def main():\n",
    "    print(\"This program calculates the sum of first n odd numbers\\n\")\n",
    "    \n",
    "    sum = 0\n",
    "    i = 1\n",
    "    n = int(input(\"Enter a positive odd number: \"))\n",
    "    \n",
    "    while i <= n:\n",
    "        sum = sum + i\n",
    "        i = i + 2\n",
    "        \n",
    "    print(\"Sum of first n odd numbers\", sum)\n",
    "main()"
   ]
  }
 ],
 "metadata": {
  "kernelspec": {
   "display_name": "Python 3",
   "language": "python",
   "name": "python3"
  },
  "language_info": {
   "codemirror_mode": {
    "name": "ipython",
    "version": 3
   },
   "file_extension": ".py",
   "mimetype": "text/x-python",
   "name": "python",
   "nbconvert_exporter": "python",
   "pygments_lexer": "ipython3",
   "version": "3.7.6"
  }
 },
 "nbformat": 4,
 "nbformat_minor": 4
}
