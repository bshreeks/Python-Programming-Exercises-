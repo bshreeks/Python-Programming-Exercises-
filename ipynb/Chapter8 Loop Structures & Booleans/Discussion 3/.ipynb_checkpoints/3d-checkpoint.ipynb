{
 "cells": [
  {
   "cell_type": "code",
   "execution_count": 18,
   "metadata": {},
   "outputs": [
    {
     "name": "stdout",
     "output_type": "stream",
     "text": [
      "This program calculates the number of times a whole number n can be divided\n",
      "by 2 (using integer division) before reaching 1 (i.e. log(2)n)\n",
      "\n",
      "Enter a whole number: 1000000000\n",
      "Number of times the given number divided by 2 before reaching one is 29\n"
     ]
    }
   ],
   "source": [
    "#int_div_by_2.py\n",
    "#program that calculates the number of times a whole number n \n",
    "#can be divided by 2 (using integer division) before reaching 1 (i.e. log(2)n)\n",
    "\n",
    "def main():\n",
    "    print(\"This program calculates the number of times a whole number n can be divided\")\n",
    "    print(\"by 2 (using integer division) before reaching 1 (i.e. log(2)n)\\n\")\n",
    "    \n",
    "    count = 0\n",
    "    n = int(input(\"Enter a whole number: \"))\n",
    "    \n",
    "    while n > 1:\n",
    "        i = n // 2\n",
    "        count = count + 1\n",
    "        n = i\n",
    "            \n",
    "    print(\"Number of times the given number divided by 2 before reaching one is\",count)\n",
    "main()"
   ]
  }
 ],
 "metadata": {
  "kernelspec": {
   "display_name": "Python 3",
   "language": "python",
   "name": "python3"
  },
  "language_info": {
   "codemirror_mode": {
    "name": "ipython",
    "version": 3
   },
   "file_extension": ".py",
   "mimetype": "text/x-python",
   "name": "python",
   "nbconvert_exporter": "python",
   "pygments_lexer": "ipython3",
   "version": "3.7.6"
  }
 },
 "nbformat": 4,
 "nbformat_minor": 4
}
