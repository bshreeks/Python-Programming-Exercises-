{
 "cells": [
  {
   "cell_type": "code",
   "execution_count": 3,
   "metadata": {
    "scrolled": true
   },
   "outputs": [
    {
     "name": "stdout",
     "output_type": "stream",
     "text": [
      "This program calculates the sum of first n numbers using while loop\n",
      "\n",
      "Enter a positive number: 100\n",
      "The sum of first n numbers is  5050\n"
     ]
    }
   ],
   "source": [
    "#Sum_of_n_numbers.py\n",
    "#program to calculate the sum of first n counting numbers using while loop\n",
    "\n",
    "def main():\n",
    "    print(\"This program calculates the sum of first n numbers using while loop\\n\")\n",
    "    \n",
    "    sum = 0\n",
    "    i = 0\n",
    "    n = int(input(\"Enter a positive number: \"))\n",
    "    \n",
    "    while i <= n:\n",
    "        sum = sum + i\n",
    "        i = i + 1\n",
    "        \n",
    "    print(\"The sum of first n numbers is \", sum)\n",
    "    \n",
    "main()"
   ]
  }
 ],
 "metadata": {
  "kernelspec": {
   "display_name": "Python 3",
   "language": "python",
   "name": "python3"
  },
  "language_info": {
   "codemirror_mode": {
    "name": "ipython",
    "version": 3
   },
   "file_extension": ".py",
   "mimetype": "text/x-python",
   "name": "python",
   "nbconvert_exporter": "python",
   "pygments_lexer": "ipython3",
   "version": "3.7.6"
  }
 },
 "nbformat": 4,
 "nbformat_minor": 4
}
