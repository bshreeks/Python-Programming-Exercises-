{
 "cells": [
  {
   "cell_type": "code",
   "execution_count": 7,
   "metadata": {},
   "outputs": [
    {
     "name": "stdout",
     "output_type": "stream",
     "text": [
      "This program calculates the sum of a series of numbers\n",
      "below the value 999 using while loop\n",
      "\n",
      "Enter a positive number less than 999: 998\n",
      "Sum of the series is 498501\n"
     ]
    }
   ],
   "source": [
    "#sum_of_series_999.py\n",
    "#program to calculate the sum of a series of numbers \n",
    "#below the value 999 is entered using while loop\n",
    "\n",
    "def main():\n",
    "    print(\"This program calculates the sum of a series of numbers\")\n",
    "    print(\"below the value 999 using while loop\\n\")\n",
    "    \n",
    "    sum = 0\n",
    "    i = 0\n",
    "    \n",
    "    n = eval(input(\"Enter a positive number less than 999: \"))\n",
    "    \n",
    "    while True:\n",
    "        if n < 999 and i <= n:\n",
    "            sum = sum + i\n",
    "            i = i + 1\n",
    "            \n",
    "        else:\n",
    "            break\n",
    "    print(\"Sum of the series is\", sum)\n",
    "main()"
   ]
  }
 ],
 "metadata": {
  "kernelspec": {
   "display_name": "Python 3",
   "language": "python",
   "name": "python3"
  },
  "language_info": {
   "codemirror_mode": {
    "name": "ipython",
    "version": 3
   },
   "file_extension": ".py",
   "mimetype": "text/x-python",
   "name": "python",
   "nbconvert_exporter": "python",
   "pygments_lexer": "ipython3",
   "version": "3.7.6"
  }
 },
 "nbformat": 4,
 "nbformat_minor": 4
}
