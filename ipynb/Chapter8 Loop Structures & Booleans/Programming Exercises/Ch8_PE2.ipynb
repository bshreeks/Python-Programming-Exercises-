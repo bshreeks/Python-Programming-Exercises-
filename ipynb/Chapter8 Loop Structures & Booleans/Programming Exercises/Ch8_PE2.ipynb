{
 "cells": [
  {
   "cell_type": "code",
   "execution_count": 1,
   "metadata": {},
   "outputs": [
    {
     "name": "stdout",
     "output_type": "stream",
     "text": [
      "This program prints a nicely formatted table of windchill values given temperature in degrees Fahrenheit and windspeed\n",
      "miles per hour\n",
      "\n",
      "-20           -10           0             10            20            30            40            50            60            _____________________________________________________________________________________________________________________/n\n",
      "0.000         0.000         0.000         0.000         0.000         0.000         0.000         0.000         0.000         -34.00        -22.26        -10.51        1.24          12.98         24.73         36.47         48.22         59.96         -40.72        -28.33        -15.93        -3.54         8.85          21.25         33.64         46.04         58.43         -45.01        -32.21        -19.40        -6.59         6.22          19.03         31.84         44.64         57.45         -48.23        -35.11        -22.00        -8.88         4.24          17.36         30.48         43.60         56.72         -50.83        -37.46        -24.09        -10.72        2.65          16.02         29.39         42.76         56.13         -53.03        -39.45        -25.86        -12.28        1.30          14.88         28.46         42.04         55.63         -54.93        -41.17        -27.40        -13.64        0.13          13.89         27.66         41.43         55.19         -56.62        -42.70        -28.77        -14.84        -0.91         13.02         26.95         40.88         54.81         -58.14        -44.07        -29.99        -15.92        -1.84         12.23         26.31         40.38         54.46         -59.53        -45.32        -31.11        -16.90        -2.69         11.52         25.73         39.93         54.14         "
     ]
    }
   ],
   "source": [
    "#windchill.py\n",
    "#program that prints a nicely formatted table of windchill values using while loop\n",
    "\n",
    "def windchill(V):\n",
    "    for T in range(-20, 61, 10):\n",
    "        WC = 35.74 + 0.6215 * T - 35.75 * (V ** 0.16) + 0.4275 * T * (V**0.16)\n",
    "        if V < 3:\n",
    "            print(\"{0:<14.3f}\".format(0), end = \"\")\n",
    "                                   \n",
    "        elif V <= 50:\n",
    "            print(\"{0:<14.2f}\".format(WC), end=\"\")\n",
    "            \n",
    "def main():\n",
    "    print(\"This program prints a nicely formatted table of windchill values given temperature in degrees Fahrenheit and windspeed\")\n",
    "    print(\"miles per hour\\n\") \n",
    "    for T in range(-20, 61, 10):\n",
    "        print(\"{0:<14}\".format(T), end = \"\")\n",
    "    print(\"_____________________________________________________________________________________________________________________/n\")\n",
    "        \n",
    "    V = 0\n",
    "    while V <= 50:\n",
    "        windchill(V)\n",
    "        V += 5\n",
    "main()        "
   ]
  }
 ],
 "metadata": {
  "kernelspec": {
   "display_name": "Python 3",
   "language": "python",
   "name": "python3"
  },
  "language_info": {
   "codemirror_mode": {
    "name": "ipython",
    "version": 3
   },
   "file_extension": ".py",
   "mimetype": "text/x-python",
   "name": "python",
   "nbconvert_exporter": "python",
   "pygments_lexer": "ipython3",
   "version": "3.7.6"
  }
 },
 "nbformat": 4,
 "nbformat_minor": 4
}
