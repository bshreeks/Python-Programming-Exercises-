{
 "cells": [
  {
   "cell_type": "code",
   "execution_count": 16,
   "metadata": {},
   "outputs": [
    {
     "name": "stdout",
     "output_type": "stream",
     "text": [
      "This program prints a Syracuse sequence for a user given a whole number\n",
      "\n",
      "Enter a whole number: 5\n",
      "\n",
      "The Syracuse sequence for a given number is:\n",
      "5,16,8,4,2,1,"
     ]
    }
   ],
   "source": [
    "#Syr_Sqn.py\n",
    "#Program that prints a Syracuse Sequence for a user given whole number\n",
    "\n",
    "#define a Syr() function\n",
    "def Syr(x):\n",
    "    if x % 2 == 0:\n",
    "        x = x / 2\n",
    "    elif x % 2 == 1:\n",
    "        x = (3 * x) + 1\n",
    "    return int(x)\n",
    "\n",
    "\n",
    "def main():\n",
    "    print(\"This program prints a Syracuse sequence for a user given a whole number\\n\")\n",
    "    n =int(input(\"Enter a whole number: \"))\n",
    "    print(\"\\nThe Syracuse sequence for a given number is:\")\n",
    "    while n >= 1:\n",
    "        print(n, end = \",\")\n",
    "        if n == 1:\n",
    "            break\n",
    "        else:\n",
    "            output = Syr(n)\n",
    "            n = output\n",
    "main()"
   ]
  }
 ],
 "metadata": {
  "kernelspec": {
   "display_name": "Python 3 (ipykernel)",
   "language": "python",
   "name": "python3"
  },
  "language_info": {
   "codemirror_mode": {
    "name": "ipython",
    "version": 3
   },
   "file_extension": ".py",
   "mimetype": "text/x-python",
   "name": "python",
   "nbconvert_exporter": "python",
   "pygments_lexer": "ipython3",
   "version": "3.9.13"
  }
 },
 "nbformat": 4,
 "nbformat_minor": 4
}
