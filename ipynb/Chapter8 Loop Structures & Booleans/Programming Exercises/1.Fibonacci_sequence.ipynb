{
 "cells": [
  {
   "cell_type": "code",
   "execution_count": 9,
   "metadata": {},
   "outputs": [
    {
     "name": "stdout",
     "output_type": "stream",
     "text": [
      "This program computes and outputs the nth Fibonacci number, \n",
      "where n is the value entered by the user\n",
      "\n",
      "Enter a number 10\n",
      "The nth Fibonacci number is 55\n"
     ]
    }
   ],
   "source": [
    "#Fib.py\n",
    "#program that computes and outputs the nth Fibonacci number, where\n",
    "#n is the value entered by the user\n",
    "\n",
    "def main():\n",
    "    print(\"This program computes and outputs the nth Fibonacci number, \")\n",
    "    print(\"where n is the value entered by the user\\n\")\n",
    "    n = int(input(\"Enter a number \"))\n",
    "    f1 = 1\n",
    "    f2 = 0\n",
    "    f3 = 1\n",
    "    i = 1\n",
    "    \n",
    "    while i < (n + 1):\n",
    "        i = i + 1\n",
    "        f3 = f1 + f2\n",
    "        f1 = f2\n",
    "        f2 = f3\n",
    "        \n",
    "    print(\"The nth Fibonacci number is\", f3)\n",
    "main()     "
   ]
  }
 ],
 "metadata": {
  "kernelspec": {
   "display_name": "Python 3",
   "language": "python",
   "name": "python3"
  },
  "language_info": {
   "codemirror_mode": {
    "name": "ipython",
    "version": 3
   },
   "file_extension": ".py",
   "mimetype": "text/x-python",
   "name": "python",
   "nbconvert_exporter": "python",
   "pygments_lexer": "ipython3",
   "version": "3.7.6"
  }
 },
 "nbformat": 4,
 "nbformat_minor": 4
}
