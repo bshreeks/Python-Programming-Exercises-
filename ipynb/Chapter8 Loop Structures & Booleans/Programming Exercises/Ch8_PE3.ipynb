{
 "cells": [
  {
   "cell_type": "code",
   "execution_count": 21,
   "metadata": {},
   "outputs": [
    {
     "name": "stdout",
     "output_type": "stream",
     "text": [
      "This program determines how long does it take for an investment to double\n",
      "at a given interest rate\n",
      "Enter the amount: 1000\n",
      "Enter the annual interest rate: 0.02\n",
      "Time taken for the given investment of $ 1000.0 to double at an interest rate of 0.02 is 10 years\n"
     ]
    }
   ],
   "source": [
    "#double_investment.py\n",
    "\n",
    "def main():\n",
    "    print(\"This program determines how long does it take for an investment to double\")\n",
    "    print(\"at a given interest rate\")\n",
    "    \n",
    "    amount = float(input(\"Enter the amount: \"))\n",
    "    AIR = float(input(\"Enter the annual interest rate: \"))\n",
    "    x = amount * 2\n",
    "\n",
    "    i = amount\n",
    "    year = 0\n",
    "    while i <= x:\n",
    "        i = i *(1 + AIR*year)\n",
    "        year = year + 1\n",
    "    \n",
    "    print(\"Time taken for the given investment of $\",amount, \"to double at an interest rate of\", AIR,\"is\", year, \"years\")\n",
    "\n",
    "main()    "
   ]
  }
 ],
 "metadata": {
  "kernelspec": {
   "display_name": "Python 3",
   "language": "python",
   "name": "python3"
  },
  "language_info": {
   "codemirror_mode": {
    "name": "ipython",
    "version": 3
   },
   "file_extension": ".py",
   "mimetype": "text/x-python",
   "name": "python",
   "nbconvert_exporter": "python",
   "pygments_lexer": "ipython3",
   "version": "3.7.6"
  }
 },
 "nbformat": 4,
 "nbformat_minor": 4
}
