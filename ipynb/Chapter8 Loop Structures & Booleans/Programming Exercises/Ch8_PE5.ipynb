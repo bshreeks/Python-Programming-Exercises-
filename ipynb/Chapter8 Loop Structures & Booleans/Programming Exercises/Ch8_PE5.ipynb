{
 "cells": [
  {
   "cell_type": "code",
   "execution_count": 95,
   "id": "437f9881",
   "metadata": {},
   "outputs": [
    {
     "name": "stdout",
     "output_type": "stream",
     "text": [
      "This program accepts a value n as input and determines if the value is a prime number or not\n",
      "Enter a whole number greater than 2 9\n",
      "is not a prime number\n"
     ]
    }
   ],
   "source": [
    "# is_prime.py\n",
    "#program that accepts a value n as input and determines if the value is a prime number or not\n",
    "\n",
    "import math\n",
    "\n",
    "def is_prime(x):\n",
    "    ans=True\n",
    "    i = 2\n",
    "    while i <= int(math.sqrt(x)):\n",
    "        if x % i == 0:\n",
    "            ans = False\n",
    "            break    \n",
    "        i += 1\n",
    "    return ans\n",
    "    \n",
    "        \n",
    "def main():\n",
    "    print(\"This program accepts a value n as input and determines if the value is a prime number or not\")\n",
    "    n = float(input(\"Enter a whole number greater than 2 \")) \n",
    "    if is_prime(n) == True:\n",
    "        print(\"is a prime number\")\n",
    "    else:\n",
    "        print(\"is not a prime number\")\n",
    "main()"
   ]
  }
 ],
 "metadata": {
  "kernelspec": {
   "display_name": "Python 3 (ipykernel)",
   "language": "python",
   "name": "python3"
  },
  "language_info": {
   "codemirror_mode": {
    "name": "ipython",
    "version": 3
   },
   "file_extension": ".py",
   "mimetype": "text/x-python",
   "name": "python",
   "nbconvert_exporter": "python",
   "pygments_lexer": "ipython3",
   "version": "3.9.13"
  }
 },
 "nbformat": 4,
 "nbformat_minor": 5
}
